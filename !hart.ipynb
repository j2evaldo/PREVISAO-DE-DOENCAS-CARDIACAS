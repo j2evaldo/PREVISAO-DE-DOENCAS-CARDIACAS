{
 "cells": [
  {
   "cell_type": "markdown",
   "metadata": {},
   "source": [
    "# **ANÁLISE DE DADOS CARDIÁCOS - PREVISÃO DE DOENÇA CARDIÁCA**\n",
    "\n",
    "O objetivo deste projeto é denselvolver um algoritmo de Machine Learning que fará a previsão da tendência de uma pessoa desenvolver algum tipo de doença cardiáca. \n",
    "\n",
    "A base de dados foi extraida do site Kaggle e pode ser acessada neste [link](https://www.kaggle.com/fedesoriano/heart-failure-prediction/version/1)\n",
    "\n",
    "\n",
    "\n",
    "https://www.kaggle.com/code/durgancegaur/a-guide-to-any-classification-problem"
   ]
  },
  {
   "cell_type": "markdown",
   "metadata": {},
   "source": [
    "==========================================================================================================================\n",
    "\n",
    "## **SOBRE AS DOENÇAS CARDIOVASCULARES**\n",
    "\n",
    "As doenças cardiovasculares (DCVs) são a causa número 1 de morte em todo o mundo, levando cerca de 17,9 milhões de vidas a cada ano, o que representa 31% de todas as mortes em todo o mundo. Quatro das mortes por 5CVD são devido a ataques cardíacos e derrames, e um terço dessas mortes ocorre prematuramente em pessoas com menos de 70 anos de idade. A insuficiência cardíaca é um evento comum causado por DCV e este conjunto de dados contém 11 características que podem ser usadas para prever uma possível doença cardíaca."
   ]
  },
  {
   "cell_type": "markdown",
   "metadata": {},
   "source": [
    "==========================================================================================================================\n",
    "## **DESCREVENDO OS DADOS**\n",
    "\n",
    "- **Age:** idade do paciente [anos]\n",
    "\n",
    "- **Sex:** sexo do paciente [M: Masculino, F: Feminino]\n",
    "\n",
    "- **ChestPainType:** tipo de dor no peito [TA: Angina Típica, ATA: Angina Atípica, NAP: Dor Não Anginosa, ASY: Assintomática]\n",
    "\n",
    "- **RestingBP:** pressão arterial de repouso [mm Hg]\n",
    "\n",
    "- **Cholesterol:** colesterol sérico [mm/dl]\n",
    "\n",
    "- **FastingBS:** glicemia em jejum [1: se FastingBS > 120 mg/dl, 0: caso contrário]\n",
    "\n",
    "- **RestingECG:** resultados do eletrocardiograma de repouso [Normal: normal, ST: com anormalidade da onda ST-T (inversões da onda T e/ou elevação ou depressão do ST > 0,05 mV), HVE: mostrando provável ou definitiva hipertrofia ventricular esquerda pelos critérios de Estes]\n",
    "\n",
    "- **MaxHR:** frequência cardíaca máxima alcançada [Valor numérico entre 60 e 202]\n",
    "\n",
    "- **ExerciseAngina:** angina induzida por exercício [S: Sim, N: Não]\n",
    "\n",
    "- **Oldpeak:** pico antigo = ST [Valor numérico medido em depressão]\n",
    "\n",
    "- **ST_Slope:** a inclinação do segmento ST do exercício de pico [Up: upsloping, Flat: flat, Down: downsloping]\n",
    "\n",
    "- **HeartDisease:** classe de saída [1: doença cardíaca, 0: normal]\n",
    "\n",
    "==========================================================================================================================\n",
    "\n"
   ]
  },
  {
   "cell_type": "markdown",
   "metadata": {},
   "source": [
    "## **IMPORTANDO AS BIBLIOTECAS**"
   ]
  },
  {
   "cell_type": "code",
   "execution_count": 174,
   "metadata": {},
   "outputs": [],
   "source": [
    "import warnings\n",
    "warnings.simplefilter('ignore')"
   ]
  },
  {
   "cell_type": "code",
   "execution_count": 175,
   "metadata": {},
   "outputs": [],
   "source": [
    "import pandas as pd\n",
    "import numpy as np\n",
    "import matplotlib.pyplot as plt \n",
    "import plotly.express as px\n",
    "import seaborn as sns\n",
    "\n",
    "sns.set()"
   ]
  },
  {
   "cell_type": "markdown",
   "metadata": {},
   "source": [
    "## **EXPLORANDO OS DADOS**"
   ]
  },
  {
   "cell_type": "code",
   "execution_count": 176,
   "metadata": {},
   "outputs": [
    {
     "data": {
      "text/html": [
       "<div>\n",
       "<style scoped>\n",
       "    .dataframe tbody tr th:only-of-type {\n",
       "        vertical-align: middle;\n",
       "    }\n",
       "\n",
       "    .dataframe tbody tr th {\n",
       "        vertical-align: top;\n",
       "    }\n",
       "\n",
       "    .dataframe thead th {\n",
       "        text-align: right;\n",
       "    }\n",
       "</style>\n",
       "<table border=\"1\" class=\"dataframe\">\n",
       "  <thead>\n",
       "    <tr style=\"text-align: right;\">\n",
       "      <th></th>\n",
       "      <th>Age</th>\n",
       "      <th>Sex</th>\n",
       "      <th>ChestPainType</th>\n",
       "      <th>RestingBP</th>\n",
       "      <th>Cholesterol</th>\n",
       "      <th>FastingBS</th>\n",
       "      <th>RestingECG</th>\n",
       "      <th>MaxHR</th>\n",
       "      <th>ExerciseAngina</th>\n",
       "      <th>Oldpeak</th>\n",
       "      <th>ST_Slope</th>\n",
       "      <th>HeartDisease</th>\n",
       "    </tr>\n",
       "  </thead>\n",
       "  <tbody>\n",
       "    <tr>\n",
       "      <th>0</th>\n",
       "      <td>40</td>\n",
       "      <td>M</td>\n",
       "      <td>ATA</td>\n",
       "      <td>140</td>\n",
       "      <td>289</td>\n",
       "      <td>0</td>\n",
       "      <td>Normal</td>\n",
       "      <td>172</td>\n",
       "      <td>N</td>\n",
       "      <td>0.0</td>\n",
       "      <td>Up</td>\n",
       "      <td>0</td>\n",
       "    </tr>\n",
       "    <tr>\n",
       "      <th>1</th>\n",
       "      <td>49</td>\n",
       "      <td>F</td>\n",
       "      <td>NAP</td>\n",
       "      <td>160</td>\n",
       "      <td>180</td>\n",
       "      <td>0</td>\n",
       "      <td>Normal</td>\n",
       "      <td>156</td>\n",
       "      <td>N</td>\n",
       "      <td>1.0</td>\n",
       "      <td>Flat</td>\n",
       "      <td>1</td>\n",
       "    </tr>\n",
       "    <tr>\n",
       "      <th>2</th>\n",
       "      <td>37</td>\n",
       "      <td>M</td>\n",
       "      <td>ATA</td>\n",
       "      <td>130</td>\n",
       "      <td>283</td>\n",
       "      <td>0</td>\n",
       "      <td>ST</td>\n",
       "      <td>98</td>\n",
       "      <td>N</td>\n",
       "      <td>0.0</td>\n",
       "      <td>Up</td>\n",
       "      <td>0</td>\n",
       "    </tr>\n",
       "  </tbody>\n",
       "</table>\n",
       "</div>"
      ],
      "text/plain": [
       "   Age Sex ChestPainType  RestingBP  Cholesterol  FastingBS RestingECG  MaxHR  \\\n",
       "0   40   M           ATA        140          289          0     Normal    172   \n",
       "1   49   F           NAP        160          180          0     Normal    156   \n",
       "2   37   M           ATA        130          283          0         ST     98   \n",
       "\n",
       "  ExerciseAngina  Oldpeak ST_Slope  HeartDisease  \n",
       "0              N      0.0       Up             0  \n",
       "1              N      1.0     Flat             1  \n",
       "2              N      0.0       Up             0  "
      ]
     },
     "execution_count": 176,
     "metadata": {},
     "output_type": "execute_result"
    }
   ],
   "source": [
    "df = pd.read_csv('heart.csv')\n",
    "df.head(3)"
   ]
  },
  {
   "cell_type": "code",
   "execution_count": 177,
   "metadata": {},
   "outputs": [
    {
     "data": {
      "text/html": [
       "<div>\n",
       "<style scoped>\n",
       "    .dataframe tbody tr th:only-of-type {\n",
       "        vertical-align: middle;\n",
       "    }\n",
       "\n",
       "    .dataframe tbody tr th {\n",
       "        vertical-align: top;\n",
       "    }\n",
       "\n",
       "    .dataframe thead th {\n",
       "        text-align: right;\n",
       "    }\n",
       "</style>\n",
       "<table border=\"1\" class=\"dataframe\">\n",
       "  <thead>\n",
       "    <tr style=\"text-align: right;\">\n",
       "      <th></th>\n",
       "      <th>Age</th>\n",
       "      <th>Sex</th>\n",
       "      <th>ChestPainType</th>\n",
       "      <th>RestingBP</th>\n",
       "      <th>Cholesterol</th>\n",
       "      <th>FastingBS</th>\n",
       "      <th>RestingECG</th>\n",
       "      <th>MaxHR</th>\n",
       "      <th>ExerciseAngina</th>\n",
       "      <th>Oldpeak</th>\n",
       "      <th>ST_Slope</th>\n",
       "      <th>HeartDisease</th>\n",
       "    </tr>\n",
       "  </thead>\n",
       "  <tbody>\n",
       "    <tr>\n",
       "      <th>915</th>\n",
       "      <td>57</td>\n",
       "      <td>M</td>\n",
       "      <td>ASY</td>\n",
       "      <td>130</td>\n",
       "      <td>131</td>\n",
       "      <td>0</td>\n",
       "      <td>Normal</td>\n",
       "      <td>115</td>\n",
       "      <td>Y</td>\n",
       "      <td>1.2</td>\n",
       "      <td>Flat</td>\n",
       "      <td>1</td>\n",
       "    </tr>\n",
       "    <tr>\n",
       "      <th>916</th>\n",
       "      <td>57</td>\n",
       "      <td>F</td>\n",
       "      <td>ATA</td>\n",
       "      <td>130</td>\n",
       "      <td>236</td>\n",
       "      <td>0</td>\n",
       "      <td>LVH</td>\n",
       "      <td>174</td>\n",
       "      <td>N</td>\n",
       "      <td>0.0</td>\n",
       "      <td>Flat</td>\n",
       "      <td>1</td>\n",
       "    </tr>\n",
       "    <tr>\n",
       "      <th>917</th>\n",
       "      <td>38</td>\n",
       "      <td>M</td>\n",
       "      <td>NAP</td>\n",
       "      <td>138</td>\n",
       "      <td>175</td>\n",
       "      <td>0</td>\n",
       "      <td>Normal</td>\n",
       "      <td>173</td>\n",
       "      <td>N</td>\n",
       "      <td>0.0</td>\n",
       "      <td>Up</td>\n",
       "      <td>0</td>\n",
       "    </tr>\n",
       "  </tbody>\n",
       "</table>\n",
       "</div>"
      ],
      "text/plain": [
       "     Age Sex ChestPainType  RestingBP  Cholesterol  FastingBS RestingECG  \\\n",
       "915   57   M           ASY        130          131          0     Normal   \n",
       "916   57   F           ATA        130          236          0        LVH   \n",
       "917   38   M           NAP        138          175          0     Normal   \n",
       "\n",
       "     MaxHR ExerciseAngina  Oldpeak ST_Slope  HeartDisease  \n",
       "915    115              Y      1.2     Flat             1  \n",
       "916    174              N      0.0     Flat             1  \n",
       "917    173              N      0.0       Up             0  "
      ]
     },
     "execution_count": 177,
     "metadata": {},
     "output_type": "execute_result"
    }
   ],
   "source": [
    "df.tail(3)"
   ]
  },
  {
   "cell_type": "code",
   "execution_count": 178,
   "metadata": {},
   "outputs": [
    {
     "name": "stdout",
     "output_type": "stream",
     "text": [
      "<class 'pandas.core.frame.DataFrame'>\n",
      "RangeIndex: 918 entries, 0 to 917\n",
      "Data columns (total 12 columns):\n",
      " #   Column          Non-Null Count  Dtype  \n",
      "---  ------          --------------  -----  \n",
      " 0   Age             918 non-null    int64  \n",
      " 1   Sex             918 non-null    object \n",
      " 2   ChestPainType   918 non-null    object \n",
      " 3   RestingBP       918 non-null    int64  \n",
      " 4   Cholesterol     918 non-null    int64  \n",
      " 5   FastingBS       918 non-null    int64  \n",
      " 6   RestingECG      918 non-null    object \n",
      " 7   MaxHR           918 non-null    int64  \n",
      " 8   ExerciseAngina  918 non-null    object \n",
      " 9   Oldpeak         918 non-null    float64\n",
      " 10  ST_Slope        918 non-null    object \n",
      " 11  HeartDisease    918 non-null    int64  \n",
      "dtypes: float64(1), int64(6), object(5)\n",
      "memory usage: 86.2+ KB\n"
     ]
    }
   ],
   "source": [
    "#Verificando o formato dos dados e tambem a existencia de dados nulos\n",
    "#Verifico que não existem dados nulos neste conjunto de dados\n",
    "df.info()"
   ]
  },
  {
   "cell_type": "markdown",
   "metadata": {},
   "source": [
    "## **ANÁLISE DOS ATRIBUTOS**"
   ]
  },
  {
   "cell_type": "markdown",
   "metadata": {},
   "source": [
    "### **AGE - IDADE**"
   ]
  },
  {
   "cell_type": "code",
   "execution_count": 179,
   "metadata": {},
   "outputs": [
    {
     "data": {
      "text/plain": [
       "count    918.000000\n",
       "mean      53.510893\n",
       "std        9.432617\n",
       "min       28.000000\n",
       "25%       47.000000\n",
       "50%       54.000000\n",
       "75%       60.000000\n",
       "max       77.000000\n",
       "Name: Age, dtype: float64"
      ]
     },
     "execution_count": 179,
     "metadata": {},
     "output_type": "execute_result"
    }
   ],
   "source": [
    "#Verificando a disstribuição das Idades\n",
    "#Boa parte das idades fica entre 45 e 65 anos\n",
    "#Idade minima é de 28 anos e a Máxima 77\n",
    "\n",
    "df['Age'].describe()"
   ]
  },
  {
   "cell_type": "code",
   "execution_count": 180,
   "metadata": {},
   "outputs": [
    {
     "data": {
      "application/vnd.plotly.v1+json": {
       "config": {
        "plotlyServerURL": "https://plot.ly"
       },
       "data": [
        {
         "alignmentgroup": "True",
         "bingroup": "x",
         "hovertemplate": "Age=%{x}<br>count=%{y}<extra></extra>",
         "legendgroup": "",
         "marker": {
          "color": "#636efa",
          "pattern": {
           "shape": ""
          }
         },
         "name": "",
         "offsetgroup": "",
         "orientation": "v",
         "showlegend": false,
         "type": "histogram",
         "x": [
          40,
          49,
          37,
          48,
          54,
          39,
          45,
          54,
          37,
          48,
          37,
          58,
          39,
          49,
          42,
          54,
          38,
          43,
          60,
          36,
          43,
          44,
          49,
          44,
          40,
          36,
          53,
          52,
          53,
          51,
          53,
          56,
          54,
          41,
          43,
          32,
          65,
          41,
          48,
          48,
          54,
          54,
          35,
          52,
          43,
          59,
          37,
          50,
          36,
          41,
          50,
          47,
          45,
          41,
          52,
          51,
          31,
          58,
          54,
          52,
          49,
          43,
          45,
          46,
          50,
          37,
          45,
          32,
          52,
          44,
          57,
          44,
          52,
          44,
          55,
          46,
          32,
          35,
          52,
          49,
          55,
          54,
          63,
          52,
          56,
          66,
          65,
          53,
          43,
          55,
          49,
          39,
          52,
          48,
          39,
          58,
          43,
          39,
          56,
          41,
          65,
          51,
          40,
          40,
          46,
          57,
          48,
          34,
          50,
          39,
          59,
          57,
          47,
          38,
          49,
          33,
          38,
          59,
          35,
          34,
          47,
          52,
          46,
          58,
          58,
          54,
          34,
          48,
          54,
          42,
          38,
          46,
          56,
          56,
          61,
          49,
          43,
          39,
          54,
          43,
          52,
          50,
          47,
          53,
          56,
          39,
          42,
          43,
          50,
          54,
          39,
          48,
          40,
          55,
          41,
          56,
          38,
          49,
          44,
          54,
          59,
          49,
          47,
          42,
          52,
          46,
          50,
          48,
          58,
          58,
          29,
          40,
          53,
          49,
          52,
          43,
          54,
          59,
          37,
          46,
          52,
          51,
          52,
          46,
          54,
          58,
          58,
          41,
          50,
          53,
          46,
          50,
          48,
          45,
          41,
          62,
          49,
          42,
          53,
          57,
          47,
          46,
          42,
          31,
          56,
          50,
          35,
          35,
          28,
          54,
          48,
          50,
          56,
          56,
          47,
          30,
          39,
          54,
          55,
          29,
          46,
          51,
          48,
          33,
          55,
          50,
          53,
          38,
          41,
          37,
          37,
          40,
          38,
          41,
          54,
          39,
          41,
          55,
          48,
          48,
          55,
          54,
          55,
          43,
          48,
          54,
          54,
          48,
          45,
          49,
          44,
          48,
          61,
          62,
          55,
          53,
          55,
          36,
          51,
          55,
          46,
          54,
          46,
          59,
          47,
          54,
          52,
          34,
          54,
          47,
          45,
          32,
          55,
          55,
          45,
          59,
          51,
          52,
          57,
          54,
          60,
          49,
          51,
          55,
          42,
          51,
          59,
          53,
          48,
          36,
          48,
          47,
          53,
          65,
          32,
          61,
          50,
          57,
          51,
          47,
          60,
          55,
          53,
          62,
          51,
          51,
          55,
          53,
          58,
          57,
          65,
          60,
          41,
          34,
          53,
          74,
          57,
          56,
          61,
          68,
          59,
          63,
          38,
          62,
          46,
          42,
          45,
          59,
          52,
          60,
          60,
          56,
          38,
          40,
          51,
          62,
          72,
          63,
          63,
          64,
          43,
          64,
          61,
          52,
          51,
          69,
          59,
          48,
          69,
          36,
          53,
          43,
          56,
          58,
          55,
          67,
          46,
          53,
          38,
          53,
          62,
          47,
          56,
          56,
          56,
          64,
          61,
          68,
          57,
          63,
          60,
          66,
          63,
          59,
          61,
          73,
          47,
          65,
          70,
          50,
          60,
          50,
          43,
          38,
          54,
          61,
          42,
          53,
          55,
          61,
          51,
          70,
          61,
          38,
          57,
          38,
          62,
          58,
          52,
          61,
          50,
          51,
          65,
          52,
          47,
          35,
          57,
          62,
          59,
          53,
          62,
          54,
          56,
          56,
          54,
          66,
          63,
          44,
          60,
          55,
          66,
          66,
          65,
          60,
          60,
          60,
          56,
          59,
          62,
          63,
          57,
          62,
          63,
          46,
          63,
          60,
          58,
          64,
          63,
          74,
          52,
          69,
          51,
          60,
          56,
          55,
          54,
          77,
          63,
          55,
          52,
          64,
          60,
          60,
          58,
          59,
          61,
          40,
          61,
          41,
          57,
          63,
          59,
          51,
          59,
          42,
          55,
          63,
          62,
          56,
          53,
          68,
          53,
          60,
          62,
          59,
          51,
          61,
          57,
          56,
          58,
          69,
          67,
          58,
          65,
          63,
          55,
          57,
          65,
          54,
          72,
          75,
          49,
          51,
          60,
          64,
          58,
          61,
          67,
          62,
          65,
          63,
          69,
          51,
          62,
          55,
          75,
          40,
          67,
          58,
          60,
          63,
          35,
          62,
          43,
          63,
          68,
          65,
          48,
          63,
          64,
          61,
          50,
          59,
          55,
          45,
          65,
          61,
          49,
          72,
          50,
          64,
          55,
          63,
          59,
          56,
          62,
          74,
          54,
          57,
          62,
          76,
          54,
          70,
          61,
          48,
          48,
          61,
          66,
          68,
          55,
          62,
          71,
          74,
          53,
          58,
          75,
          56,
          58,
          64,
          54,
          54,
          59,
          55,
          57,
          61,
          41,
          71,
          38,
          55,
          56,
          69,
          64,
          72,
          69,
          56,
          62,
          67,
          57,
          69,
          51,
          48,
          69,
          69,
          64,
          57,
          53,
          37,
          67,
          74,
          63,
          58,
          61,
          64,
          58,
          60,
          57,
          55,
          55,
          56,
          57,
          61,
          61,
          74,
          68,
          51,
          62,
          53,
          62,
          46,
          54,
          62,
          55,
          58,
          62,
          70,
          67,
          57,
          64,
          74,
          65,
          56,
          59,
          60,
          63,
          59,
          53,
          44,
          61,
          57,
          71,
          46,
          53,
          64,
          40,
          67,
          48,
          43,
          47,
          54,
          48,
          46,
          51,
          58,
          71,
          57,
          66,
          37,
          59,
          50,
          48,
          61,
          59,
          42,
          48,
          40,
          62,
          44,
          46,
          59,
          58,
          49,
          44,
          66,
          65,
          42,
          52,
          65,
          63,
          45,
          41,
          61,
          60,
          59,
          62,
          57,
          51,
          44,
          60,
          63,
          57,
          51,
          58,
          44,
          47,
          61,
          57,
          70,
          76,
          67,
          45,
          45,
          39,
          42,
          56,
          58,
          35,
          58,
          41,
          57,
          42,
          62,
          59,
          41,
          50,
          59,
          61,
          54,
          54,
          52,
          47,
          66,
          58,
          64,
          50,
          44,
          67,
          49,
          57,
          63,
          48,
          51,
          60,
          59,
          45,
          55,
          41,
          60,
          54,
          42,
          49,
          46,
          56,
          66,
          56,
          49,
          54,
          57,
          65,
          54,
          54,
          62,
          52,
          52,
          60,
          63,
          66,
          42,
          64,
          54,
          46,
          67,
          56,
          34,
          57,
          64,
          59,
          50,
          51,
          54,
          53,
          52,
          40,
          58,
          41,
          41,
          50,
          54,
          64,
          51,
          46,
          55,
          45,
          56,
          66,
          38,
          62,
          55,
          58,
          43,
          64,
          50,
          53,
          45,
          65,
          69,
          69,
          67,
          68,
          34,
          62,
          51,
          46,
          67,
          50,
          42,
          56,
          41,
          42,
          53,
          43,
          56,
          52,
          62,
          70,
          54,
          70,
          54,
          35,
          48,
          55,
          58,
          54,
          69,
          77,
          68,
          58,
          60,
          51,
          55,
          52,
          60,
          58,
          64,
          37,
          59,
          51,
          43,
          58,
          29,
          41,
          63,
          51,
          54,
          44,
          54,
          65,
          57,
          63,
          35,
          41,
          62,
          43,
          58,
          52,
          61,
          39,
          45,
          52,
          62,
          62,
          53,
          43,
          47,
          52,
          68,
          39,
          53,
          62,
          51,
          60,
          65,
          65,
          60,
          60,
          54,
          44,
          44,
          51,
          59,
          71,
          61,
          55,
          64,
          43,
          58,
          60,
          58,
          49,
          48,
          52,
          44,
          56,
          57,
          67,
          53,
          52,
          43,
          52,
          59,
          64,
          66,
          39,
          57,
          58,
          57,
          47,
          55,
          35,
          61,
          58,
          58,
          58,
          56,
          56,
          67,
          55,
          44,
          63,
          63,
          41,
          59,
          57,
          45,
          68,
          57,
          57,
          38
         ],
         "xaxis": "x",
         "yaxis": "y"
        }
       ],
       "layout": {
        "barmode": "relative",
        "height": 400,
        "legend": {
         "tracegroupgap": 0
        },
        "margin": {
         "t": 60
        },
        "template": {
         "data": {
          "bar": [
           {
            "error_x": {
             "color": "#2a3f5f"
            },
            "error_y": {
             "color": "#2a3f5f"
            },
            "marker": {
             "line": {
              "color": "#E5ECF6",
              "width": 0.5
             },
             "pattern": {
              "fillmode": "overlay",
              "size": 10,
              "solidity": 0.2
             }
            },
            "type": "bar"
           }
          ],
          "barpolar": [
           {
            "marker": {
             "line": {
              "color": "#E5ECF6",
              "width": 0.5
             },
             "pattern": {
              "fillmode": "overlay",
              "size": 10,
              "solidity": 0.2
             }
            },
            "type": "barpolar"
           }
          ],
          "carpet": [
           {
            "aaxis": {
             "endlinecolor": "#2a3f5f",
             "gridcolor": "white",
             "linecolor": "white",
             "minorgridcolor": "white",
             "startlinecolor": "#2a3f5f"
            },
            "baxis": {
             "endlinecolor": "#2a3f5f",
             "gridcolor": "white",
             "linecolor": "white",
             "minorgridcolor": "white",
             "startlinecolor": "#2a3f5f"
            },
            "type": "carpet"
           }
          ],
          "choropleth": [
           {
            "colorbar": {
             "outlinewidth": 0,
             "ticks": ""
            },
            "type": "choropleth"
           }
          ],
          "contour": [
           {
            "colorbar": {
             "outlinewidth": 0,
             "ticks": ""
            },
            "colorscale": [
             [
              0,
              "#0d0887"
             ],
             [
              0.1111111111111111,
              "#46039f"
             ],
             [
              0.2222222222222222,
              "#7201a8"
             ],
             [
              0.3333333333333333,
              "#9c179e"
             ],
             [
              0.4444444444444444,
              "#bd3786"
             ],
             [
              0.5555555555555556,
              "#d8576b"
             ],
             [
              0.6666666666666666,
              "#ed7953"
             ],
             [
              0.7777777777777778,
              "#fb9f3a"
             ],
             [
              0.8888888888888888,
              "#fdca26"
             ],
             [
              1,
              "#f0f921"
             ]
            ],
            "type": "contour"
           }
          ],
          "contourcarpet": [
           {
            "colorbar": {
             "outlinewidth": 0,
             "ticks": ""
            },
            "type": "contourcarpet"
           }
          ],
          "heatmap": [
           {
            "colorbar": {
             "outlinewidth": 0,
             "ticks": ""
            },
            "colorscale": [
             [
              0,
              "#0d0887"
             ],
             [
              0.1111111111111111,
              "#46039f"
             ],
             [
              0.2222222222222222,
              "#7201a8"
             ],
             [
              0.3333333333333333,
              "#9c179e"
             ],
             [
              0.4444444444444444,
              "#bd3786"
             ],
             [
              0.5555555555555556,
              "#d8576b"
             ],
             [
              0.6666666666666666,
              "#ed7953"
             ],
             [
              0.7777777777777778,
              "#fb9f3a"
             ],
             [
              0.8888888888888888,
              "#fdca26"
             ],
             [
              1,
              "#f0f921"
             ]
            ],
            "type": "heatmap"
           }
          ],
          "heatmapgl": [
           {
            "colorbar": {
             "outlinewidth": 0,
             "ticks": ""
            },
            "colorscale": [
             [
              0,
              "#0d0887"
             ],
             [
              0.1111111111111111,
              "#46039f"
             ],
             [
              0.2222222222222222,
              "#7201a8"
             ],
             [
              0.3333333333333333,
              "#9c179e"
             ],
             [
              0.4444444444444444,
              "#bd3786"
             ],
             [
              0.5555555555555556,
              "#d8576b"
             ],
             [
              0.6666666666666666,
              "#ed7953"
             ],
             [
              0.7777777777777778,
              "#fb9f3a"
             ],
             [
              0.8888888888888888,
              "#fdca26"
             ],
             [
              1,
              "#f0f921"
             ]
            ],
            "type": "heatmapgl"
           }
          ],
          "histogram": [
           {
            "marker": {
             "pattern": {
              "fillmode": "overlay",
              "size": 10,
              "solidity": 0.2
             }
            },
            "type": "histogram"
           }
          ],
          "histogram2d": [
           {
            "colorbar": {
             "outlinewidth": 0,
             "ticks": ""
            },
            "colorscale": [
             [
              0,
              "#0d0887"
             ],
             [
              0.1111111111111111,
              "#46039f"
             ],
             [
              0.2222222222222222,
              "#7201a8"
             ],
             [
              0.3333333333333333,
              "#9c179e"
             ],
             [
              0.4444444444444444,
              "#bd3786"
             ],
             [
              0.5555555555555556,
              "#d8576b"
             ],
             [
              0.6666666666666666,
              "#ed7953"
             ],
             [
              0.7777777777777778,
              "#fb9f3a"
             ],
             [
              0.8888888888888888,
              "#fdca26"
             ],
             [
              1,
              "#f0f921"
             ]
            ],
            "type": "histogram2d"
           }
          ],
          "histogram2dcontour": [
           {
            "colorbar": {
             "outlinewidth": 0,
             "ticks": ""
            },
            "colorscale": [
             [
              0,
              "#0d0887"
             ],
             [
              0.1111111111111111,
              "#46039f"
             ],
             [
              0.2222222222222222,
              "#7201a8"
             ],
             [
              0.3333333333333333,
              "#9c179e"
             ],
             [
              0.4444444444444444,
              "#bd3786"
             ],
             [
              0.5555555555555556,
              "#d8576b"
             ],
             [
              0.6666666666666666,
              "#ed7953"
             ],
             [
              0.7777777777777778,
              "#fb9f3a"
             ],
             [
              0.8888888888888888,
              "#fdca26"
             ],
             [
              1,
              "#f0f921"
             ]
            ],
            "type": "histogram2dcontour"
           }
          ],
          "mesh3d": [
           {
            "colorbar": {
             "outlinewidth": 0,
             "ticks": ""
            },
            "type": "mesh3d"
           }
          ],
          "parcoords": [
           {
            "line": {
             "colorbar": {
              "outlinewidth": 0,
              "ticks": ""
             }
            },
            "type": "parcoords"
           }
          ],
          "pie": [
           {
            "automargin": true,
            "type": "pie"
           }
          ],
          "scatter": [
           {
            "marker": {
             "colorbar": {
              "outlinewidth": 0,
              "ticks": ""
             }
            },
            "type": "scatter"
           }
          ],
          "scatter3d": [
           {
            "line": {
             "colorbar": {
              "outlinewidth": 0,
              "ticks": ""
             }
            },
            "marker": {
             "colorbar": {
              "outlinewidth": 0,
              "ticks": ""
             }
            },
            "type": "scatter3d"
           }
          ],
          "scattercarpet": [
           {
            "marker": {
             "colorbar": {
              "outlinewidth": 0,
              "ticks": ""
             }
            },
            "type": "scattercarpet"
           }
          ],
          "scattergeo": [
           {
            "marker": {
             "colorbar": {
              "outlinewidth": 0,
              "ticks": ""
             }
            },
            "type": "scattergeo"
           }
          ],
          "scattergl": [
           {
            "marker": {
             "colorbar": {
              "outlinewidth": 0,
              "ticks": ""
             }
            },
            "type": "scattergl"
           }
          ],
          "scattermapbox": [
           {
            "marker": {
             "colorbar": {
              "outlinewidth": 0,
              "ticks": ""
             }
            },
            "type": "scattermapbox"
           }
          ],
          "scatterpolar": [
           {
            "marker": {
             "colorbar": {
              "outlinewidth": 0,
              "ticks": ""
             }
            },
            "type": "scatterpolar"
           }
          ],
          "scatterpolargl": [
           {
            "marker": {
             "colorbar": {
              "outlinewidth": 0,
              "ticks": ""
             }
            },
            "type": "scatterpolargl"
           }
          ],
          "scatterternary": [
           {
            "marker": {
             "colorbar": {
              "outlinewidth": 0,
              "ticks": ""
             }
            },
            "type": "scatterternary"
           }
          ],
          "surface": [
           {
            "colorbar": {
             "outlinewidth": 0,
             "ticks": ""
            },
            "colorscale": [
             [
              0,
              "#0d0887"
             ],
             [
              0.1111111111111111,
              "#46039f"
             ],
             [
              0.2222222222222222,
              "#7201a8"
             ],
             [
              0.3333333333333333,
              "#9c179e"
             ],
             [
              0.4444444444444444,
              "#bd3786"
             ],
             [
              0.5555555555555556,
              "#d8576b"
             ],
             [
              0.6666666666666666,
              "#ed7953"
             ],
             [
              0.7777777777777778,
              "#fb9f3a"
             ],
             [
              0.8888888888888888,
              "#fdca26"
             ],
             [
              1,
              "#f0f921"
             ]
            ],
            "type": "surface"
           }
          ],
          "table": [
           {
            "cells": {
             "fill": {
              "color": "#EBF0F8"
             },
             "line": {
              "color": "white"
             }
            },
            "header": {
             "fill": {
              "color": "#C8D4E3"
             },
             "line": {
              "color": "white"
             }
            },
            "type": "table"
           }
          ]
         },
         "layout": {
          "annotationdefaults": {
           "arrowcolor": "#2a3f5f",
           "arrowhead": 0,
           "arrowwidth": 1
          },
          "autotypenumbers": "strict",
          "coloraxis": {
           "colorbar": {
            "outlinewidth": 0,
            "ticks": ""
           }
          },
          "colorscale": {
           "diverging": [
            [
             0,
             "#8e0152"
            ],
            [
             0.1,
             "#c51b7d"
            ],
            [
             0.2,
             "#de77ae"
            ],
            [
             0.3,
             "#f1b6da"
            ],
            [
             0.4,
             "#fde0ef"
            ],
            [
             0.5,
             "#f7f7f7"
            ],
            [
             0.6,
             "#e6f5d0"
            ],
            [
             0.7,
             "#b8e186"
            ],
            [
             0.8,
             "#7fbc41"
            ],
            [
             0.9,
             "#4d9221"
            ],
            [
             1,
             "#276419"
            ]
           ],
           "sequential": [
            [
             0,
             "#0d0887"
            ],
            [
             0.1111111111111111,
             "#46039f"
            ],
            [
             0.2222222222222222,
             "#7201a8"
            ],
            [
             0.3333333333333333,
             "#9c179e"
            ],
            [
             0.4444444444444444,
             "#bd3786"
            ],
            [
             0.5555555555555556,
             "#d8576b"
            ],
            [
             0.6666666666666666,
             "#ed7953"
            ],
            [
             0.7777777777777778,
             "#fb9f3a"
            ],
            [
             0.8888888888888888,
             "#fdca26"
            ],
            [
             1,
             "#f0f921"
            ]
           ],
           "sequentialminus": [
            [
             0,
             "#0d0887"
            ],
            [
             0.1111111111111111,
             "#46039f"
            ],
            [
             0.2222222222222222,
             "#7201a8"
            ],
            [
             0.3333333333333333,
             "#9c179e"
            ],
            [
             0.4444444444444444,
             "#bd3786"
            ],
            [
             0.5555555555555556,
             "#d8576b"
            ],
            [
             0.6666666666666666,
             "#ed7953"
            ],
            [
             0.7777777777777778,
             "#fb9f3a"
            ],
            [
             0.8888888888888888,
             "#fdca26"
            ],
            [
             1,
             "#f0f921"
            ]
           ]
          },
          "colorway": [
           "#636efa",
           "#EF553B",
           "#00cc96",
           "#ab63fa",
           "#FFA15A",
           "#19d3f3",
           "#FF6692",
           "#B6E880",
           "#FF97FF",
           "#FECB52"
          ],
          "font": {
           "color": "#2a3f5f"
          },
          "geo": {
           "bgcolor": "white",
           "lakecolor": "white",
           "landcolor": "#E5ECF6",
           "showlakes": true,
           "showland": true,
           "subunitcolor": "white"
          },
          "hoverlabel": {
           "align": "left"
          },
          "hovermode": "closest",
          "mapbox": {
           "style": "light"
          },
          "paper_bgcolor": "white",
          "plot_bgcolor": "#E5ECF6",
          "polar": {
           "angularaxis": {
            "gridcolor": "white",
            "linecolor": "white",
            "ticks": ""
           },
           "bgcolor": "#E5ECF6",
           "radialaxis": {
            "gridcolor": "white",
            "linecolor": "white",
            "ticks": ""
           }
          },
          "scene": {
           "xaxis": {
            "backgroundcolor": "#E5ECF6",
            "gridcolor": "white",
            "gridwidth": 2,
            "linecolor": "white",
            "showbackground": true,
            "ticks": "",
            "zerolinecolor": "white"
           },
           "yaxis": {
            "backgroundcolor": "#E5ECF6",
            "gridcolor": "white",
            "gridwidth": 2,
            "linecolor": "white",
            "showbackground": true,
            "ticks": "",
            "zerolinecolor": "white"
           },
           "zaxis": {
            "backgroundcolor": "#E5ECF6",
            "gridcolor": "white",
            "gridwidth": 2,
            "linecolor": "white",
            "showbackground": true,
            "ticks": "",
            "zerolinecolor": "white"
           }
          },
          "shapedefaults": {
           "line": {
            "color": "#2a3f5f"
           }
          },
          "ternary": {
           "aaxis": {
            "gridcolor": "white",
            "linecolor": "white",
            "ticks": ""
           },
           "baxis": {
            "gridcolor": "white",
            "linecolor": "white",
            "ticks": ""
           },
           "bgcolor": "#E5ECF6",
           "caxis": {
            "gridcolor": "white",
            "linecolor": "white",
            "ticks": ""
           }
          },
          "title": {
           "x": 0.05
          },
          "xaxis": {
           "automargin": true,
           "gridcolor": "white",
           "linecolor": "white",
           "ticks": "",
           "title": {
            "standoff": 15
           },
           "zerolinecolor": "white",
           "zerolinewidth": 2
          },
          "yaxis": {
           "automargin": true,
           "gridcolor": "white",
           "linecolor": "white",
           "ticks": "",
           "title": {
            "standoff": 15
           },
           "zerolinecolor": "white",
           "zerolinewidth": 2
          }
         }
        },
        "title": {
         "text": "Idade"
        },
        "width": 800,
        "xaxis": {
         "anchor": "y",
         "domain": [
          0,
          1
         ],
         "title": {
          "text": "Age"
         }
        },
        "yaxis": {
         "anchor": "x",
         "domain": [
          0,
          1
         ],
         "title": {
          "text": "count"
         }
        }
       }
      }
     },
     "metadata": {},
     "output_type": "display_data"
    }
   ],
   "source": [
    "#Aqui plooto o Gŕafico com a distribuição das idades\n",
    "fig = px.histogram(df, x= 'Age')\n",
    "\n",
    "fig.update_layout(width = 800, \n",
    "height = 400, \n",
    "title_text = 'Idade' )\n",
    "\n",
    "fig.show()\n"
   ]
  },
  {
   "cell_type": "markdown",
   "metadata": {},
   "source": [
    "### **SEX - SEXO**"
   ]
  },
  {
   "cell_type": "code",
   "execution_count": 181,
   "metadata": {},
   "outputs": [
    {
     "name": "stdout",
     "output_type": "stream",
     "text": [
      "QUANTIDADE DE PESSOAS POR SEXO\n",
      "==============================\n"
     ]
    },
    {
     "data": {
      "text/plain": [
       "M    725\n",
       "F    193\n",
       "Name: Sex, dtype: int64"
      ]
     },
     "execution_count": 181,
     "metadata": {},
     "output_type": "execute_result"
    }
   ],
   "source": [
    "#Verificando os dados coluna Sexo, consigo ver que boa parte da base de dados é composta por pessoas do sexo Masculino\n",
    "print(f'Quantidade de Pessoas por Sexo'.upper())\n",
    "print('=' * 30)\n",
    "df['Sex'].value_counts() "
   ]
  },
  {
   "cell_type": "code",
   "execution_count": 182,
   "metadata": {},
   "outputs": [
    {
     "name": "stdout",
     "output_type": "stream",
     "text": [
      "PERCENTUAL DE PESSOAS POR SEXO\n",
      "==============================\n"
     ]
    },
    {
     "data": {
      "text/plain": [
       "M    78.98\n",
       "F    21.02\n",
       "Name: Sex, dtype: float64"
      ]
     },
     "execution_count": 182,
     "metadata": {},
     "output_type": "execute_result"
    }
   ],
   "source": [
    "#Verificando a informação em forma percentual\n",
    "print(f'Percentual de Pessoas por Sexo'.upper())\n",
    "print('=' * 30)\n",
    "round(df[\"Sex\"].value_counts() / df[\"Sex\"].shape[0] * 100, 2)"
   ]
  },
  {
   "cell_type": "code",
   "execution_count": 183,
   "metadata": {},
   "outputs": [
    {
     "data": {
      "application/vnd.plotly.v1+json": {
       "config": {
        "plotlyServerURL": "https://plot.ly"
       },
       "data": [
        {
         "alignmentgroup": "True",
         "bingroup": "x",
         "hovertemplate": "Sex=%{x}<br>count=%{y}<extra></extra>",
         "legendgroup": "M",
         "marker": {
          "color": "#636efa",
          "pattern": {
           "shape": ""
          }
         },
         "name": "M",
         "offsetgroup": "M",
         "orientation": "v",
         "showlegend": true,
         "type": "histogram",
         "x": [
          "M",
          "M",
          "M",
          "M",
          "M",
          "M",
          "M",
          "M",
          "M",
          "M",
          "M",
          "M",
          "M",
          "M",
          "M",
          "M",
          "M",
          "M",
          "M",
          "M",
          "M",
          "M",
          "M",
          "M",
          "M",
          "M",
          "M",
          "M",
          "M",
          "M",
          "M",
          "M",
          "M",
          "M",
          "M",
          "M",
          "M",
          "M",
          "M",
          "M",
          "M",
          "M",
          "M",
          "M",
          "M",
          "M",
          "M",
          "M",
          "M",
          "M",
          "M",
          "M",
          "M",
          "M",
          "M",
          "M",
          "M",
          "M",
          "M",
          "M",
          "M",
          "M",
          "M",
          "M",
          "M",
          "M",
          "M",
          "M",
          "M",
          "M",
          "M",
          "M",
          "M",
          "M",
          "M",
          "M",
          "M",
          "M",
          "M",
          "M",
          "M",
          "M",
          "M",
          "M",
          "M",
          "M",
          "M",
          "M",
          "M",
          "M",
          "M",
          "M",
          "M",
          "M",
          "M",
          "M",
          "M",
          "M",
          "M",
          "M",
          "M",
          "M",
          "M",
          "M",
          "M",
          "M",
          "M",
          "M",
          "M",
          "M",
          "M",
          "M",
          "M",
          "M",
          "M",
          "M",
          "M",
          "M",
          "M",
          "M",
          "M",
          "M",
          "M",
          "M",
          "M",
          "M",
          "M",
          "M",
          "M",
          "M",
          "M",
          "M",
          "M",
          "M",
          "M",
          "M",
          "M",
          "M",
          "M",
          "M",
          "M",
          "M",
          "M",
          "M",
          "M",
          "M",
          "M",
          "M",
          "M",
          "M",
          "M",
          "M",
          "M",
          "M",
          "M",
          "M",
          "M",
          "M",
          "M",
          "M",
          "M",
          "M",
          "M",
          "M",
          "M",
          "M",
          "M",
          "M",
          "M",
          "M",
          "M",
          "M",
          "M",
          "M",
          "M",
          "M",
          "M",
          "M",
          "M",
          "M",
          "M",
          "M",
          "M",
          "M",
          "M",
          "M",
          "M",
          "M",
          "M",
          "M",
          "M",
          "M",
          "M",
          "M",
          "M",
          "M",
          "M",
          "M",
          "M",
          "M",
          "M",
          "M",
          "M",
          "M",
          "M",
          "M",
          "M",
          "M",
          "M",
          "M",
          "M",
          "M",
          "M",
          "M",
          "M",
          "M",
          "M",
          "M",
          "M",
          "M",
          "M",
          "M",
          "M",
          "M",
          "M",
          "M",
          "M",
          "M",
          "M",
          "M",
          "M",
          "M",
          "M",
          "M",
          "M",
          "M",
          "M",
          "M",
          "M",
          "M",
          "M",
          "M",
          "M",
          "M",
          "M",
          "M",
          "M",
          "M",
          "M",
          "M",
          "M",
          "M",
          "M",
          "M",
          "M",
          "M",
          "M",
          "M",
          "M",
          "M",
          "M",
          "M",
          "M",
          "M",
          "M",
          "M",
          "M",
          "M",
          "M",
          "M",
          "M",
          "M",
          "M",
          "M",
          "M",
          "M",
          "M",
          "M",
          "M",
          "M",
          "M",
          "M",
          "M",
          "M",
          "M",
          "M",
          "M",
          "M",
          "M",
          "M",
          "M",
          "M",
          "M",
          "M",
          "M",
          "M",
          "M",
          "M",
          "M",
          "M",
          "M",
          "M",
          "M",
          "M",
          "M",
          "M",
          "M",
          "M",
          "M",
          "M",
          "M",
          "M",
          "M",
          "M",
          "M",
          "M",
          "M",
          "M",
          "M",
          "M",
          "M",
          "M",
          "M",
          "M",
          "M",
          "M",
          "M",
          "M",
          "M",
          "M",
          "M",
          "M",
          "M",
          "M",
          "M",
          "M",
          "M",
          "M",
          "M",
          "M",
          "M",
          "M",
          "M",
          "M",
          "M",
          "M",
          "M",
          "M",
          "M",
          "M",
          "M",
          "M",
          "M",
          "M",
          "M",
          "M",
          "M",
          "M",
          "M",
          "M",
          "M",
          "M",
          "M",
          "M",
          "M",
          "M",
          "M",
          "M",
          "M",
          "M",
          "M",
          "M",
          "M",
          "M",
          "M",
          "M",
          "M",
          "M",
          "M",
          "M",
          "M",
          "M",
          "M",
          "M",
          "M",
          "M",
          "M",
          "M",
          "M",
          "M",
          "M",
          "M",
          "M",
          "M",
          "M",
          "M",
          "M",
          "M",
          "M",
          "M",
          "M",
          "M",
          "M",
          "M",
          "M",
          "M",
          "M",
          "M",
          "M",
          "M",
          "M",
          "M",
          "M",
          "M",
          "M",
          "M",
          "M",
          "M",
          "M",
          "M",
          "M",
          "M",
          "M",
          "M",
          "M",
          "M",
          "M",
          "M",
          "M",
          "M",
          "M",
          "M",
          "M",
          "M",
          "M",
          "M",
          "M",
          "M",
          "M",
          "M",
          "M",
          "M",
          "M",
          "M",
          "M",
          "M",
          "M",
          "M",
          "M",
          "M",
          "M",
          "M",
          "M",
          "M",
          "M",
          "M",
          "M",
          "M",
          "M",
          "M",
          "M",
          "M",
          "M",
          "M",
          "M",
          "M",
          "M",
          "M",
          "M",
          "M",
          "M",
          "M",
          "M",
          "M",
          "M",
          "M",
          "M",
          "M",
          "M",
          "M",
          "M",
          "M",
          "M",
          "M",
          "M",
          "M",
          "M",
          "M",
          "M",
          "M",
          "M",
          "M",
          "M",
          "M",
          "M",
          "M",
          "M",
          "M",
          "M",
          "M",
          "M",
          "M",
          "M",
          "M",
          "M",
          "M",
          "M",
          "M",
          "M",
          "M",
          "M",
          "M",
          "M",
          "M",
          "M",
          "M",
          "M",
          "M",
          "M",
          "M",
          "M",
          "M",
          "M",
          "M",
          "M",
          "M",
          "M",
          "M",
          "M",
          "M",
          "M",
          "M",
          "M",
          "M",
          "M",
          "M",
          "M",
          "M",
          "M",
          "M",
          "M",
          "M",
          "M",
          "M",
          "M",
          "M",
          "M",
          "M",
          "M",
          "M",
          "M",
          "M",
          "M",
          "M",
          "M",
          "M",
          "M",
          "M",
          "M",
          "M",
          "M",
          "M",
          "M",
          "M",
          "M",
          "M",
          "M",
          "M",
          "M",
          "M",
          "M",
          "M",
          "M",
          "M",
          "M",
          "M",
          "M",
          "M",
          "M",
          "M",
          "M",
          "M",
          "M",
          "M",
          "M",
          "M",
          "M",
          "M",
          "M",
          "M",
          "M",
          "M",
          "M",
          "M",
          "M",
          "M",
          "M",
          "M",
          "M",
          "M",
          "M",
          "M",
          "M",
          "M",
          "M",
          "M",
          "M",
          "M",
          "M",
          "M",
          "M",
          "M",
          "M",
          "M",
          "M",
          "M",
          "M",
          "M",
          "M",
          "M",
          "M",
          "M",
          "M",
          "M",
          "M",
          "M",
          "M",
          "M",
          "M",
          "M",
          "M",
          "M",
          "M",
          "M",
          "M",
          "M",
          "M",
          "M",
          "M",
          "M",
          "M",
          "M",
          "M",
          "M",
          "M",
          "M",
          "M",
          "M",
          "M",
          "M",
          "M",
          "M",
          "M",
          "M",
          "M",
          "M",
          "M",
          "M",
          "M",
          "M",
          "M",
          "M",
          "M",
          "M",
          "M",
          "M",
          "M",
          "M",
          "M",
          "M",
          "M",
          "M",
          "M",
          "M",
          "M",
          "M",
          "M",
          "M",
          "M",
          "M",
          "M",
          "M",
          "M",
          "M",
          "M",
          "M",
          "M",
          "M",
          "M",
          "M",
          "M",
          "M",
          "M",
          "M",
          "M",
          "M",
          "M",
          "M",
          "M",
          "M",
          "M",
          "M",
          "M",
          "M",
          "M",
          "M",
          "M",
          "M",
          "M",
          "M",
          "M",
          "M",
          "M",
          "M",
          "M",
          "M",
          "M",
          "M",
          "M",
          "M",
          "M",
          "M",
          "M",
          "M",
          "M"
         ],
         "xaxis": "x",
         "yaxis": "y"
        },
        {
         "alignmentgroup": "True",
         "bingroup": "x",
         "hovertemplate": "Sex=%{x}<br>count=%{y}<extra></extra>",
         "legendgroup": "F",
         "marker": {
          "color": "#EF553B",
          "pattern": {
           "shape": ""
          }
         },
         "name": "F",
         "offsetgroup": "F",
         "orientation": "v",
         "showlegend": true,
         "type": "histogram",
         "x": [
          "F",
          "F",
          "F",
          "F",
          "F",
          "F",
          "F",
          "F",
          "F",
          "F",
          "F",
          "F",
          "F",
          "F",
          "F",
          "F",
          "F",
          "F",
          "F",
          "F",
          "F",
          "F",
          "F",
          "F",
          "F",
          "F",
          "F",
          "F",
          "F",
          "F",
          "F",
          "F",
          "F",
          "F",
          "F",
          "F",
          "F",
          "F",
          "F",
          "F",
          "F",
          "F",
          "F",
          "F",
          "F",
          "F",
          "F",
          "F",
          "F",
          "F",
          "F",
          "F",
          "F",
          "F",
          "F",
          "F",
          "F",
          "F",
          "F",
          "F",
          "F",
          "F",
          "F",
          "F",
          "F",
          "F",
          "F",
          "F",
          "F",
          "F",
          "F",
          "F",
          "F",
          "F",
          "F",
          "F",
          "F",
          "F",
          "F",
          "F",
          "F",
          "F",
          "F",
          "F",
          "F",
          "F",
          "F",
          "F",
          "F",
          "F",
          "F",
          "F",
          "F",
          "F",
          "F",
          "F",
          "F",
          "F",
          "F",
          "F",
          "F",
          "F",
          "F",
          "F",
          "F",
          "F",
          "F",
          "F",
          "F",
          "F",
          "F",
          "F",
          "F",
          "F",
          "F",
          "F",
          "F",
          "F",
          "F",
          "F",
          "F",
          "F",
          "F",
          "F",
          "F",
          "F",
          "F",
          "F",
          "F",
          "F",
          "F",
          "F",
          "F",
          "F",
          "F",
          "F",
          "F",
          "F",
          "F",
          "F",
          "F",
          "F",
          "F",
          "F",
          "F",
          "F",
          "F",
          "F",
          "F",
          "F",
          "F",
          "F",
          "F",
          "F",
          "F",
          "F",
          "F",
          "F",
          "F",
          "F",
          "F",
          "F",
          "F",
          "F",
          "F",
          "F",
          "F",
          "F",
          "F",
          "F",
          "F",
          "F",
          "F",
          "F",
          "F",
          "F",
          "F",
          "F",
          "F",
          "F",
          "F",
          "F",
          "F",
          "F",
          "F",
          "F",
          "F",
          "F",
          "F",
          "F",
          "F",
          "F",
          "F"
         ],
         "xaxis": "x",
         "yaxis": "y"
        }
       ],
       "layout": {
        "barmode": "relative",
        "height": 400,
        "legend": {
         "title": {
          "text": "Sex"
         },
         "tracegroupgap": 0
        },
        "template": {
         "data": {
          "bar": [
           {
            "error_x": {
             "color": "#2a3f5f"
            },
            "error_y": {
             "color": "#2a3f5f"
            },
            "marker": {
             "line": {
              "color": "#E5ECF6",
              "width": 0.5
             },
             "pattern": {
              "fillmode": "overlay",
              "size": 10,
              "solidity": 0.2
             }
            },
            "type": "bar"
           }
          ],
          "barpolar": [
           {
            "marker": {
             "line": {
              "color": "#E5ECF6",
              "width": 0.5
             },
             "pattern": {
              "fillmode": "overlay",
              "size": 10,
              "solidity": 0.2
             }
            },
            "type": "barpolar"
           }
          ],
          "carpet": [
           {
            "aaxis": {
             "endlinecolor": "#2a3f5f",
             "gridcolor": "white",
             "linecolor": "white",
             "minorgridcolor": "white",
             "startlinecolor": "#2a3f5f"
            },
            "baxis": {
             "endlinecolor": "#2a3f5f",
             "gridcolor": "white",
             "linecolor": "white",
             "minorgridcolor": "white",
             "startlinecolor": "#2a3f5f"
            },
            "type": "carpet"
           }
          ],
          "choropleth": [
           {
            "colorbar": {
             "outlinewidth": 0,
             "ticks": ""
            },
            "type": "choropleth"
           }
          ],
          "contour": [
           {
            "colorbar": {
             "outlinewidth": 0,
             "ticks": ""
            },
            "colorscale": [
             [
              0,
              "#0d0887"
             ],
             [
              0.1111111111111111,
              "#46039f"
             ],
             [
              0.2222222222222222,
              "#7201a8"
             ],
             [
              0.3333333333333333,
              "#9c179e"
             ],
             [
              0.4444444444444444,
              "#bd3786"
             ],
             [
              0.5555555555555556,
              "#d8576b"
             ],
             [
              0.6666666666666666,
              "#ed7953"
             ],
             [
              0.7777777777777778,
              "#fb9f3a"
             ],
             [
              0.8888888888888888,
              "#fdca26"
             ],
             [
              1,
              "#f0f921"
             ]
            ],
            "type": "contour"
           }
          ],
          "contourcarpet": [
           {
            "colorbar": {
             "outlinewidth": 0,
             "ticks": ""
            },
            "type": "contourcarpet"
           }
          ],
          "heatmap": [
           {
            "colorbar": {
             "outlinewidth": 0,
             "ticks": ""
            },
            "colorscale": [
             [
              0,
              "#0d0887"
             ],
             [
              0.1111111111111111,
              "#46039f"
             ],
             [
              0.2222222222222222,
              "#7201a8"
             ],
             [
              0.3333333333333333,
              "#9c179e"
             ],
             [
              0.4444444444444444,
              "#bd3786"
             ],
             [
              0.5555555555555556,
              "#d8576b"
             ],
             [
              0.6666666666666666,
              "#ed7953"
             ],
             [
              0.7777777777777778,
              "#fb9f3a"
             ],
             [
              0.8888888888888888,
              "#fdca26"
             ],
             [
              1,
              "#f0f921"
             ]
            ],
            "type": "heatmap"
           }
          ],
          "heatmapgl": [
           {
            "colorbar": {
             "outlinewidth": 0,
             "ticks": ""
            },
            "colorscale": [
             [
              0,
              "#0d0887"
             ],
             [
              0.1111111111111111,
              "#46039f"
             ],
             [
              0.2222222222222222,
              "#7201a8"
             ],
             [
              0.3333333333333333,
              "#9c179e"
             ],
             [
              0.4444444444444444,
              "#bd3786"
             ],
             [
              0.5555555555555556,
              "#d8576b"
             ],
             [
              0.6666666666666666,
              "#ed7953"
             ],
             [
              0.7777777777777778,
              "#fb9f3a"
             ],
             [
              0.8888888888888888,
              "#fdca26"
             ],
             [
              1,
              "#f0f921"
             ]
            ],
            "type": "heatmapgl"
           }
          ],
          "histogram": [
           {
            "marker": {
             "pattern": {
              "fillmode": "overlay",
              "size": 10,
              "solidity": 0.2
             }
            },
            "type": "histogram"
           }
          ],
          "histogram2d": [
           {
            "colorbar": {
             "outlinewidth": 0,
             "ticks": ""
            },
            "colorscale": [
             [
              0,
              "#0d0887"
             ],
             [
              0.1111111111111111,
              "#46039f"
             ],
             [
              0.2222222222222222,
              "#7201a8"
             ],
             [
              0.3333333333333333,
              "#9c179e"
             ],
             [
              0.4444444444444444,
              "#bd3786"
             ],
             [
              0.5555555555555556,
              "#d8576b"
             ],
             [
              0.6666666666666666,
              "#ed7953"
             ],
             [
              0.7777777777777778,
              "#fb9f3a"
             ],
             [
              0.8888888888888888,
              "#fdca26"
             ],
             [
              1,
              "#f0f921"
             ]
            ],
            "type": "histogram2d"
           }
          ],
          "histogram2dcontour": [
           {
            "colorbar": {
             "outlinewidth": 0,
             "ticks": ""
            },
            "colorscale": [
             [
              0,
              "#0d0887"
             ],
             [
              0.1111111111111111,
              "#46039f"
             ],
             [
              0.2222222222222222,
              "#7201a8"
             ],
             [
              0.3333333333333333,
              "#9c179e"
             ],
             [
              0.4444444444444444,
              "#bd3786"
             ],
             [
              0.5555555555555556,
              "#d8576b"
             ],
             [
              0.6666666666666666,
              "#ed7953"
             ],
             [
              0.7777777777777778,
              "#fb9f3a"
             ],
             [
              0.8888888888888888,
              "#fdca26"
             ],
             [
              1,
              "#f0f921"
             ]
            ],
            "type": "histogram2dcontour"
           }
          ],
          "mesh3d": [
           {
            "colorbar": {
             "outlinewidth": 0,
             "ticks": ""
            },
            "type": "mesh3d"
           }
          ],
          "parcoords": [
           {
            "line": {
             "colorbar": {
              "outlinewidth": 0,
              "ticks": ""
             }
            },
            "type": "parcoords"
           }
          ],
          "pie": [
           {
            "automargin": true,
            "type": "pie"
           }
          ],
          "scatter": [
           {
            "marker": {
             "colorbar": {
              "outlinewidth": 0,
              "ticks": ""
             }
            },
            "type": "scatter"
           }
          ],
          "scatter3d": [
           {
            "line": {
             "colorbar": {
              "outlinewidth": 0,
              "ticks": ""
             }
            },
            "marker": {
             "colorbar": {
              "outlinewidth": 0,
              "ticks": ""
             }
            },
            "type": "scatter3d"
           }
          ],
          "scattercarpet": [
           {
            "marker": {
             "colorbar": {
              "outlinewidth": 0,
              "ticks": ""
             }
            },
            "type": "scattercarpet"
           }
          ],
          "scattergeo": [
           {
            "marker": {
             "colorbar": {
              "outlinewidth": 0,
              "ticks": ""
             }
            },
            "type": "scattergeo"
           }
          ],
          "scattergl": [
           {
            "marker": {
             "colorbar": {
              "outlinewidth": 0,
              "ticks": ""
             }
            },
            "type": "scattergl"
           }
          ],
          "scattermapbox": [
           {
            "marker": {
             "colorbar": {
              "outlinewidth": 0,
              "ticks": ""
             }
            },
            "type": "scattermapbox"
           }
          ],
          "scatterpolar": [
           {
            "marker": {
             "colorbar": {
              "outlinewidth": 0,
              "ticks": ""
             }
            },
            "type": "scatterpolar"
           }
          ],
          "scatterpolargl": [
           {
            "marker": {
             "colorbar": {
              "outlinewidth": 0,
              "ticks": ""
             }
            },
            "type": "scatterpolargl"
           }
          ],
          "scatterternary": [
           {
            "marker": {
             "colorbar": {
              "outlinewidth": 0,
              "ticks": ""
             }
            },
            "type": "scatterternary"
           }
          ],
          "surface": [
           {
            "colorbar": {
             "outlinewidth": 0,
             "ticks": ""
            },
            "colorscale": [
             [
              0,
              "#0d0887"
             ],
             [
              0.1111111111111111,
              "#46039f"
             ],
             [
              0.2222222222222222,
              "#7201a8"
             ],
             [
              0.3333333333333333,
              "#9c179e"
             ],
             [
              0.4444444444444444,
              "#bd3786"
             ],
             [
              0.5555555555555556,
              "#d8576b"
             ],
             [
              0.6666666666666666,
              "#ed7953"
             ],
             [
              0.7777777777777778,
              "#fb9f3a"
             ],
             [
              0.8888888888888888,
              "#fdca26"
             ],
             [
              1,
              "#f0f921"
             ]
            ],
            "type": "surface"
           }
          ],
          "table": [
           {
            "cells": {
             "fill": {
              "color": "#EBF0F8"
             },
             "line": {
              "color": "white"
             }
            },
            "header": {
             "fill": {
              "color": "#C8D4E3"
             },
             "line": {
              "color": "white"
             }
            },
            "type": "table"
           }
          ]
         },
         "layout": {
          "annotationdefaults": {
           "arrowcolor": "#2a3f5f",
           "arrowhead": 0,
           "arrowwidth": 1
          },
          "autotypenumbers": "strict",
          "coloraxis": {
           "colorbar": {
            "outlinewidth": 0,
            "ticks": ""
           }
          },
          "colorscale": {
           "diverging": [
            [
             0,
             "#8e0152"
            ],
            [
             0.1,
             "#c51b7d"
            ],
            [
             0.2,
             "#de77ae"
            ],
            [
             0.3,
             "#f1b6da"
            ],
            [
             0.4,
             "#fde0ef"
            ],
            [
             0.5,
             "#f7f7f7"
            ],
            [
             0.6,
             "#e6f5d0"
            ],
            [
             0.7,
             "#b8e186"
            ],
            [
             0.8,
             "#7fbc41"
            ],
            [
             0.9,
             "#4d9221"
            ],
            [
             1,
             "#276419"
            ]
           ],
           "sequential": [
            [
             0,
             "#0d0887"
            ],
            [
             0.1111111111111111,
             "#46039f"
            ],
            [
             0.2222222222222222,
             "#7201a8"
            ],
            [
             0.3333333333333333,
             "#9c179e"
            ],
            [
             0.4444444444444444,
             "#bd3786"
            ],
            [
             0.5555555555555556,
             "#d8576b"
            ],
            [
             0.6666666666666666,
             "#ed7953"
            ],
            [
             0.7777777777777778,
             "#fb9f3a"
            ],
            [
             0.8888888888888888,
             "#fdca26"
            ],
            [
             1,
             "#f0f921"
            ]
           ],
           "sequentialminus": [
            [
             0,
             "#0d0887"
            ],
            [
             0.1111111111111111,
             "#46039f"
            ],
            [
             0.2222222222222222,
             "#7201a8"
            ],
            [
             0.3333333333333333,
             "#9c179e"
            ],
            [
             0.4444444444444444,
             "#bd3786"
            ],
            [
             0.5555555555555556,
             "#d8576b"
            ],
            [
             0.6666666666666666,
             "#ed7953"
            ],
            [
             0.7777777777777778,
             "#fb9f3a"
            ],
            [
             0.8888888888888888,
             "#fdca26"
            ],
            [
             1,
             "#f0f921"
            ]
           ]
          },
          "colorway": [
           "#636efa",
           "#EF553B",
           "#00cc96",
           "#ab63fa",
           "#FFA15A",
           "#19d3f3",
           "#FF6692",
           "#B6E880",
           "#FF97FF",
           "#FECB52"
          ],
          "font": {
           "color": "#2a3f5f"
          },
          "geo": {
           "bgcolor": "white",
           "lakecolor": "white",
           "landcolor": "#E5ECF6",
           "showlakes": true,
           "showland": true,
           "subunitcolor": "white"
          },
          "hoverlabel": {
           "align": "left"
          },
          "hovermode": "closest",
          "mapbox": {
           "style": "light"
          },
          "paper_bgcolor": "white",
          "plot_bgcolor": "#E5ECF6",
          "polar": {
           "angularaxis": {
            "gridcolor": "white",
            "linecolor": "white",
            "ticks": ""
           },
           "bgcolor": "#E5ECF6",
           "radialaxis": {
            "gridcolor": "white",
            "linecolor": "white",
            "ticks": ""
           }
          },
          "scene": {
           "xaxis": {
            "backgroundcolor": "#E5ECF6",
            "gridcolor": "white",
            "gridwidth": 2,
            "linecolor": "white",
            "showbackground": true,
            "ticks": "",
            "zerolinecolor": "white"
           },
           "yaxis": {
            "backgroundcolor": "#E5ECF6",
            "gridcolor": "white",
            "gridwidth": 2,
            "linecolor": "white",
            "showbackground": true,
            "ticks": "",
            "zerolinecolor": "white"
           },
           "zaxis": {
            "backgroundcolor": "#E5ECF6",
            "gridcolor": "white",
            "gridwidth": 2,
            "linecolor": "white",
            "showbackground": true,
            "ticks": "",
            "zerolinecolor": "white"
           }
          },
          "shapedefaults": {
           "line": {
            "color": "#2a3f5f"
           }
          },
          "ternary": {
           "aaxis": {
            "gridcolor": "white",
            "linecolor": "white",
            "ticks": ""
           },
           "baxis": {
            "gridcolor": "white",
            "linecolor": "white",
            "ticks": ""
           },
           "bgcolor": "#E5ECF6",
           "caxis": {
            "gridcolor": "white",
            "linecolor": "white",
            "ticks": ""
           }
          },
          "title": {
           "x": 0.05
          },
          "xaxis": {
           "automargin": true,
           "gridcolor": "white",
           "linecolor": "white",
           "ticks": "",
           "title": {
            "standoff": 15
           },
           "zerolinecolor": "white",
           "zerolinewidth": 2
          },
          "yaxis": {
           "automargin": true,
           "gridcolor": "white",
           "linecolor": "white",
           "ticks": "",
           "title": {
            "standoff": 15
           },
           "zerolinecolor": "white",
           "zerolinewidth": 2
          }
         }
        },
        "title": {
         "text": "MASCULINO X FEMININO"
        },
        "width": 800,
        "xaxis": {
         "anchor": "y",
         "categoryarray": [
          "M",
          "F"
         ],
         "categoryorder": "array",
         "domain": [
          0,
          1
         ],
         "title": {
          "text": "Sex"
         }
        },
        "yaxis": {
         "anchor": "x",
         "domain": [
          0,
          1
         ],
         "title": {
          "text": "count"
         }
        }
       }
      }
     },
     "metadata": {},
     "output_type": "display_data"
    }
   ],
   "source": [
    "#Analisando a iformação de forma gráfica\n",
    "\n",
    "fig = px.histogram(df, x= 'Sex',\n",
    "      color = 'Sex',\n",
    "      hover_data=df.columns,\n",
    "      title = 'masculino x feminino'.upper())\n",
    "\n",
    "fig.update_layout(width = 800,\n",
    "    height = 400)\n",
    "\n",
    "\n",
    "fig.show()\n"
   ]
  },
  {
   "cell_type": "markdown",
   "metadata": {},
   "source": [
    "### **Chest Pain Type - Tipo de dor no Peito**\n",
    "\n",
    "- **ASY**: assintomático.\n",
    "\n",
    "- **NAP**: dor não anginosa.\n",
    "\n",
    "- **ATA**: angina atípica.\n",
    "\n",
    "- **TA**: angina típica.\n",
    "\n",
    "O Gráfico está colorido de acordo com o número de pessoas que tem problema cardiáco.\n",
    "\n",
    "Nota-se que a maioria das pessoas com problema teve dor no peito assintomática. "
   ]
  },
  {
   "cell_type": "code",
   "execution_count": 184,
   "metadata": {},
   "outputs": [
    {
     "data": {
      "text/plain": [
       "ASY    496\n",
       "NAP    203\n",
       "ATA    173\n",
       "TA      46\n",
       "Name: ChestPainType, dtype: int64"
      ]
     },
     "execution_count": 184,
     "metadata": {},
     "output_type": "execute_result"
    }
   ],
   "source": [
    "df['ChestPainType'].value_counts()"
   ]
  },
  {
   "cell_type": "code",
   "execution_count": 185,
   "metadata": {},
   "outputs": [
    {
     "data": {
      "application/vnd.plotly.v1+json": {
       "config": {
        "plotlyServerURL": "https://plot.ly"
       },
       "data": [
        {
         "alignmentgroup": "True",
         "bingroup": "x",
         "hovertemplate": "HeartDisease=0<br>ChestPainType=%{x}<br>count=%{y}<extra></extra>",
         "legendgroup": "0",
         "marker": {
          "color": "#636efa",
          "pattern": {
           "shape": ""
          }
         },
         "name": "0",
         "offsetgroup": "0",
         "orientation": "v",
         "showlegend": true,
         "type": "histogram",
         "x": [
          "ATA",
          "ATA",
          "NAP",
          "NAP",
          "ATA",
          "ATA",
          "ATA",
          "NAP",
          "ATA",
          "NAP",
          "ATA",
          "ATA",
          "TA",
          "ATA",
          "ATA",
          "NAP",
          "NAP",
          "ASY",
          "ATA",
          "ATA",
          "ATA",
          "NAP",
          "ATA",
          "ATA",
          "ATA",
          "ATA",
          "ASY",
          "ATA",
          "ATA",
          "NAP",
          "NAP",
          "ASY",
          "ATA",
          "NAP",
          "ATA",
          "ATA",
          "ASY",
          "ATA",
          "ASY",
          "ATA",
          "NAP",
          "ASY",
          "ATA",
          "ATA",
          "ASY",
          "ATA",
          "ASY",
          "ATA",
          "ASY",
          "NAP",
          "ASY",
          "ATA",
          "NAP",
          "ATA",
          "ATA",
          "ATA",
          "ASY",
          "ATA",
          "ASY",
          "ATA",
          "NAP",
          "ATA",
          "NAP",
          "ASY",
          "ATA",
          "ASY",
          "ATA",
          "ASY",
          "ATA",
          "ASY",
          "ATA",
          "ATA",
          "ASY",
          "ATA",
          "NAP",
          "TA",
          "NAP",
          "ASY",
          "ATA",
          "ATA",
          "ATA",
          "ASY",
          "ATA",
          "NAP",
          "NAP",
          "ASY",
          "ATA",
          "ATA",
          "ASY",
          "ASY",
          "ATA",
          "ATA",
          "ATA",
          "ATA",
          "ATA",
          "ATA",
          "ASY",
          "ATA",
          "ASY",
          "ATA",
          "ATA",
          "ATA",
          "ATA",
          "ATA",
          "ASY",
          "NAP",
          "ATA",
          "NAP",
          "ATA",
          "NAP",
          "ATA",
          "NAP",
          "ASY",
          "ATA",
          "ASY",
          "ATA",
          "ATA",
          "ASY",
          "ASY",
          "ATA",
          "ATA",
          "NAP",
          "ATA",
          "TA",
          "ASY",
          "ATA",
          "TA",
          "TA",
          "NAP",
          "NAP",
          "ATA",
          "ATA",
          "ASY",
          "ATA",
          "ATA",
          "NAP",
          "NAP",
          "TA",
          "NAP",
          "ATA",
          "ATA",
          "NAP",
          "NAP",
          "ATA",
          "NAP",
          "ATA",
          "ASY",
          "ASY",
          "NAP",
          "ATA",
          "ASY",
          "ATA",
          "ATA",
          "ATA",
          "ATA",
          "TA",
          "ASY",
          "ATA",
          "NAP",
          "ATA",
          "NAP",
          "NAP",
          "ATA",
          "ATA",
          "ATA",
          "ATA",
          "ATA",
          "NAP",
          "ASY",
          "ATA",
          "NAP",
          "ATA",
          "NAP",
          "ASY",
          "ATA",
          "NAP",
          "NAP",
          "ATA",
          "ASY",
          "NAP",
          "ASY",
          "ATA",
          "ATA",
          "ATA",
          "NAP",
          "ATA",
          "ASY",
          "ATA",
          "ATA",
          "ASY",
          "ASY",
          "NAP",
          "NAP",
          "NAP",
          "NAP",
          "ASY",
          "NAP",
          "NAP",
          "NAP",
          "ATA",
          "ASY",
          "ASY",
          "ASY",
          "NAP",
          "ASY",
          "ASY",
          "ASY",
          "ASY",
          "NAP",
          "ATA",
          "ATA",
          "ATA",
          "ASY",
          "ATA",
          "TA",
          "ASY",
          "ASY",
          "NAP",
          "ASY",
          "NAP",
          "NAP",
          "ASY",
          "ASY",
          "NAP",
          "ATA",
          "ASY",
          "ATA",
          "ASY",
          "TA",
          "NAP",
          "NAP",
          "ASY",
          "NAP",
          "ATA",
          "ASY",
          "ASY",
          "NAP",
          "NAP",
          "ATA",
          "ASY",
          "NAP",
          "ASY",
          "NAP",
          "ASY",
          "TA",
          "ASY",
          "NAP",
          "ASY",
          "ATA",
          "ASY",
          "ASY",
          "ASY",
          "NAP",
          "ASY",
          "ASY",
          "TA",
          "TA",
          "ATA",
          "ASY",
          "ASY",
          "ATA",
          "NAP",
          "ASY",
          "NAP",
          "NAP",
          "ASY",
          "NAP",
          "NAP",
          "ASY",
          "ASY",
          "NAP",
          "ATA",
          "NAP",
          "ATA",
          "NAP",
          "ATA",
          "ATA",
          "ATA",
          "NAP",
          "NAP",
          "NAP",
          "TA",
          "TA",
          "ASY",
          "NAP",
          "ASY",
          "ATA",
          "NAP",
          "ASY",
          "ASY",
          "NAP",
          "NAP",
          "ATA",
          "NAP",
          "ASY",
          "TA",
          "ATA",
          "TA",
          "ATA",
          "ATA",
          "ASY",
          "NAP",
          "ATA",
          "NAP",
          "ASY",
          "NAP",
          "ATA",
          "ATA",
          "NAP",
          "ATA",
          "ATA",
          "TA",
          "NAP",
          "NAP",
          "NAP",
          "NAP",
          "ATA",
          "ASY",
          "NAP",
          "NAP",
          "NAP",
          "ATA",
          "ASY",
          "ASY",
          "TA",
          "NAP",
          "NAP",
          "NAP",
          "NAP",
          "ASY",
          "NAP",
          "ATA",
          "ATA",
          "TA",
          "ATA",
          "ASY",
          "ASY",
          "ASY",
          "NAP",
          "ASY",
          "TA",
          "NAP",
          "TA",
          "NAP",
          "NAP",
          "ASY",
          "NAP",
          "NAP",
          "ASY",
          "ASY",
          "ASY",
          "ATA",
          "NAP",
          "ATA",
          "ASY",
          "NAP",
          "TA",
          "NAP",
          "TA",
          "NAP",
          "NAP",
          "NAP",
          "NAP",
          "NAP",
          "ATA",
          "ATA",
          "NAP",
          "NAP",
          "NAP",
          "ATA",
          "NAP",
          "ASY",
          "ATA",
          "TA",
          "TA",
          "ASY",
          "NAP",
          "ASY",
          "NAP",
          "ATA",
          "NAP",
          "ASY",
          "NAP",
          "NAP",
          "ATA",
          "NAP",
          "NAP",
          "ATA",
          "NAP",
          "ASY",
          "NAP",
          "ATA",
          "NAP",
          "ATA",
          "ATA",
          "ASY",
          "NAP",
          "NAP",
          "TA",
          "NAP",
          "NAP",
          "ASY",
          "NAP",
          "ATA",
          "ATA",
          "ATA",
          "ATA",
          "ATA",
          "ATA",
          "NAP"
         ],
         "xaxis": "x",
         "yaxis": "y"
        },
        {
         "alignmentgroup": "True",
         "bingroup": "x",
         "hovertemplate": "HeartDisease=1<br>ChestPainType=%{x}<br>count=%{y}<extra></extra>",
         "legendgroup": "1",
         "marker": {
          "color": "#EF553B",
          "pattern": {
           "shape": ""
          }
         },
         "name": "1",
         "offsetgroup": "1",
         "orientation": "v",
         "showlegend": true,
         "type": "histogram",
         "x": [
          "NAP",
          "ASY",
          "ASY",
          "ATA",
          "ASY",
          "ASY",
          "ASY",
          "ATA",
          "ATA",
          "NAP",
          "ASY",
          "ASY",
          "ASY",
          "NAP",
          "ASY",
          "ASY",
          "ASY",
          "ASY",
          "ASY",
          "NAP",
          "ASY",
          "ASY",
          "ASY",
          "ATA",
          "ASY",
          "ASY",
          "ASY",
          "ASY",
          "ASY",
          "ASY",
          "ASY",
          "ASY",
          "TA",
          "ASY",
          "ASY",
          "ASY",
          "ASY",
          "ASY",
          "ASY",
          "ASY",
          "ASY",
          "ASY",
          "ASY",
          "TA",
          "NAP",
          "ATA",
          "ASY",
          "ASY",
          "ASY",
          "NAP",
          "ASY",
          "ASY",
          "ASY",
          "ASY",
          "ASY",
          "ATA",
          "ASY",
          "ASY",
          "ASY",
          "ASY",
          "ASY",
          "ASY",
          "TA",
          "ASY",
          "ASY",
          "ASY",
          "ASY",
          "ASY",
          "ASY",
          "NAP",
          "ASY",
          "ASY",
          "ASY",
          "ATA",
          "ASY",
          "ASY",
          "NAP",
          "ASY",
          "ASY",
          "ASY",
          "ASY",
          "ASY",
          "ASY",
          "ASY",
          "TA",
          "ASY",
          "ASY",
          "ASY",
          "ATA",
          "ASY",
          "NAP",
          "ASY",
          "ASY",
          "ASY",
          "ASY",
          "ASY",
          "ASY",
          "ASY",
          "ASY",
          "NAP",
          "ASY",
          "ASY",
          "ASY",
          "NAP",
          "ASY",
          "ASY",
          "ASY",
          "TA",
          "ASY",
          "ASY",
          "ASY",
          "ASY",
          "ASY",
          "ASY",
          "ASY",
          "ASY",
          "ASY",
          "ASY",
          "ASY",
          "ASY",
          "ASY",
          "ASY",
          "ASY",
          "ASY",
          "ATA",
          "NAP",
          "ASY",
          "ASY",
          "ASY",
          "NAP",
          "ASY",
          "ASY",
          "ASY",
          "ASY",
          "ASY",
          "ASY",
          "ASY",
          "ASY",
          "NAP",
          "ASY",
          "ASY",
          "ASY",
          "TA",
          "ASY",
          "ASY",
          "ASY",
          "ASY",
          "ASY",
          "ASY",
          "ASY",
          "ASY",
          "ASY",
          "ASY",
          "ASY",
          "ASY",
          "ASY",
          "ASY",
          "ASY",
          "ASY",
          "ASY",
          "ASY",
          "TA",
          "ASY",
          "ATA",
          "NAP",
          "NAP",
          "NAP",
          "ASY",
          "NAP",
          "ASY",
          "ASY",
          "ASY",
          "ASY",
          "ASY",
          "ASY",
          "ASY",
          "ASY",
          "ASY",
          "ASY",
          "ASY",
          "NAP",
          "NAP",
          "ASY",
          "ASY",
          "ASY",
          "ASY",
          "ASY",
          "ASY",
          "ASY",
          "ASY",
          "ASY",
          "ASY",
          "ASY",
          "ASY",
          "ASY",
          "ASY",
          "ASY",
          "ASY",
          "ASY",
          "ASY",
          "ASY",
          "TA",
          "ASY",
          "ASY",
          "NAP",
          "ASY",
          "ASY",
          "ASY",
          "ASY",
          "NAP",
          "ASY",
          "ASY",
          "ASY",
          "ASY",
          "NAP",
          "ASY",
          "ASY",
          "ASY",
          "NAP",
          "ASY",
          "ASY",
          "ASY",
          "ASY",
          "ASY",
          "ASY",
          "NAP",
          "ATA",
          "ASY",
          "ASY",
          "NAP",
          "ASY",
          "ASY",
          "ASY",
          "ASY",
          "ASY",
          "NAP",
          "NAP",
          "ASY",
          "ASY",
          "ASY",
          "ASY",
          "NAP",
          "ASY",
          "ASY",
          "ASY",
          "NAP",
          "NAP",
          "ASY",
          "ASY",
          "ASY",
          "NAP",
          "ASY",
          "ASY",
          "ASY",
          "ASY",
          "ASY",
          "NAP",
          "NAP",
          "ASY",
          "ASY",
          "ASY",
          "ASY",
          "NAP",
          "ASY",
          "ASY",
          "ASY",
          "NAP",
          "ATA",
          "NAP",
          "TA",
          "ASY",
          "ASY",
          "ATA",
          "ASY",
          "ASY",
          "NAP",
          "ASY",
          "TA",
          "NAP",
          "ASY",
          "ASY",
          "ASY",
          "ASY",
          "ASY",
          "ASY",
          "ASY",
          "ASY",
          "ASY",
          "NAP",
          "ASY",
          "ASY",
          "ASY",
          "ASY",
          "TA",
          "ASY",
          "NAP",
          "ASY",
          "NAP",
          "ASY",
          "ASY",
          "ASY",
          "ASY",
          "ASY",
          "NAP",
          "ASY",
          "ASY",
          "ASY",
          "ASY",
          "ASY",
          "ASY",
          "ASY",
          "NAP",
          "ASY",
          "ASY",
          "NAP",
          "NAP",
          "ASY",
          "ASY",
          "NAP",
          "TA",
          "ASY",
          "ASY",
          "NAP",
          "TA",
          "NAP",
          "NAP",
          "NAP",
          "ASY",
          "ASY",
          "ASY",
          "ASY",
          "ASY",
          "ASY",
          "ASY",
          "ASY",
          "ASY",
          "ASY",
          "ASY",
          "ASY",
          "ASY",
          "ASY",
          "ASY",
          "ASY",
          "ASY",
          "ASY",
          "ASY",
          "ASY",
          "ASY",
          "ATA",
          "ASY",
          "ASY",
          "NAP",
          "ASY",
          "ASY",
          "ASY",
          "ASY",
          "ASY",
          "ASY",
          "ASY",
          "NAP",
          "NAP",
          "ASY",
          "ASY",
          "ASY",
          "ASY",
          "ASY",
          "ASY",
          "ASY",
          "ATA",
          "ASY",
          "ATA",
          "NAP",
          "ASY",
          "ASY",
          "ASY",
          "TA",
          "ASY",
          "ASY",
          "ASY",
          "NAP",
          "NAP",
          "ASY",
          "ASY",
          "ASY",
          "ASY",
          "TA",
          "ASY",
          "NAP",
          "NAP",
          "ASY",
          "ATA",
          "ASY",
          "ASY",
          "ASY",
          "ASY",
          "ATA",
          "ASY",
          "ASY",
          "ATA",
          "NAP",
          "ASY",
          "ASY",
          "ASY",
          "ASY",
          "ASY",
          "ASY",
          "ASY",
          "ASY",
          "ASY",
          "ASY",
          "ASY",
          "ASY",
          "ASY",
          "ASY",
          "ASY",
          "ASY",
          "ASY",
          "ASY",
          "ASY",
          "ASY",
          "ASY",
          "ASY",
          "ASY",
          "NAP",
          "ASY",
          "ASY",
          "ASY",
          "ASY",
          "ASY",
          "ASY",
          "ASY",
          "ASY",
          "ASY",
          "NAP",
          "ATA",
          "ASY",
          "ASY",
          "ASY",
          "NAP",
          "ASY",
          "ASY",
          "TA",
          "ASY",
          "ASY",
          "TA",
          "NAP",
          "ASY",
          "ASY",
          "ASY",
          "NAP",
          "ASY",
          "ASY",
          "ASY",
          "ASY",
          "NAP",
          "ASY",
          "ASY",
          "ASY",
          "ASY",
          "ASY",
          "ASY",
          "ASY",
          "NAP",
          "TA",
          "ASY",
          "ASY",
          "ASY",
          "ASY",
          "NAP",
          "ASY",
          "ASY",
          "ASY",
          "ASY",
          "ASY",
          "ASY",
          "NAP",
          "ASY",
          "ASY",
          "ASY",
          "NAP",
          "ASY",
          "ASY",
          "ASY",
          "ASY",
          "NAP",
          "ASY",
          "ATA",
          "ATA",
          "ASY",
          "ASY",
          "ASY",
          "TA",
          "ATA",
          "ASY",
          "ASY",
          "ASY",
          "ASY",
          "ASY",
          "NAP",
          "ASY",
          "ASY",
          "ASY",
          "ASY",
          "ASY",
          "TA",
          "ASY",
          "ASY",
          "ATA"
         ],
         "xaxis": "x",
         "yaxis": "y"
        }
       ],
       "layout": {
        "barmode": "relative",
        "height": 400,
        "legend": {
         "title": {
          "text": "HeartDisease"
         },
         "tracegroupgap": 0
        },
        "template": {
         "data": {
          "bar": [
           {
            "error_x": {
             "color": "#2a3f5f"
            },
            "error_y": {
             "color": "#2a3f5f"
            },
            "marker": {
             "line": {
              "color": "#E5ECF6",
              "width": 0.5
             },
             "pattern": {
              "fillmode": "overlay",
              "size": 10,
              "solidity": 0.2
             }
            },
            "type": "bar"
           }
          ],
          "barpolar": [
           {
            "marker": {
             "line": {
              "color": "#E5ECF6",
              "width": 0.5
             },
             "pattern": {
              "fillmode": "overlay",
              "size": 10,
              "solidity": 0.2
             }
            },
            "type": "barpolar"
           }
          ],
          "carpet": [
           {
            "aaxis": {
             "endlinecolor": "#2a3f5f",
             "gridcolor": "white",
             "linecolor": "white",
             "minorgridcolor": "white",
             "startlinecolor": "#2a3f5f"
            },
            "baxis": {
             "endlinecolor": "#2a3f5f",
             "gridcolor": "white",
             "linecolor": "white",
             "minorgridcolor": "white",
             "startlinecolor": "#2a3f5f"
            },
            "type": "carpet"
           }
          ],
          "choropleth": [
           {
            "colorbar": {
             "outlinewidth": 0,
             "ticks": ""
            },
            "type": "choropleth"
           }
          ],
          "contour": [
           {
            "colorbar": {
             "outlinewidth": 0,
             "ticks": ""
            },
            "colorscale": [
             [
              0,
              "#0d0887"
             ],
             [
              0.1111111111111111,
              "#46039f"
             ],
             [
              0.2222222222222222,
              "#7201a8"
             ],
             [
              0.3333333333333333,
              "#9c179e"
             ],
             [
              0.4444444444444444,
              "#bd3786"
             ],
             [
              0.5555555555555556,
              "#d8576b"
             ],
             [
              0.6666666666666666,
              "#ed7953"
             ],
             [
              0.7777777777777778,
              "#fb9f3a"
             ],
             [
              0.8888888888888888,
              "#fdca26"
             ],
             [
              1,
              "#f0f921"
             ]
            ],
            "type": "contour"
           }
          ],
          "contourcarpet": [
           {
            "colorbar": {
             "outlinewidth": 0,
             "ticks": ""
            },
            "type": "contourcarpet"
           }
          ],
          "heatmap": [
           {
            "colorbar": {
             "outlinewidth": 0,
             "ticks": ""
            },
            "colorscale": [
             [
              0,
              "#0d0887"
             ],
             [
              0.1111111111111111,
              "#46039f"
             ],
             [
              0.2222222222222222,
              "#7201a8"
             ],
             [
              0.3333333333333333,
              "#9c179e"
             ],
             [
              0.4444444444444444,
              "#bd3786"
             ],
             [
              0.5555555555555556,
              "#d8576b"
             ],
             [
              0.6666666666666666,
              "#ed7953"
             ],
             [
              0.7777777777777778,
              "#fb9f3a"
             ],
             [
              0.8888888888888888,
              "#fdca26"
             ],
             [
              1,
              "#f0f921"
             ]
            ],
            "type": "heatmap"
           }
          ],
          "heatmapgl": [
           {
            "colorbar": {
             "outlinewidth": 0,
             "ticks": ""
            },
            "colorscale": [
             [
              0,
              "#0d0887"
             ],
             [
              0.1111111111111111,
              "#46039f"
             ],
             [
              0.2222222222222222,
              "#7201a8"
             ],
             [
              0.3333333333333333,
              "#9c179e"
             ],
             [
              0.4444444444444444,
              "#bd3786"
             ],
             [
              0.5555555555555556,
              "#d8576b"
             ],
             [
              0.6666666666666666,
              "#ed7953"
             ],
             [
              0.7777777777777778,
              "#fb9f3a"
             ],
             [
              0.8888888888888888,
              "#fdca26"
             ],
             [
              1,
              "#f0f921"
             ]
            ],
            "type": "heatmapgl"
           }
          ],
          "histogram": [
           {
            "marker": {
             "pattern": {
              "fillmode": "overlay",
              "size": 10,
              "solidity": 0.2
             }
            },
            "type": "histogram"
           }
          ],
          "histogram2d": [
           {
            "colorbar": {
             "outlinewidth": 0,
             "ticks": ""
            },
            "colorscale": [
             [
              0,
              "#0d0887"
             ],
             [
              0.1111111111111111,
              "#46039f"
             ],
             [
              0.2222222222222222,
              "#7201a8"
             ],
             [
              0.3333333333333333,
              "#9c179e"
             ],
             [
              0.4444444444444444,
              "#bd3786"
             ],
             [
              0.5555555555555556,
              "#d8576b"
             ],
             [
              0.6666666666666666,
              "#ed7953"
             ],
             [
              0.7777777777777778,
              "#fb9f3a"
             ],
             [
              0.8888888888888888,
              "#fdca26"
             ],
             [
              1,
              "#f0f921"
             ]
            ],
            "type": "histogram2d"
           }
          ],
          "histogram2dcontour": [
           {
            "colorbar": {
             "outlinewidth": 0,
             "ticks": ""
            },
            "colorscale": [
             [
              0,
              "#0d0887"
             ],
             [
              0.1111111111111111,
              "#46039f"
             ],
             [
              0.2222222222222222,
              "#7201a8"
             ],
             [
              0.3333333333333333,
              "#9c179e"
             ],
             [
              0.4444444444444444,
              "#bd3786"
             ],
             [
              0.5555555555555556,
              "#d8576b"
             ],
             [
              0.6666666666666666,
              "#ed7953"
             ],
             [
              0.7777777777777778,
              "#fb9f3a"
             ],
             [
              0.8888888888888888,
              "#fdca26"
             ],
             [
              1,
              "#f0f921"
             ]
            ],
            "type": "histogram2dcontour"
           }
          ],
          "mesh3d": [
           {
            "colorbar": {
             "outlinewidth": 0,
             "ticks": ""
            },
            "type": "mesh3d"
           }
          ],
          "parcoords": [
           {
            "line": {
             "colorbar": {
              "outlinewidth": 0,
              "ticks": ""
             }
            },
            "type": "parcoords"
           }
          ],
          "pie": [
           {
            "automargin": true,
            "type": "pie"
           }
          ],
          "scatter": [
           {
            "marker": {
             "colorbar": {
              "outlinewidth": 0,
              "ticks": ""
             }
            },
            "type": "scatter"
           }
          ],
          "scatter3d": [
           {
            "line": {
             "colorbar": {
              "outlinewidth": 0,
              "ticks": ""
             }
            },
            "marker": {
             "colorbar": {
              "outlinewidth": 0,
              "ticks": ""
             }
            },
            "type": "scatter3d"
           }
          ],
          "scattercarpet": [
           {
            "marker": {
             "colorbar": {
              "outlinewidth": 0,
              "ticks": ""
             }
            },
            "type": "scattercarpet"
           }
          ],
          "scattergeo": [
           {
            "marker": {
             "colorbar": {
              "outlinewidth": 0,
              "ticks": ""
             }
            },
            "type": "scattergeo"
           }
          ],
          "scattergl": [
           {
            "marker": {
             "colorbar": {
              "outlinewidth": 0,
              "ticks": ""
             }
            },
            "type": "scattergl"
           }
          ],
          "scattermapbox": [
           {
            "marker": {
             "colorbar": {
              "outlinewidth": 0,
              "ticks": ""
             }
            },
            "type": "scattermapbox"
           }
          ],
          "scatterpolar": [
           {
            "marker": {
             "colorbar": {
              "outlinewidth": 0,
              "ticks": ""
             }
            },
            "type": "scatterpolar"
           }
          ],
          "scatterpolargl": [
           {
            "marker": {
             "colorbar": {
              "outlinewidth": 0,
              "ticks": ""
             }
            },
            "type": "scatterpolargl"
           }
          ],
          "scatterternary": [
           {
            "marker": {
             "colorbar": {
              "outlinewidth": 0,
              "ticks": ""
             }
            },
            "type": "scatterternary"
           }
          ],
          "surface": [
           {
            "colorbar": {
             "outlinewidth": 0,
             "ticks": ""
            },
            "colorscale": [
             [
              0,
              "#0d0887"
             ],
             [
              0.1111111111111111,
              "#46039f"
             ],
             [
              0.2222222222222222,
              "#7201a8"
             ],
             [
              0.3333333333333333,
              "#9c179e"
             ],
             [
              0.4444444444444444,
              "#bd3786"
             ],
             [
              0.5555555555555556,
              "#d8576b"
             ],
             [
              0.6666666666666666,
              "#ed7953"
             ],
             [
              0.7777777777777778,
              "#fb9f3a"
             ],
             [
              0.8888888888888888,
              "#fdca26"
             ],
             [
              1,
              "#f0f921"
             ]
            ],
            "type": "surface"
           }
          ],
          "table": [
           {
            "cells": {
             "fill": {
              "color": "#EBF0F8"
             },
             "line": {
              "color": "white"
             }
            },
            "header": {
             "fill": {
              "color": "#C8D4E3"
             },
             "line": {
              "color": "white"
             }
            },
            "type": "table"
           }
          ]
         },
         "layout": {
          "annotationdefaults": {
           "arrowcolor": "#2a3f5f",
           "arrowhead": 0,
           "arrowwidth": 1
          },
          "autotypenumbers": "strict",
          "coloraxis": {
           "colorbar": {
            "outlinewidth": 0,
            "ticks": ""
           }
          },
          "colorscale": {
           "diverging": [
            [
             0,
             "#8e0152"
            ],
            [
             0.1,
             "#c51b7d"
            ],
            [
             0.2,
             "#de77ae"
            ],
            [
             0.3,
             "#f1b6da"
            ],
            [
             0.4,
             "#fde0ef"
            ],
            [
             0.5,
             "#f7f7f7"
            ],
            [
             0.6,
             "#e6f5d0"
            ],
            [
             0.7,
             "#b8e186"
            ],
            [
             0.8,
             "#7fbc41"
            ],
            [
             0.9,
             "#4d9221"
            ],
            [
             1,
             "#276419"
            ]
           ],
           "sequential": [
            [
             0,
             "#0d0887"
            ],
            [
             0.1111111111111111,
             "#46039f"
            ],
            [
             0.2222222222222222,
             "#7201a8"
            ],
            [
             0.3333333333333333,
             "#9c179e"
            ],
            [
             0.4444444444444444,
             "#bd3786"
            ],
            [
             0.5555555555555556,
             "#d8576b"
            ],
            [
             0.6666666666666666,
             "#ed7953"
            ],
            [
             0.7777777777777778,
             "#fb9f3a"
            ],
            [
             0.8888888888888888,
             "#fdca26"
            ],
            [
             1,
             "#f0f921"
            ]
           ],
           "sequentialminus": [
            [
             0,
             "#0d0887"
            ],
            [
             0.1111111111111111,
             "#46039f"
            ],
            [
             0.2222222222222222,
             "#7201a8"
            ],
            [
             0.3333333333333333,
             "#9c179e"
            ],
            [
             0.4444444444444444,
             "#bd3786"
            ],
            [
             0.5555555555555556,
             "#d8576b"
            ],
            [
             0.6666666666666666,
             "#ed7953"
            ],
            [
             0.7777777777777778,
             "#fb9f3a"
            ],
            [
             0.8888888888888888,
             "#fdca26"
            ],
            [
             1,
             "#f0f921"
            ]
           ]
          },
          "colorway": [
           "#636efa",
           "#EF553B",
           "#00cc96",
           "#ab63fa",
           "#FFA15A",
           "#19d3f3",
           "#FF6692",
           "#B6E880",
           "#FF97FF",
           "#FECB52"
          ],
          "font": {
           "color": "#2a3f5f"
          },
          "geo": {
           "bgcolor": "white",
           "lakecolor": "white",
           "landcolor": "#E5ECF6",
           "showlakes": true,
           "showland": true,
           "subunitcolor": "white"
          },
          "hoverlabel": {
           "align": "left"
          },
          "hovermode": "closest",
          "mapbox": {
           "style": "light"
          },
          "paper_bgcolor": "white",
          "plot_bgcolor": "#E5ECF6",
          "polar": {
           "angularaxis": {
            "gridcolor": "white",
            "linecolor": "white",
            "ticks": ""
           },
           "bgcolor": "#E5ECF6",
           "radialaxis": {
            "gridcolor": "white",
            "linecolor": "white",
            "ticks": ""
           }
          },
          "scene": {
           "xaxis": {
            "backgroundcolor": "#E5ECF6",
            "gridcolor": "white",
            "gridwidth": 2,
            "linecolor": "white",
            "showbackground": true,
            "ticks": "",
            "zerolinecolor": "white"
           },
           "yaxis": {
            "backgroundcolor": "#E5ECF6",
            "gridcolor": "white",
            "gridwidth": 2,
            "linecolor": "white",
            "showbackground": true,
            "ticks": "",
            "zerolinecolor": "white"
           },
           "zaxis": {
            "backgroundcolor": "#E5ECF6",
            "gridcolor": "white",
            "gridwidth": 2,
            "linecolor": "white",
            "showbackground": true,
            "ticks": "",
            "zerolinecolor": "white"
           }
          },
          "shapedefaults": {
           "line": {
            "color": "#2a3f5f"
           }
          },
          "ternary": {
           "aaxis": {
            "gridcolor": "white",
            "linecolor": "white",
            "ticks": ""
           },
           "baxis": {
            "gridcolor": "white",
            "linecolor": "white",
            "ticks": ""
           },
           "bgcolor": "#E5ECF6",
           "caxis": {
            "gridcolor": "white",
            "linecolor": "white",
            "ticks": ""
           }
          },
          "title": {
           "x": 0.05
          },
          "xaxis": {
           "automargin": true,
           "gridcolor": "white",
           "linecolor": "white",
           "ticks": "",
           "title": {
            "standoff": 15
           },
           "zerolinecolor": "white",
           "zerolinewidth": 2
          },
          "yaxis": {
           "automargin": true,
           "gridcolor": "white",
           "linecolor": "white",
           "ticks": "",
           "title": {
            "standoff": 15
           },
           "zerolinecolor": "white",
           "zerolinewidth": 2
          }
         }
        },
        "title": {
         "text": "Tipo de Dor no Peito"
        },
        "width": 800,
        "xaxis": {
         "anchor": "y",
         "domain": [
          0,
          1
         ],
         "title": {
          "text": "ChestPainType"
         }
        },
        "yaxis": {
         "anchor": "x",
         "domain": [
          0,
          1
         ],
         "title": {
          "text": "count"
         }
        }
       }
      }
     },
     "metadata": {},
     "output_type": "display_data"
    }
   ],
   "source": [
    "#Analisando a informação de forma gráfica\n",
    "\n",
    "fig=px.histogram(df, x=\"ChestPainType\", \n",
    "    color = 'HeartDisease',\n",
    "    hover_data=df.columns,\n",
    "    title=\"Types of Chest Pain\")\n",
    "\n",
    "fig.update_layout(width = 800, \n",
    "    height = 400, \n",
    "    title_text = 'Tipo de Dor no Peito')\n",
    "    \n",
    "fig.show()"
   ]
  },
  {
   "cell_type": "markdown",
   "metadata": {},
   "source": [
    "### **Resting BP (blood pressure) = pressão sanguínea em repouso em mmHg(sistólica)**\n",
    "\n",
    "- **Definição de pressão Sistólica**:\n",
    "\n",
    "A pressão sistólica, ou máxima, é aquela que marca a contração do músculo cardíaco, quando ele bombeia sangue para o corpo. A diastólica, por sua vez, é a do momento de repouso, em que os vasos permanecem abertos para o sangue passar. Com a idade, é até mais comum que a pressão sistólica dê uma subidinha.\n",
    "\n",
    "[Fonte da Definição Saude Abril](https://saude.abril.com.br/medicina/pressao-arterial-qual-numero-e-mais-perigoso/)"
   ]
  },
  {
   "cell_type": "code",
   "execution_count": 186,
   "metadata": {},
   "outputs": [
    {
     "data": {
      "application/vnd.plotly.v1+json": {
       "config": {
        "plotlyServerURL": "https://plot.ly"
       },
       "data": [
        {
         "alignmentgroup": "True",
         "bingroup": "x",
         "hovertemplate": "RestingBP=%{x}<br>count=%{y}<extra></extra>",
         "legendgroup": "",
         "marker": {
          "color": "#636efa",
          "pattern": {
           "shape": ""
          }
         },
         "name": "",
         "nbinsx": 30,
         "offsetgroup": "",
         "orientation": "v",
         "showlegend": false,
         "type": "histogram",
         "x": [
          140,
          160,
          130,
          138,
          150,
          120,
          130,
          110,
          140,
          120,
          130,
          136,
          120,
          140,
          115,
          120,
          110,
          120,
          100,
          120,
          100,
          120,
          124,
          150,
          130,
          130,
          124,
          120,
          113,
          125,
          145,
          130,
          125,
          130,
          150,
          125,
          140,
          110,
          120,
          150,
          150,
          130,
          150,
          140,
          120,
          130,
          120,
          140,
          112,
          110,
          130,
          120,
          140,
          130,
          130,
          160,
          120,
          130,
          150,
          112,
          100,
          150,
          140,
          120,
          110,
          120,
          132,
          110,
          160,
          150,
          140,
          130,
          120,
          120,
          140,
          150,
          118,
          140,
          140,
          130,
          110,
          120,
          150,
          160,
          150,
          140,
          170,
          140,
          120,
          140,
          110,
          130,
          120,
          160,
          110,
          130,
          142,
          160,
          120,
          125,
          130,
          130,
          150,
          120,
          118,
          140,
          120,
          150,
          140,
          190,
          130,
          150,
          140,
          140,
          130,
          100,
          120,
          130,
          120,
          140,
          135,
          125,
          110,
          180,
          130,
          120,
          130,
          108,
          120,
          120,
          145,
          110,
          170,
          150,
          130,
          115,
          120,
          120,
          140,
          150,
          160,
          140,
          160,
          140,
          120,
          110,
          120,
          120,
          120,
          130,
          130,
          100,
          130,
          120,
          120,
          155,
          110,
          140,
          130,
          160,
          140,
          128,
          160,
          120,
          140,
          140,
          140,
          140,
          135,
          140,
          120,
          140,
          140,
          140,
          140,
          140,
          140,
          140,
          130,
          130,
          130,
          130,
          140,
          110,
          160,
          160,
          130,
          120,
          120,
          180,
          180,
          170,
          130,
          135,
          125,
          160,
          120,
          150,
          120,
          130,
          110,
          120,
          160,
          100,
          130,
          150,
          120,
          110,
          130,
          125,
          106,
          140,
          130,
          130,
          150,
          170,
          110,
          120,
          140,
          140,
          130,
          160,
          120,
          120,
          120,
          145,
          120,
          92,
          120,
          130,
          130,
          130,
          120,
          112,
          140,
          120,
          120,
          140,
          160,
          160,
          145,
          200,
          160,
          120,
          160,
          120,
          120,
          122,
          130,
          130,
          135,
          120,
          125,
          140,
          145,
          120,
          130,
          150,
          150,
          122,
          140,
          120,
          120,
          130,
          140,
          160,
          130,
          98,
          130,
          130,
          120,
          105,
          140,
          120,
          180,
          180,
          135,
          170,
          180,
          130,
          120,
          150,
          130,
          110,
          140,
          110,
          140,
          120,
          133,
          120,
          110,
          140,
          130,
          115,
          95,
          105,
          145,
          110,
          110,
          110,
          160,
          140,
          125,
          120,
          95,
          120,
          115,
          130,
          115,
          95,
          155,
          125,
          125,
          115,
          80,
          145,
          105,
          140,
          130,
          145,
          125,
          100,
          105,
          115,
          100,
          105,
          110,
          125,
          95,
          130,
          115,
          115,
          100,
          95,
          130,
          120,
          160,
          150,
          140,
          95,
          100,
          110,
          110,
          130,
          120,
          135,
          120,
          115,
          137,
          110,
          120,
          140,
          120,
          130,
          120,
          145,
          115,
          120,
          115,
          105,
          160,
          160,
          155,
          120,
          120,
          200,
          150,
          135,
          140,
          150,
          135,
          150,
          185,
          135,
          125,
          160,
          155,
          160,
          140,
          120,
          160,
          115,
          115,
          110,
          120,
          150,
          145,
          130,
          140,
          160,
          140,
          115,
          130,
          150,
          160,
          135,
          140,
          170,
          165,
          200,
          160,
          130,
          145,
          135,
          110,
          120,
          140,
          115,
          110,
          160,
          150,
          180,
          125,
          125,
          130,
          155,
          140,
          130,
          132,
          142,
          110,
          120,
          150,
          180,
          120,
          160,
          126,
          140,
          110,
          133,
          128,
          120,
          170,
          110,
          126,
          152,
          116,
          120,
          130,
          138,
          128,
          130,
          128,
          130,
          120,
          136,
          130,
          124,
          160,
          0,
          122,
          144,
          140,
          120,
          136,
          154,
          120,
          125,
          134,
          104,
          139,
          136,
          122,
          128,
          131,
          134,
          120,
          132,
          152,
          124,
          126,
          138,
          154,
          141,
          131,
          178,
          132,
          110,
          130,
          170,
          126,
          140,
          142,
          120,
          134,
          139,
          110,
          140,
          140,
          136,
          120,
          170,
          130,
          137,
          142,
          142,
          132,
          146,
          160,
          135,
          136,
          130,
          140,
          132,
          158,
          136,
          136,
          106,
          120,
          110,
          136,
          160,
          123,
          112,
          122,
          130,
          150,
          150,
          102,
          96,
          130,
          120,
          144,
          124,
          150,
          130,
          144,
          139,
          131,
          143,
          133,
          143,
          116,
          110,
          125,
          130,
          133,
          150,
          130,
          110,
          138,
          104,
          138,
          170,
          140,
          132,
          132,
          142,
          112,
          139,
          172,
          120,
          144,
          145,
          155,
          150,
          160,
          137,
          137,
          134,
          133,
          132,
          140,
          135,
          144,
          141,
          150,
          130,
          110,
          158,
          128,
          140,
          150,
          160,
          142,
          137,
          139,
          146,
          156,
          145,
          131,
          140,
          122,
          142,
          141,
          180,
          124,
          118,
          140,
          140,
          136,
          100,
          190,
          130,
          160,
          130,
          122,
          133,
          120,
          130,
          130,
          140,
          120,
          155,
          134,
          114,
          160,
          144,
          158,
          134,
          127,
          135,
          122,
          140,
          120,
          130,
          115,
          124,
          128,
          120,
          120,
          130,
          110,
          140,
          150,
          135,
          142,
          140,
          134,
          128,
          112,
          140,
          140,
          110,
          140,
          120,
          130,
          115,
          112,
          132,
          130,
          138,
          120,
          112,
          110,
          128,
          160,
          120,
          170,
          144,
          130,
          140,
          160,
          130,
          122,
          152,
          124,
          130,
          101,
          126,
          140,
          118,
          110,
          160,
          150,
          136,
          128,
          140,
          140,
          130,
          105,
          138,
          120,
          174,
          120,
          150,
          130,
          120,
          150,
          145,
          150,
          140,
          136,
          118,
          108,
          120,
          120,
          156,
          140,
          106,
          142,
          104,
          94,
          120,
          120,
          146,
          120,
          150,
          130,
          110,
          148,
          128,
          178,
          126,
          150,
          140,
          130,
          124,
          110,
          125,
          110,
          120,
          100,
          140,
          120,
          108,
          120,
          130,
          165,
          130,
          124,
          100,
          150,
          140,
          112,
          180,
          110,
          158,
          135,
          120,
          134,
          120,
          200,
          150,
          130,
          120,
          122,
          152,
          160,
          125,
          160,
          120,
          136,
          134,
          117,
          108,
          112,
          140,
          120,
          150,
          142,
          152,
          125,
          118,
          132,
          145,
          138,
          140,
          125,
          192,
          123,
          112,
          110,
          132,
          112,
          112,
          120,
          108,
          130,
          130,
          105,
          140,
          128,
          120,
          178,
          120,
          150,
          130,
          128,
          110,
          180,
          110,
          130,
          138,
          138,
          160,
          140,
          100,
          120,
          118,
          138,
          140,
          150,
          125,
          129,
          120,
          134,
          110,
          102,
          130,
          130,
          132,
          108,
          140,
          160,
          140,
          145,
          108,
          126,
          124,
          135,
          100,
          110,
          140,
          125,
          118,
          125,
          125,
          140,
          160,
          152,
          102,
          105,
          125,
          130,
          170,
          125,
          122,
          128,
          130,
          130,
          135,
          94,
          120,
          120,
          110,
          135,
          150,
          130,
          138,
          135,
          130,
          132,
          150,
          118,
          145,
          118,
          115,
          128,
          130,
          160,
          138,
          120,
          138,
          120,
          180,
          140,
          130,
          140,
          140,
          130,
          110,
          155,
          140,
          145,
          120,
          130,
          112,
          110,
          150,
          160,
          150,
          132,
          140,
          150,
          120,
          130,
          120,
          130,
          110,
          172,
          120,
          140,
          140,
          160,
          128,
          138,
          132,
          128,
          134,
          170,
          146,
          138,
          154,
          130,
          110,
          130,
          128,
          122,
          148,
          114,
          170,
          125,
          130,
          120,
          152,
          132,
          120,
          140,
          124,
          120,
          164,
          140,
          110,
          144,
          130,
          130,
          138
         ],
         "xaxis": "x",
         "yaxis": "y"
        }
       ],
       "layout": {
        "barmode": "relative",
        "height": 400,
        "legend": {
         "tracegroupgap": 0
        },
        "template": {
         "data": {
          "bar": [
           {
            "error_x": {
             "color": "#2a3f5f"
            },
            "error_y": {
             "color": "#2a3f5f"
            },
            "marker": {
             "line": {
              "color": "#E5ECF6",
              "width": 0.5
             },
             "pattern": {
              "fillmode": "overlay",
              "size": 10,
              "solidity": 0.2
             }
            },
            "type": "bar"
           }
          ],
          "barpolar": [
           {
            "marker": {
             "line": {
              "color": "#E5ECF6",
              "width": 0.5
             },
             "pattern": {
              "fillmode": "overlay",
              "size": 10,
              "solidity": 0.2
             }
            },
            "type": "barpolar"
           }
          ],
          "carpet": [
           {
            "aaxis": {
             "endlinecolor": "#2a3f5f",
             "gridcolor": "white",
             "linecolor": "white",
             "minorgridcolor": "white",
             "startlinecolor": "#2a3f5f"
            },
            "baxis": {
             "endlinecolor": "#2a3f5f",
             "gridcolor": "white",
             "linecolor": "white",
             "minorgridcolor": "white",
             "startlinecolor": "#2a3f5f"
            },
            "type": "carpet"
           }
          ],
          "choropleth": [
           {
            "colorbar": {
             "outlinewidth": 0,
             "ticks": ""
            },
            "type": "choropleth"
           }
          ],
          "contour": [
           {
            "colorbar": {
             "outlinewidth": 0,
             "ticks": ""
            },
            "colorscale": [
             [
              0,
              "#0d0887"
             ],
             [
              0.1111111111111111,
              "#46039f"
             ],
             [
              0.2222222222222222,
              "#7201a8"
             ],
             [
              0.3333333333333333,
              "#9c179e"
             ],
             [
              0.4444444444444444,
              "#bd3786"
             ],
             [
              0.5555555555555556,
              "#d8576b"
             ],
             [
              0.6666666666666666,
              "#ed7953"
             ],
             [
              0.7777777777777778,
              "#fb9f3a"
             ],
             [
              0.8888888888888888,
              "#fdca26"
             ],
             [
              1,
              "#f0f921"
             ]
            ],
            "type": "contour"
           }
          ],
          "contourcarpet": [
           {
            "colorbar": {
             "outlinewidth": 0,
             "ticks": ""
            },
            "type": "contourcarpet"
           }
          ],
          "heatmap": [
           {
            "colorbar": {
             "outlinewidth": 0,
             "ticks": ""
            },
            "colorscale": [
             [
              0,
              "#0d0887"
             ],
             [
              0.1111111111111111,
              "#46039f"
             ],
             [
              0.2222222222222222,
              "#7201a8"
             ],
             [
              0.3333333333333333,
              "#9c179e"
             ],
             [
              0.4444444444444444,
              "#bd3786"
             ],
             [
              0.5555555555555556,
              "#d8576b"
             ],
             [
              0.6666666666666666,
              "#ed7953"
             ],
             [
              0.7777777777777778,
              "#fb9f3a"
             ],
             [
              0.8888888888888888,
              "#fdca26"
             ],
             [
              1,
              "#f0f921"
             ]
            ],
            "type": "heatmap"
           }
          ],
          "heatmapgl": [
           {
            "colorbar": {
             "outlinewidth": 0,
             "ticks": ""
            },
            "colorscale": [
             [
              0,
              "#0d0887"
             ],
             [
              0.1111111111111111,
              "#46039f"
             ],
             [
              0.2222222222222222,
              "#7201a8"
             ],
             [
              0.3333333333333333,
              "#9c179e"
             ],
             [
              0.4444444444444444,
              "#bd3786"
             ],
             [
              0.5555555555555556,
              "#d8576b"
             ],
             [
              0.6666666666666666,
              "#ed7953"
             ],
             [
              0.7777777777777778,
              "#fb9f3a"
             ],
             [
              0.8888888888888888,
              "#fdca26"
             ],
             [
              1,
              "#f0f921"
             ]
            ],
            "type": "heatmapgl"
           }
          ],
          "histogram": [
           {
            "marker": {
             "pattern": {
              "fillmode": "overlay",
              "size": 10,
              "solidity": 0.2
             }
            },
            "type": "histogram"
           }
          ],
          "histogram2d": [
           {
            "colorbar": {
             "outlinewidth": 0,
             "ticks": ""
            },
            "colorscale": [
             [
              0,
              "#0d0887"
             ],
             [
              0.1111111111111111,
              "#46039f"
             ],
             [
              0.2222222222222222,
              "#7201a8"
             ],
             [
              0.3333333333333333,
              "#9c179e"
             ],
             [
              0.4444444444444444,
              "#bd3786"
             ],
             [
              0.5555555555555556,
              "#d8576b"
             ],
             [
              0.6666666666666666,
              "#ed7953"
             ],
             [
              0.7777777777777778,
              "#fb9f3a"
             ],
             [
              0.8888888888888888,
              "#fdca26"
             ],
             [
              1,
              "#f0f921"
             ]
            ],
            "type": "histogram2d"
           }
          ],
          "histogram2dcontour": [
           {
            "colorbar": {
             "outlinewidth": 0,
             "ticks": ""
            },
            "colorscale": [
             [
              0,
              "#0d0887"
             ],
             [
              0.1111111111111111,
              "#46039f"
             ],
             [
              0.2222222222222222,
              "#7201a8"
             ],
             [
              0.3333333333333333,
              "#9c179e"
             ],
             [
              0.4444444444444444,
              "#bd3786"
             ],
             [
              0.5555555555555556,
              "#d8576b"
             ],
             [
              0.6666666666666666,
              "#ed7953"
             ],
             [
              0.7777777777777778,
              "#fb9f3a"
             ],
             [
              0.8888888888888888,
              "#fdca26"
             ],
             [
              1,
              "#f0f921"
             ]
            ],
            "type": "histogram2dcontour"
           }
          ],
          "mesh3d": [
           {
            "colorbar": {
             "outlinewidth": 0,
             "ticks": ""
            },
            "type": "mesh3d"
           }
          ],
          "parcoords": [
           {
            "line": {
             "colorbar": {
              "outlinewidth": 0,
              "ticks": ""
             }
            },
            "type": "parcoords"
           }
          ],
          "pie": [
           {
            "automargin": true,
            "type": "pie"
           }
          ],
          "scatter": [
           {
            "marker": {
             "colorbar": {
              "outlinewidth": 0,
              "ticks": ""
             }
            },
            "type": "scatter"
           }
          ],
          "scatter3d": [
           {
            "line": {
             "colorbar": {
              "outlinewidth": 0,
              "ticks": ""
             }
            },
            "marker": {
             "colorbar": {
              "outlinewidth": 0,
              "ticks": ""
             }
            },
            "type": "scatter3d"
           }
          ],
          "scattercarpet": [
           {
            "marker": {
             "colorbar": {
              "outlinewidth": 0,
              "ticks": ""
             }
            },
            "type": "scattercarpet"
           }
          ],
          "scattergeo": [
           {
            "marker": {
             "colorbar": {
              "outlinewidth": 0,
              "ticks": ""
             }
            },
            "type": "scattergeo"
           }
          ],
          "scattergl": [
           {
            "marker": {
             "colorbar": {
              "outlinewidth": 0,
              "ticks": ""
             }
            },
            "type": "scattergl"
           }
          ],
          "scattermapbox": [
           {
            "marker": {
             "colorbar": {
              "outlinewidth": 0,
              "ticks": ""
             }
            },
            "type": "scattermapbox"
           }
          ],
          "scatterpolar": [
           {
            "marker": {
             "colorbar": {
              "outlinewidth": 0,
              "ticks": ""
             }
            },
            "type": "scatterpolar"
           }
          ],
          "scatterpolargl": [
           {
            "marker": {
             "colorbar": {
              "outlinewidth": 0,
              "ticks": ""
             }
            },
            "type": "scatterpolargl"
           }
          ],
          "scatterternary": [
           {
            "marker": {
             "colorbar": {
              "outlinewidth": 0,
              "ticks": ""
             }
            },
            "type": "scatterternary"
           }
          ],
          "surface": [
           {
            "colorbar": {
             "outlinewidth": 0,
             "ticks": ""
            },
            "colorscale": [
             [
              0,
              "#0d0887"
             ],
             [
              0.1111111111111111,
              "#46039f"
             ],
             [
              0.2222222222222222,
              "#7201a8"
             ],
             [
              0.3333333333333333,
              "#9c179e"
             ],
             [
              0.4444444444444444,
              "#bd3786"
             ],
             [
              0.5555555555555556,
              "#d8576b"
             ],
             [
              0.6666666666666666,
              "#ed7953"
             ],
             [
              0.7777777777777778,
              "#fb9f3a"
             ],
             [
              0.8888888888888888,
              "#fdca26"
             ],
             [
              1,
              "#f0f921"
             ]
            ],
            "type": "surface"
           }
          ],
          "table": [
           {
            "cells": {
             "fill": {
              "color": "#EBF0F8"
             },
             "line": {
              "color": "white"
             }
            },
            "header": {
             "fill": {
              "color": "#C8D4E3"
             },
             "line": {
              "color": "white"
             }
            },
            "type": "table"
           }
          ]
         },
         "layout": {
          "annotationdefaults": {
           "arrowcolor": "#2a3f5f",
           "arrowhead": 0,
           "arrowwidth": 1
          },
          "autotypenumbers": "strict",
          "coloraxis": {
           "colorbar": {
            "outlinewidth": 0,
            "ticks": ""
           }
          },
          "colorscale": {
           "diverging": [
            [
             0,
             "#8e0152"
            ],
            [
             0.1,
             "#c51b7d"
            ],
            [
             0.2,
             "#de77ae"
            ],
            [
             0.3,
             "#f1b6da"
            ],
            [
             0.4,
             "#fde0ef"
            ],
            [
             0.5,
             "#f7f7f7"
            ],
            [
             0.6,
             "#e6f5d0"
            ],
            [
             0.7,
             "#b8e186"
            ],
            [
             0.8,
             "#7fbc41"
            ],
            [
             0.9,
             "#4d9221"
            ],
            [
             1,
             "#276419"
            ]
           ],
           "sequential": [
            [
             0,
             "#0d0887"
            ],
            [
             0.1111111111111111,
             "#46039f"
            ],
            [
             0.2222222222222222,
             "#7201a8"
            ],
            [
             0.3333333333333333,
             "#9c179e"
            ],
            [
             0.4444444444444444,
             "#bd3786"
            ],
            [
             0.5555555555555556,
             "#d8576b"
            ],
            [
             0.6666666666666666,
             "#ed7953"
            ],
            [
             0.7777777777777778,
             "#fb9f3a"
            ],
            [
             0.8888888888888888,
             "#fdca26"
            ],
            [
             1,
             "#f0f921"
            ]
           ],
           "sequentialminus": [
            [
             0,
             "#0d0887"
            ],
            [
             0.1111111111111111,
             "#46039f"
            ],
            [
             0.2222222222222222,
             "#7201a8"
            ],
            [
             0.3333333333333333,
             "#9c179e"
            ],
            [
             0.4444444444444444,
             "#bd3786"
            ],
            [
             0.5555555555555556,
             "#d8576b"
            ],
            [
             0.6666666666666666,
             "#ed7953"
            ],
            [
             0.7777777777777778,
             "#fb9f3a"
            ],
            [
             0.8888888888888888,
             "#fdca26"
            ],
            [
             1,
             "#f0f921"
            ]
           ]
          },
          "colorway": [
           "#636efa",
           "#EF553B",
           "#00cc96",
           "#ab63fa",
           "#FFA15A",
           "#19d3f3",
           "#FF6692",
           "#B6E880",
           "#FF97FF",
           "#FECB52"
          ],
          "font": {
           "color": "#2a3f5f"
          },
          "geo": {
           "bgcolor": "white",
           "lakecolor": "white",
           "landcolor": "#E5ECF6",
           "showlakes": true,
           "showland": true,
           "subunitcolor": "white"
          },
          "hoverlabel": {
           "align": "left"
          },
          "hovermode": "closest",
          "mapbox": {
           "style": "light"
          },
          "paper_bgcolor": "white",
          "plot_bgcolor": "#E5ECF6",
          "polar": {
           "angularaxis": {
            "gridcolor": "white",
            "linecolor": "white",
            "ticks": ""
           },
           "bgcolor": "#E5ECF6",
           "radialaxis": {
            "gridcolor": "white",
            "linecolor": "white",
            "ticks": ""
           }
          },
          "scene": {
           "xaxis": {
            "backgroundcolor": "#E5ECF6",
            "gridcolor": "white",
            "gridwidth": 2,
            "linecolor": "white",
            "showbackground": true,
            "ticks": "",
            "zerolinecolor": "white"
           },
           "yaxis": {
            "backgroundcolor": "#E5ECF6",
            "gridcolor": "white",
            "gridwidth": 2,
            "linecolor": "white",
            "showbackground": true,
            "ticks": "",
            "zerolinecolor": "white"
           },
           "zaxis": {
            "backgroundcolor": "#E5ECF6",
            "gridcolor": "white",
            "gridwidth": 2,
            "linecolor": "white",
            "showbackground": true,
            "ticks": "",
            "zerolinecolor": "white"
           }
          },
          "shapedefaults": {
           "line": {
            "color": "#2a3f5f"
           }
          },
          "ternary": {
           "aaxis": {
            "gridcolor": "white",
            "linecolor": "white",
            "ticks": ""
           },
           "baxis": {
            "gridcolor": "white",
            "linecolor": "white",
            "ticks": ""
           },
           "bgcolor": "#E5ECF6",
           "caxis": {
            "gridcolor": "white",
            "linecolor": "white",
            "ticks": ""
           }
          },
          "title": {
           "x": 0.05
          },
          "xaxis": {
           "automargin": true,
           "gridcolor": "white",
           "linecolor": "white",
           "ticks": "",
           "title": {
            "standoff": 15
           },
           "zerolinecolor": "white",
           "zerolinewidth": 2
          },
          "yaxis": {
           "automargin": true,
           "gridcolor": "white",
           "linecolor": "white",
           "ticks": "",
           "title": {
            "standoff": 15
           },
           "zerolinecolor": "white",
           "zerolinewidth": 2
          }
         }
        },
        "title": {
         "text": "PRESSÃO SANGUINEA EM REPOUSO"
        },
        "width": 800,
        "xaxis": {
         "anchor": "y",
         "domain": [
          0,
          1
         ],
         "title": {
          "text": "RestingBP"
         }
        },
        "yaxis": {
         "anchor": "x",
         "domain": [
          0,
          1
         ],
         "title": {
          "text": "count"
         }
        }
       }
      }
     },
     "metadata": {},
     "output_type": "display_data"
    }
   ],
   "source": [
    "#Aqui já identifico dados com problema\n",
    "#Vejo que existem pressão com valor muito baixo\n",
    "\n",
    "\n",
    "fig = px.histogram(df, x = 'RestingBP',\n",
    "      hover_data=df.columns,\n",
    "      title='Pressão sanguinea em repouso'.upper(), nbins = 30)\n",
    "\n",
    "fig.update_layout(width = 800, \n",
    "      height = 400)               \n",
    "      \n",
    "\n",
    "fig.show()"
   ]
  },
  {
   "cell_type": "code",
   "execution_count": 187,
   "metadata": {},
   "outputs": [
    {
     "data": {
      "text/plain": [
       "Index(['Age', 'Sex', 'ChestPainType', 'RestingBP', 'Cholesterol', 'FastingBS',\n",
       "       'RestingECG', 'MaxHR', 'ExerciseAngina', 'Oldpeak', 'ST_Slope',\n",
       "       'HeartDisease'],\n",
       "      dtype='object')"
      ]
     },
     "execution_count": 187,
     "metadata": {},
     "output_type": "execute_result"
    }
   ],
   "source": [
    "df.columns"
   ]
  },
  {
   "cell_type": "markdown",
   "metadata": {},
   "source": [
    "### **Cholesterol = colesterol sérico (mg/dl)**\n",
    "\n",
    "É a quantidade total de Colesterol no sangue de uma pessoa\n",
    "\n"
   ]
  },
  {
   "cell_type": "code",
   "execution_count": 188,
   "metadata": {},
   "outputs": [
    {
     "data": {
      "application/vnd.plotly.v1+json": {
       "config": {
        "plotlyServerURL": "https://plot.ly"
       },
       "data": [
        {
         "alignmentgroup": "True",
         "bingroup": "x",
         "hovertemplate": "Cholesterol=%{x}<br>count=%{y}<extra></extra>",
         "legendgroup": "",
         "marker": {
          "color": "#636efa",
          "pattern": {
           "shape": ""
          }
         },
         "name": "",
         "nbinsx": 30,
         "offsetgroup": "",
         "orientation": "v",
         "showlegend": false,
         "type": "histogram",
         "x": [
          289,
          180,
          283,
          214,
          195,
          339,
          237,
          208,
          207,
          284,
          211,
          164,
          204,
          234,
          211,
          273,
          196,
          201,
          248,
          267,
          223,
          184,
          201,
          288,
          215,
          209,
          260,
          284,
          468,
          188,
          518,
          167,
          224,
          172,
          186,
          254,
          306,
          250,
          177,
          227,
          230,
          294,
          264,
          259,
          175,
          318,
          223,
          216,
          340,
          289,
          233,
          205,
          224,
          245,
          180,
          194,
          270,
          213,
          365,
          342,
          253,
          254,
          224,
          277,
          202,
          260,
          297,
          225,
          246,
          412,
          265,
          215,
          182,
          218,
          268,
          163,
          529,
          167,
          100,
          206,
          277,
          238,
          223,
          196,
          213,
          139,
          263,
          216,
          291,
          229,
          208,
          307,
          210,
          329,
          182,
          263,
          207,
          147,
          85,
          269,
          275,
          179,
          392,
          466,
          186,
          260,
          254,
          214,
          129,
          241,
          188,
          255,
          276,
          297,
          207,
          246,
          282,
          338,
          160,
          156,
          248,
          272,
          240,
          393,
          230,
          246,
          161,
          163,
          230,
          228,
          292,
          202,
          388,
          230,
          294,
          265,
          215,
          241,
          166,
          247,
          331,
          341,
          291,
          243,
          279,
          273,
          198,
          249,
          168,
          603,
          215,
          159,
          275,
          270,
          291,
          342,
          190,
          185,
          290,
          195,
          264,
          212,
          263,
          196,
          225,
          272,
          231,
          238,
          222,
          179,
          243,
          235,
          320,
          187,
          266,
          288,
          216,
          287,
          194,
          238,
          225,
          224,
          404,
          238,
          312,
          211,
          251,
          237,
          328,
          285,
          280,
          209,
          245,
          192,
          184,
          193,
          297,
          268,
          246,
          308,
          249,
          230,
          147,
          219,
          184,
          215,
          308,
          257,
          132,
          216,
          263,
          288,
          276,
          219,
          226,
          237,
          280,
          217,
          196,
          263,
          222,
          303,
          195,
          298,
          256,
          264,
          195,
          117,
          295,
          173,
          315,
          281,
          275,
          250,
          309,
          200,
          336,
          295,
          355,
          193,
          326,
          198,
          292,
          266,
          268,
          171,
          237,
          275,
          219,
          341,
          491,
          260,
          292,
          271,
          248,
          274,
          394,
          160,
          200,
          320,
          275,
          221,
          231,
          126,
          193,
          305,
          298,
          220,
          242,
          235,
          225,
          198,
          201,
          220,
          295,
          213,
          160,
          223,
          347,
          253,
          246,
          222,
          220,
          344,
          358,
          190,
          169,
          181,
          308,
          166,
          211,
          257,
          182,
          0,
          0,
          0,
          0,
          0,
          0,
          0,
          0,
          0,
          0,
          0,
          0,
          0,
          0,
          0,
          0,
          0,
          0,
          0,
          0,
          0,
          0,
          0,
          0,
          0,
          0,
          0,
          0,
          0,
          0,
          0,
          0,
          0,
          0,
          0,
          0,
          0,
          0,
          0,
          0,
          0,
          0,
          0,
          0,
          0,
          0,
          0,
          0,
          0,
          0,
          0,
          0,
          0,
          0,
          0,
          0,
          0,
          0,
          0,
          0,
          0,
          0,
          0,
          0,
          0,
          0,
          0,
          0,
          0,
          0,
          0,
          0,
          0,
          0,
          0,
          0,
          0,
          0,
          0,
          0,
          0,
          0,
          0,
          0,
          0,
          0,
          0,
          0,
          0,
          0,
          0,
          0,
          0,
          0,
          0,
          0,
          0,
          0,
          0,
          0,
          0,
          0,
          0,
          0,
          0,
          0,
          0,
          0,
          0,
          0,
          0,
          0,
          0,
          0,
          0,
          0,
          0,
          0,
          0,
          0,
          0,
          0,
          0,
          260,
          209,
          218,
          228,
          213,
          0,
          236,
          0,
          0,
          267,
          166,
          0,
          0,
          0,
          0,
          220,
          177,
          236,
          0,
          0,
          0,
          0,
          0,
          0,
          0,
          0,
          0,
          186,
          100,
          228,
          0,
          171,
          230,
          0,
          0,
          0,
          281,
          0,
          203,
          0,
          0,
          0,
          0,
          0,
          277,
          0,
          233,
          0,
          0,
          240,
          0,
          0,
          153,
          224,
          0,
          0,
          0,
          316,
          0,
          0,
          218,
          0,
          311,
          0,
          0,
          0,
          270,
          0,
          0,
          217,
          214,
          214,
          252,
          220,
          214,
          203,
          0,
          339,
          216,
          276,
          458,
          241,
          384,
          297,
          248,
          308,
          208,
          227,
          210,
          245,
          225,
          240,
          0,
          198,
          195,
          267,
          161,
          258,
          0,
          0,
          195,
          235,
          0,
          305,
          223,
          282,
          349,
          160,
          160,
          236,
          312,
          283,
          142,
          211,
          218,
          306,
          186,
          252,
          222,
          0,
          0,
          258,
          202,
          197,
          204,
          113,
          274,
          192,
          298,
          272,
          220,
          200,
          261,
          181,
          260,
          220,
          221,
          216,
          175,
          219,
          310,
          208,
          232,
          273,
          203,
          182,
          274,
          204,
          270,
          292,
          171,
          221,
          289,
          217,
          223,
          110,
          193,
          123,
          210,
          282,
          170,
          369,
          173,
          289,
          152,
          208,
          216,
          271,
          244,
          285,
          243,
          240,
          219,
          237,
          165,
          213,
          287,
          258,
          256,
          186,
          264,
          185,
          226,
          203,
          207,
          284,
          337,
          310,
          254,
          258,
          254,
          300,
          170,
          310,
          333,
          139,
          223,
          385,
          254,
          322,
          564,
          261,
          263,
          269,
          177,
          256,
          239,
          293,
          407,
          234,
          226,
          235,
          234,
          303,
          149,
          311,
          203,
          211,
          199,
          229,
          245,
          303,
          204,
          288,
          275,
          243,
          295,
          230,
          265,
          229,
          228,
          215,
          326,
          200,
          256,
          207,
          273,
          180,
          222,
          223,
          209,
          233,
          197,
          218,
          211,
          149,
          197,
          246,
          225,
          315,
          205,
          417,
          195,
          234,
          198,
          166,
          178,
          249,
          281,
          126,
          305,
          226,
          240,
          233,
          276,
          261,
          319,
          242,
          243,
          260,
          354,
          245,
          197,
          223,
          309,
          208,
          199,
          209,
          236,
          218,
          198,
          270,
          214,
          201,
          244,
          208,
          270,
          306,
          243,
          221,
          330,
          266,
          206,
          212,
          275,
          302,
          234,
          313,
          244,
          141,
          237,
          269,
          289,
          254,
          274,
          222,
          258,
          177,
          160,
          327,
          235,
          305,
          304,
          295,
          271,
          249,
          288,
          226,
          283,
          188,
          286,
          274,
          360,
          273,
          201,
          267,
          196,
          201,
          230,
          269,
          212,
          226,
          246,
          232,
          177,
          277,
          249,
          210,
          207,
          212,
          271,
          233,
          213,
          283,
          282,
          230,
          167,
          224,
          268,
          250,
          219,
          267,
          303,
          256,
          204,
          217,
          308,
          193,
          228,
          231,
          244,
          262,
          259,
          211,
          325,
          254,
          197,
          236,
          282,
          234,
          254,
          299,
          211,
          182,
          294,
          298,
          231,
          254,
          196,
          240,
          409,
          172,
          265,
          246,
          315,
          184,
          233,
          394,
          269,
          239,
          174,
          309,
          282,
          255,
          250,
          248,
          214,
          239,
          304,
          277,
          300,
          258,
          299,
          289,
          298,
          318,
          240,
          309,
          250,
          288,
          245,
          213,
          216,
          204,
          204,
          252,
          227,
          258,
          220,
          239,
          254,
          168,
          330,
          183,
          203,
          263,
          341,
          283,
          186,
          307,
          219,
          260,
          255,
          231,
          164,
          234,
          177,
          257,
          325,
          274,
          321,
          264,
          268,
          308,
          253,
          248,
          269,
          185,
          282,
          188,
          219,
          290,
          175,
          212,
          302,
          243,
          353,
          335,
          247,
          340,
          206,
          284,
          266,
          229,
          199,
          263,
          294,
          192,
          286,
          216,
          223,
          247,
          204,
          204,
          227,
          278,
          220,
          232,
          197,
          335,
          253,
          205,
          192,
          203,
          318,
          225,
          220,
          221,
          240,
          212,
          342,
          169,
          187,
          197,
          157,
          176,
          241,
          264,
          193,
          131,
          236,
          175
         ],
         "xaxis": "x",
         "yaxis": "y"
        }
       ],
       "layout": {
        "barmode": "relative",
        "height": 500,
        "legend": {
         "tracegroupgap": 0
        },
        "template": {
         "data": {
          "bar": [
           {
            "error_x": {
             "color": "#2a3f5f"
            },
            "error_y": {
             "color": "#2a3f5f"
            },
            "marker": {
             "line": {
              "color": "#E5ECF6",
              "width": 0.5
             },
             "pattern": {
              "fillmode": "overlay",
              "size": 10,
              "solidity": 0.2
             }
            },
            "type": "bar"
           }
          ],
          "barpolar": [
           {
            "marker": {
             "line": {
              "color": "#E5ECF6",
              "width": 0.5
             },
             "pattern": {
              "fillmode": "overlay",
              "size": 10,
              "solidity": 0.2
             }
            },
            "type": "barpolar"
           }
          ],
          "carpet": [
           {
            "aaxis": {
             "endlinecolor": "#2a3f5f",
             "gridcolor": "white",
             "linecolor": "white",
             "minorgridcolor": "white",
             "startlinecolor": "#2a3f5f"
            },
            "baxis": {
             "endlinecolor": "#2a3f5f",
             "gridcolor": "white",
             "linecolor": "white",
             "minorgridcolor": "white",
             "startlinecolor": "#2a3f5f"
            },
            "type": "carpet"
           }
          ],
          "choropleth": [
           {
            "colorbar": {
             "outlinewidth": 0,
             "ticks": ""
            },
            "type": "choropleth"
           }
          ],
          "contour": [
           {
            "colorbar": {
             "outlinewidth": 0,
             "ticks": ""
            },
            "colorscale": [
             [
              0,
              "#0d0887"
             ],
             [
              0.1111111111111111,
              "#46039f"
             ],
             [
              0.2222222222222222,
              "#7201a8"
             ],
             [
              0.3333333333333333,
              "#9c179e"
             ],
             [
              0.4444444444444444,
              "#bd3786"
             ],
             [
              0.5555555555555556,
              "#d8576b"
             ],
             [
              0.6666666666666666,
              "#ed7953"
             ],
             [
              0.7777777777777778,
              "#fb9f3a"
             ],
             [
              0.8888888888888888,
              "#fdca26"
             ],
             [
              1,
              "#f0f921"
             ]
            ],
            "type": "contour"
           }
          ],
          "contourcarpet": [
           {
            "colorbar": {
             "outlinewidth": 0,
             "ticks": ""
            },
            "type": "contourcarpet"
           }
          ],
          "heatmap": [
           {
            "colorbar": {
             "outlinewidth": 0,
             "ticks": ""
            },
            "colorscale": [
             [
              0,
              "#0d0887"
             ],
             [
              0.1111111111111111,
              "#46039f"
             ],
             [
              0.2222222222222222,
              "#7201a8"
             ],
             [
              0.3333333333333333,
              "#9c179e"
             ],
             [
              0.4444444444444444,
              "#bd3786"
             ],
             [
              0.5555555555555556,
              "#d8576b"
             ],
             [
              0.6666666666666666,
              "#ed7953"
             ],
             [
              0.7777777777777778,
              "#fb9f3a"
             ],
             [
              0.8888888888888888,
              "#fdca26"
             ],
             [
              1,
              "#f0f921"
             ]
            ],
            "type": "heatmap"
           }
          ],
          "heatmapgl": [
           {
            "colorbar": {
             "outlinewidth": 0,
             "ticks": ""
            },
            "colorscale": [
             [
              0,
              "#0d0887"
             ],
             [
              0.1111111111111111,
              "#46039f"
             ],
             [
              0.2222222222222222,
              "#7201a8"
             ],
             [
              0.3333333333333333,
              "#9c179e"
             ],
             [
              0.4444444444444444,
              "#bd3786"
             ],
             [
              0.5555555555555556,
              "#d8576b"
             ],
             [
              0.6666666666666666,
              "#ed7953"
             ],
             [
              0.7777777777777778,
              "#fb9f3a"
             ],
             [
              0.8888888888888888,
              "#fdca26"
             ],
             [
              1,
              "#f0f921"
             ]
            ],
            "type": "heatmapgl"
           }
          ],
          "histogram": [
           {
            "marker": {
             "pattern": {
              "fillmode": "overlay",
              "size": 10,
              "solidity": 0.2
             }
            },
            "type": "histogram"
           }
          ],
          "histogram2d": [
           {
            "colorbar": {
             "outlinewidth": 0,
             "ticks": ""
            },
            "colorscale": [
             [
              0,
              "#0d0887"
             ],
             [
              0.1111111111111111,
              "#46039f"
             ],
             [
              0.2222222222222222,
              "#7201a8"
             ],
             [
              0.3333333333333333,
              "#9c179e"
             ],
             [
              0.4444444444444444,
              "#bd3786"
             ],
             [
              0.5555555555555556,
              "#d8576b"
             ],
             [
              0.6666666666666666,
              "#ed7953"
             ],
             [
              0.7777777777777778,
              "#fb9f3a"
             ],
             [
              0.8888888888888888,
              "#fdca26"
             ],
             [
              1,
              "#f0f921"
             ]
            ],
            "type": "histogram2d"
           }
          ],
          "histogram2dcontour": [
           {
            "colorbar": {
             "outlinewidth": 0,
             "ticks": ""
            },
            "colorscale": [
             [
              0,
              "#0d0887"
             ],
             [
              0.1111111111111111,
              "#46039f"
             ],
             [
              0.2222222222222222,
              "#7201a8"
             ],
             [
              0.3333333333333333,
              "#9c179e"
             ],
             [
              0.4444444444444444,
              "#bd3786"
             ],
             [
              0.5555555555555556,
              "#d8576b"
             ],
             [
              0.6666666666666666,
              "#ed7953"
             ],
             [
              0.7777777777777778,
              "#fb9f3a"
             ],
             [
              0.8888888888888888,
              "#fdca26"
             ],
             [
              1,
              "#f0f921"
             ]
            ],
            "type": "histogram2dcontour"
           }
          ],
          "mesh3d": [
           {
            "colorbar": {
             "outlinewidth": 0,
             "ticks": ""
            },
            "type": "mesh3d"
           }
          ],
          "parcoords": [
           {
            "line": {
             "colorbar": {
              "outlinewidth": 0,
              "ticks": ""
             }
            },
            "type": "parcoords"
           }
          ],
          "pie": [
           {
            "automargin": true,
            "type": "pie"
           }
          ],
          "scatter": [
           {
            "marker": {
             "colorbar": {
              "outlinewidth": 0,
              "ticks": ""
             }
            },
            "type": "scatter"
           }
          ],
          "scatter3d": [
           {
            "line": {
             "colorbar": {
              "outlinewidth": 0,
              "ticks": ""
             }
            },
            "marker": {
             "colorbar": {
              "outlinewidth": 0,
              "ticks": ""
             }
            },
            "type": "scatter3d"
           }
          ],
          "scattercarpet": [
           {
            "marker": {
             "colorbar": {
              "outlinewidth": 0,
              "ticks": ""
             }
            },
            "type": "scattercarpet"
           }
          ],
          "scattergeo": [
           {
            "marker": {
             "colorbar": {
              "outlinewidth": 0,
              "ticks": ""
             }
            },
            "type": "scattergeo"
           }
          ],
          "scattergl": [
           {
            "marker": {
             "colorbar": {
              "outlinewidth": 0,
              "ticks": ""
             }
            },
            "type": "scattergl"
           }
          ],
          "scattermapbox": [
           {
            "marker": {
             "colorbar": {
              "outlinewidth": 0,
              "ticks": ""
             }
            },
            "type": "scattermapbox"
           }
          ],
          "scatterpolar": [
           {
            "marker": {
             "colorbar": {
              "outlinewidth": 0,
              "ticks": ""
             }
            },
            "type": "scatterpolar"
           }
          ],
          "scatterpolargl": [
           {
            "marker": {
             "colorbar": {
              "outlinewidth": 0,
              "ticks": ""
             }
            },
            "type": "scatterpolargl"
           }
          ],
          "scatterternary": [
           {
            "marker": {
             "colorbar": {
              "outlinewidth": 0,
              "ticks": ""
             }
            },
            "type": "scatterternary"
           }
          ],
          "surface": [
           {
            "colorbar": {
             "outlinewidth": 0,
             "ticks": ""
            },
            "colorscale": [
             [
              0,
              "#0d0887"
             ],
             [
              0.1111111111111111,
              "#46039f"
             ],
             [
              0.2222222222222222,
              "#7201a8"
             ],
             [
              0.3333333333333333,
              "#9c179e"
             ],
             [
              0.4444444444444444,
              "#bd3786"
             ],
             [
              0.5555555555555556,
              "#d8576b"
             ],
             [
              0.6666666666666666,
              "#ed7953"
             ],
             [
              0.7777777777777778,
              "#fb9f3a"
             ],
             [
              0.8888888888888888,
              "#fdca26"
             ],
             [
              1,
              "#f0f921"
             ]
            ],
            "type": "surface"
           }
          ],
          "table": [
           {
            "cells": {
             "fill": {
              "color": "#EBF0F8"
             },
             "line": {
              "color": "white"
             }
            },
            "header": {
             "fill": {
              "color": "#C8D4E3"
             },
             "line": {
              "color": "white"
             }
            },
            "type": "table"
           }
          ]
         },
         "layout": {
          "annotationdefaults": {
           "arrowcolor": "#2a3f5f",
           "arrowhead": 0,
           "arrowwidth": 1
          },
          "autotypenumbers": "strict",
          "coloraxis": {
           "colorbar": {
            "outlinewidth": 0,
            "ticks": ""
           }
          },
          "colorscale": {
           "diverging": [
            [
             0,
             "#8e0152"
            ],
            [
             0.1,
             "#c51b7d"
            ],
            [
             0.2,
             "#de77ae"
            ],
            [
             0.3,
             "#f1b6da"
            ],
            [
             0.4,
             "#fde0ef"
            ],
            [
             0.5,
             "#f7f7f7"
            ],
            [
             0.6,
             "#e6f5d0"
            ],
            [
             0.7,
             "#b8e186"
            ],
            [
             0.8,
             "#7fbc41"
            ],
            [
             0.9,
             "#4d9221"
            ],
            [
             1,
             "#276419"
            ]
           ],
           "sequential": [
            [
             0,
             "#0d0887"
            ],
            [
             0.1111111111111111,
             "#46039f"
            ],
            [
             0.2222222222222222,
             "#7201a8"
            ],
            [
             0.3333333333333333,
             "#9c179e"
            ],
            [
             0.4444444444444444,
             "#bd3786"
            ],
            [
             0.5555555555555556,
             "#d8576b"
            ],
            [
             0.6666666666666666,
             "#ed7953"
            ],
            [
             0.7777777777777778,
             "#fb9f3a"
            ],
            [
             0.8888888888888888,
             "#fdca26"
            ],
            [
             1,
             "#f0f921"
            ]
           ],
           "sequentialminus": [
            [
             0,
             "#0d0887"
            ],
            [
             0.1111111111111111,
             "#46039f"
            ],
            [
             0.2222222222222222,
             "#7201a8"
            ],
            [
             0.3333333333333333,
             "#9c179e"
            ],
            [
             0.4444444444444444,
             "#bd3786"
            ],
            [
             0.5555555555555556,
             "#d8576b"
            ],
            [
             0.6666666666666666,
             "#ed7953"
            ],
            [
             0.7777777777777778,
             "#fb9f3a"
            ],
            [
             0.8888888888888888,
             "#fdca26"
            ],
            [
             1,
             "#f0f921"
            ]
           ]
          },
          "colorway": [
           "#636efa",
           "#EF553B",
           "#00cc96",
           "#ab63fa",
           "#FFA15A",
           "#19d3f3",
           "#FF6692",
           "#B6E880",
           "#FF97FF",
           "#FECB52"
          ],
          "font": {
           "color": "#2a3f5f"
          },
          "geo": {
           "bgcolor": "white",
           "lakecolor": "white",
           "landcolor": "#E5ECF6",
           "showlakes": true,
           "showland": true,
           "subunitcolor": "white"
          },
          "hoverlabel": {
           "align": "left"
          },
          "hovermode": "closest",
          "mapbox": {
           "style": "light"
          },
          "paper_bgcolor": "white",
          "plot_bgcolor": "#E5ECF6",
          "polar": {
           "angularaxis": {
            "gridcolor": "white",
            "linecolor": "white",
            "ticks": ""
           },
           "bgcolor": "#E5ECF6",
           "radialaxis": {
            "gridcolor": "white",
            "linecolor": "white",
            "ticks": ""
           }
          },
          "scene": {
           "xaxis": {
            "backgroundcolor": "#E5ECF6",
            "gridcolor": "white",
            "gridwidth": 2,
            "linecolor": "white",
            "showbackground": true,
            "ticks": "",
            "zerolinecolor": "white"
           },
           "yaxis": {
            "backgroundcolor": "#E5ECF6",
            "gridcolor": "white",
            "gridwidth": 2,
            "linecolor": "white",
            "showbackground": true,
            "ticks": "",
            "zerolinecolor": "white"
           },
           "zaxis": {
            "backgroundcolor": "#E5ECF6",
            "gridcolor": "white",
            "gridwidth": 2,
            "linecolor": "white",
            "showbackground": true,
            "ticks": "",
            "zerolinecolor": "white"
           }
          },
          "shapedefaults": {
           "line": {
            "color": "#2a3f5f"
           }
          },
          "ternary": {
           "aaxis": {
            "gridcolor": "white",
            "linecolor": "white",
            "ticks": ""
           },
           "baxis": {
            "gridcolor": "white",
            "linecolor": "white",
            "ticks": ""
           },
           "bgcolor": "#E5ECF6",
           "caxis": {
            "gridcolor": "white",
            "linecolor": "white",
            "ticks": ""
           }
          },
          "title": {
           "x": 0.05
          },
          "xaxis": {
           "automargin": true,
           "gridcolor": "white",
           "linecolor": "white",
           "ticks": "",
           "title": {
            "standoff": 15
           },
           "zerolinecolor": "white",
           "zerolinewidth": 2
          },
          "yaxis": {
           "automargin": true,
           "gridcolor": "white",
           "linecolor": "white",
           "ticks": "",
           "title": {
            "standoff": 15
           },
           "zerolinecolor": "white",
           "zerolinewidth": 2
          }
         }
        },
        "title": {
         "text": "COLESTEROL SÉRICO"
        },
        "width": 800,
        "xaxis": {
         "anchor": "y",
         "domain": [
          0,
          1
         ],
         "title": {
          "text": "Cholesterol"
         }
        },
        "yaxis": {
         "anchor": "x",
         "domain": [
          0,
          1
         ],
         "title": {
          "text": "count"
         }
        }
       }
      }
     },
     "metadata": {},
     "output_type": "display_data"
    }
   ],
   "source": [
    "#Tudo indica que tenho problemas por aqui tambem\n",
    "\n",
    "fig = px.histogram(df, x= 'Cholesterol',\n",
    "      hover_data=df.columns,\n",
    "      title= 'Colesterol sérico'.upper(), nbins= 30)\n",
    "\n",
    "fig.update_layout(width = 800, height = 500)\n",
    "\n",
    "fig.show()"
   ]
  },
  {
   "cell_type": "markdown",
   "metadata": {},
   "source": [
    "### **Fasting BS (blood sugar) = açúcar no sangue em jejum (mg/dl)**\n",
    "\n",
    "0: Fasting BS < 120 mg/dl (não diabético)\n",
    "\n",
    "1: Fasting BS >= 120 mg/dl, (diabético)"
   ]
  },
  {
   "cell_type": "code",
   "execution_count": 189,
   "metadata": {},
   "outputs": [
    {
     "data": {
      "text/plain": [
       "0    704\n",
       "1    214\n",
       "Name: FastingBS, dtype: int64"
      ]
     },
     "execution_count": 189,
     "metadata": {},
     "output_type": "execute_result"
    }
   ],
   "source": [
    "df['FastingBS'].value_counts()"
   ]
  },
  {
   "cell_type": "code",
   "execution_count": 190,
   "metadata": {},
   "outputs": [
    {
     "name": "stdout",
     "output_type": "stream",
     "text": [
      "Percentual de pessoas com açucar no sangue em jejum\n",
      "===================================================\n",
      "0    76.69\n",
      "1    23.31\n",
      "Name: FastingBS, dtype: float64\n",
      "===================================================\n"
     ]
    }
   ],
   "source": [
    "#Verificando a quantidade de pessoas que tem colesterol no sangue quando em jejum\n",
    "mensagem = 'Percentual de pessoas com açucar no sangue em jejum'\n",
    "print(mensagem)\n",
    "print('=' * len(mensagem))\n",
    "\n",
    "print(round(df['FastingBS'].value_counts() / df.shape[0] * 100, 2))\n",
    "\n",
    "print('=' * len(mensagem))"
   ]
  },
  {
   "cell_type": "code",
   "execution_count": 191,
   "metadata": {},
   "outputs": [
    {
     "data": {
      "application/vnd.plotly.v1+json": {
       "config": {
        "plotlyServerURL": "https://plot.ly"
       },
       "data": [
        {
         "alignmentgroup": "True",
         "bingroup": "x",
         "hovertemplate": "FastingBS=%{x}<br>count=%{y}<extra></extra>",
         "legendgroup": "0",
         "marker": {
          "color": "#636efa",
          "pattern": {
           "shape": ""
          }
         },
         "name": "0",
         "offsetgroup": "0",
         "orientation": "v",
         "showlegend": true,
         "type": "histogram",
         "x": [
          0,
          0,
          0,
          0,
          0,
          0,
          0,
          0,
          0,
          0,
          0,
          0,
          0,
          0,
          0,
          0,
          0,
          0,
          0,
          0,
          0,
          0,
          0,
          0,
          0,
          0,
          0,
          0,
          0,
          0,
          0,
          0,
          0,
          0,
          0,
          0,
          0,
          0,
          0,
          0,
          0,
          0,
          0,
          0,
          0,
          0,
          0,
          0,
          0,
          0,
          0,
          0,
          0,
          0,
          0,
          0,
          0,
          0,
          0,
          0,
          0,
          0,
          0,
          0,
          0,
          0,
          0,
          0,
          0,
          0,
          0,
          0,
          0,
          0,
          0,
          0,
          0,
          0,
          0,
          0,
          0,
          0,
          0,
          0,
          0,
          0,
          0,
          0,
          0,
          0,
          0,
          0,
          0,
          0,
          0,
          0,
          0,
          0,
          0,
          0,
          0,
          0,
          0,
          0,
          0,
          0,
          0,
          0,
          0,
          0,
          0,
          0,
          0,
          0,
          0,
          0,
          0,
          0,
          0,
          0,
          0,
          0,
          0,
          0,
          0,
          0,
          0,
          0,
          0,
          0,
          0,
          0,
          0,
          0,
          0,
          0,
          0,
          0,
          0,
          0,
          0,
          0,
          0,
          0,
          0,
          0,
          0,
          0,
          0,
          0,
          0,
          0,
          0,
          0,
          0,
          0,
          0,
          0,
          0,
          0,
          0,
          0,
          0,
          0,
          0,
          0,
          0,
          0,
          0,
          0,
          0,
          0,
          0,
          0,
          0,
          0,
          0,
          0,
          0,
          0,
          0,
          0,
          0,
          0,
          0,
          0,
          0,
          0,
          0,
          0,
          0,
          0,
          0,
          0,
          0,
          0,
          0,
          0,
          0,
          0,
          0,
          0,
          0,
          0,
          0,
          0,
          0,
          0,
          0,
          0,
          0,
          0,
          0,
          0,
          0,
          0,
          0,
          0,
          0,
          0,
          0,
          0,
          0,
          0,
          0,
          0,
          0,
          0,
          0,
          0,
          0,
          0,
          0,
          0,
          0,
          0,
          0,
          0,
          0,
          0,
          0,
          0,
          0,
          0,
          0,
          0,
          0,
          0,
          0,
          0,
          0,
          0,
          0,
          0,
          0,
          0,
          0,
          0,
          0,
          0,
          0,
          0,
          0,
          0,
          0,
          0,
          0,
          0,
          0,
          0,
          0,
          0,
          0,
          0,
          0,
          0,
          0,
          0,
          0,
          0,
          0,
          0,
          0,
          0,
          0,
          0,
          0,
          0,
          0,
          0,
          0,
          0,
          0,
          0,
          0,
          0,
          0,
          0,
          0,
          0,
          0,
          0,
          0,
          0,
          0,
          0,
          0,
          0,
          0,
          0,
          0,
          0,
          0,
          0,
          0,
          0,
          0,
          0,
          0,
          0,
          0,
          0,
          0,
          0,
          0,
          0,
          0,
          0,
          0,
          0,
          0,
          0,
          0,
          0,
          0,
          0,
          0,
          0,
          0,
          0,
          0,
          0,
          0,
          0,
          0,
          0,
          0,
          0,
          0,
          0,
          0,
          0,
          0,
          0,
          0,
          0,
          0,
          0,
          0,
          0,
          0,
          0,
          0,
          0,
          0,
          0,
          0,
          0,
          0,
          0,
          0,
          0,
          0,
          0,
          0,
          0,
          0,
          0,
          0,
          0,
          0,
          0,
          0,
          0,
          0,
          0,
          0,
          0,
          0,
          0,
          0,
          0,
          0,
          0,
          0,
          0,
          0,
          0,
          0,
          0,
          0,
          0,
          0,
          0,
          0,
          0,
          0,
          0,
          0,
          0,
          0,
          0,
          0,
          0,
          0,
          0,
          0,
          0,
          0,
          0,
          0,
          0,
          0,
          0,
          0,
          0,
          0,
          0,
          0,
          0,
          0,
          0,
          0,
          0,
          0,
          0,
          0,
          0,
          0,
          0,
          0,
          0,
          0,
          0,
          0,
          0,
          0,
          0,
          0,
          0,
          0,
          0,
          0,
          0,
          0,
          0,
          0,
          0,
          0,
          0,
          0,
          0,
          0,
          0,
          0,
          0,
          0,
          0,
          0,
          0,
          0,
          0,
          0,
          0,
          0,
          0,
          0,
          0,
          0,
          0,
          0,
          0,
          0,
          0,
          0,
          0,
          0,
          0,
          0,
          0,
          0,
          0,
          0,
          0,
          0,
          0,
          0,
          0,
          0,
          0,
          0,
          0,
          0,
          0,
          0,
          0,
          0,
          0,
          0,
          0,
          0,
          0,
          0,
          0,
          0,
          0,
          0,
          0,
          0,
          0,
          0,
          0,
          0,
          0,
          0,
          0,
          0,
          0,
          0,
          0,
          0,
          0,
          0,
          0,
          0,
          0,
          0,
          0,
          0,
          0,
          0,
          0,
          0,
          0,
          0,
          0,
          0,
          0,
          0,
          0,
          0,
          0,
          0,
          0,
          0,
          0,
          0,
          0,
          0,
          0,
          0,
          0,
          0,
          0,
          0,
          0,
          0,
          0,
          0,
          0,
          0,
          0,
          0,
          0,
          0,
          0,
          0,
          0,
          0,
          0,
          0,
          0,
          0,
          0,
          0,
          0,
          0,
          0,
          0,
          0,
          0,
          0,
          0,
          0,
          0,
          0,
          0,
          0,
          0,
          0,
          0,
          0,
          0,
          0,
          0,
          0,
          0,
          0,
          0,
          0,
          0,
          0,
          0,
          0,
          0,
          0,
          0,
          0,
          0,
          0,
          0,
          0,
          0,
          0,
          0,
          0,
          0,
          0,
          0,
          0,
          0,
          0,
          0,
          0,
          0,
          0,
          0,
          0,
          0,
          0,
          0,
          0,
          0,
          0,
          0,
          0,
          0,
          0,
          0,
          0,
          0,
          0,
          0,
          0,
          0,
          0,
          0,
          0,
          0,
          0,
          0,
          0,
          0,
          0,
          0,
          0,
          0,
          0,
          0,
          0,
          0,
          0,
          0,
          0,
          0,
          0,
          0,
          0,
          0,
          0,
          0,
          0,
          0,
          0,
          0,
          0,
          0,
          0,
          0,
          0,
          0,
          0,
          0,
          0,
          0,
          0,
          0,
          0,
          0,
          0,
          0,
          0,
          0,
          0
         ],
         "xaxis": "x",
         "yaxis": "y"
        },
        {
         "alignmentgroup": "True",
         "bingroup": "x",
         "hovertemplate": "FastingBS=%{x}<br>count=%{y}<extra></extra>",
         "legendgroup": "1",
         "marker": {
          "color": "#EF553B",
          "pattern": {
           "shape": ""
          }
         },
         "name": "1",
         "offsetgroup": "1",
         "orientation": "v",
         "showlegend": true,
         "type": "histogram",
         "x": [
          1,
          1,
          1,
          1,
          1,
          1,
          1,
          1,
          1,
          1,
          1,
          1,
          1,
          1,
          1,
          1,
          1,
          1,
          1,
          1,
          1,
          1,
          1,
          1,
          1,
          1,
          1,
          1,
          1,
          1,
          1,
          1,
          1,
          1,
          1,
          1,
          1,
          1,
          1,
          1,
          1,
          1,
          1,
          1,
          1,
          1,
          1,
          1,
          1,
          1,
          1,
          1,
          1,
          1,
          1,
          1,
          1,
          1,
          1,
          1,
          1,
          1,
          1,
          1,
          1,
          1,
          1,
          1,
          1,
          1,
          1,
          1,
          1,
          1,
          1,
          1,
          1,
          1,
          1,
          1,
          1,
          1,
          1,
          1,
          1,
          1,
          1,
          1,
          1,
          1,
          1,
          1,
          1,
          1,
          1,
          1,
          1,
          1,
          1,
          1,
          1,
          1,
          1,
          1,
          1,
          1,
          1,
          1,
          1,
          1,
          1,
          1,
          1,
          1,
          1,
          1,
          1,
          1,
          1,
          1,
          1,
          1,
          1,
          1,
          1,
          1,
          1,
          1,
          1,
          1,
          1,
          1,
          1,
          1,
          1,
          1,
          1,
          1,
          1,
          1,
          1,
          1,
          1,
          1,
          1,
          1,
          1,
          1,
          1,
          1,
          1,
          1,
          1,
          1,
          1,
          1,
          1,
          1,
          1,
          1,
          1,
          1,
          1,
          1,
          1,
          1,
          1,
          1,
          1,
          1,
          1,
          1,
          1,
          1,
          1,
          1,
          1,
          1,
          1,
          1,
          1,
          1,
          1,
          1,
          1,
          1,
          1,
          1,
          1,
          1,
          1,
          1,
          1,
          1,
          1,
          1,
          1,
          1,
          1,
          1,
          1,
          1,
          1,
          1,
          1,
          1,
          1,
          1,
          1,
          1,
          1,
          1,
          1,
          1
         ],
         "xaxis": "x",
         "yaxis": "y"
        }
       ],
       "layout": {
        "barmode": "relative",
        "height": 400,
        "legend": {
         "title": {
          "text": "FastingBS"
         },
         "tracegroupgap": 0
        },
        "template": {
         "data": {
          "bar": [
           {
            "error_x": {
             "color": "#2a3f5f"
            },
            "error_y": {
             "color": "#2a3f5f"
            },
            "marker": {
             "line": {
              "color": "#E5ECF6",
              "width": 0.5
             },
             "pattern": {
              "fillmode": "overlay",
              "size": 10,
              "solidity": 0.2
             }
            },
            "type": "bar"
           }
          ],
          "barpolar": [
           {
            "marker": {
             "line": {
              "color": "#E5ECF6",
              "width": 0.5
             },
             "pattern": {
              "fillmode": "overlay",
              "size": 10,
              "solidity": 0.2
             }
            },
            "type": "barpolar"
           }
          ],
          "carpet": [
           {
            "aaxis": {
             "endlinecolor": "#2a3f5f",
             "gridcolor": "white",
             "linecolor": "white",
             "minorgridcolor": "white",
             "startlinecolor": "#2a3f5f"
            },
            "baxis": {
             "endlinecolor": "#2a3f5f",
             "gridcolor": "white",
             "linecolor": "white",
             "minorgridcolor": "white",
             "startlinecolor": "#2a3f5f"
            },
            "type": "carpet"
           }
          ],
          "choropleth": [
           {
            "colorbar": {
             "outlinewidth": 0,
             "ticks": ""
            },
            "type": "choropleth"
           }
          ],
          "contour": [
           {
            "colorbar": {
             "outlinewidth": 0,
             "ticks": ""
            },
            "colorscale": [
             [
              0,
              "#0d0887"
             ],
             [
              0.1111111111111111,
              "#46039f"
             ],
             [
              0.2222222222222222,
              "#7201a8"
             ],
             [
              0.3333333333333333,
              "#9c179e"
             ],
             [
              0.4444444444444444,
              "#bd3786"
             ],
             [
              0.5555555555555556,
              "#d8576b"
             ],
             [
              0.6666666666666666,
              "#ed7953"
             ],
             [
              0.7777777777777778,
              "#fb9f3a"
             ],
             [
              0.8888888888888888,
              "#fdca26"
             ],
             [
              1,
              "#f0f921"
             ]
            ],
            "type": "contour"
           }
          ],
          "contourcarpet": [
           {
            "colorbar": {
             "outlinewidth": 0,
             "ticks": ""
            },
            "type": "contourcarpet"
           }
          ],
          "heatmap": [
           {
            "colorbar": {
             "outlinewidth": 0,
             "ticks": ""
            },
            "colorscale": [
             [
              0,
              "#0d0887"
             ],
             [
              0.1111111111111111,
              "#46039f"
             ],
             [
              0.2222222222222222,
              "#7201a8"
             ],
             [
              0.3333333333333333,
              "#9c179e"
             ],
             [
              0.4444444444444444,
              "#bd3786"
             ],
             [
              0.5555555555555556,
              "#d8576b"
             ],
             [
              0.6666666666666666,
              "#ed7953"
             ],
             [
              0.7777777777777778,
              "#fb9f3a"
             ],
             [
              0.8888888888888888,
              "#fdca26"
             ],
             [
              1,
              "#f0f921"
             ]
            ],
            "type": "heatmap"
           }
          ],
          "heatmapgl": [
           {
            "colorbar": {
             "outlinewidth": 0,
             "ticks": ""
            },
            "colorscale": [
             [
              0,
              "#0d0887"
             ],
             [
              0.1111111111111111,
              "#46039f"
             ],
             [
              0.2222222222222222,
              "#7201a8"
             ],
             [
              0.3333333333333333,
              "#9c179e"
             ],
             [
              0.4444444444444444,
              "#bd3786"
             ],
             [
              0.5555555555555556,
              "#d8576b"
             ],
             [
              0.6666666666666666,
              "#ed7953"
             ],
             [
              0.7777777777777778,
              "#fb9f3a"
             ],
             [
              0.8888888888888888,
              "#fdca26"
             ],
             [
              1,
              "#f0f921"
             ]
            ],
            "type": "heatmapgl"
           }
          ],
          "histogram": [
           {
            "marker": {
             "pattern": {
              "fillmode": "overlay",
              "size": 10,
              "solidity": 0.2
             }
            },
            "type": "histogram"
           }
          ],
          "histogram2d": [
           {
            "colorbar": {
             "outlinewidth": 0,
             "ticks": ""
            },
            "colorscale": [
             [
              0,
              "#0d0887"
             ],
             [
              0.1111111111111111,
              "#46039f"
             ],
             [
              0.2222222222222222,
              "#7201a8"
             ],
             [
              0.3333333333333333,
              "#9c179e"
             ],
             [
              0.4444444444444444,
              "#bd3786"
             ],
             [
              0.5555555555555556,
              "#d8576b"
             ],
             [
              0.6666666666666666,
              "#ed7953"
             ],
             [
              0.7777777777777778,
              "#fb9f3a"
             ],
             [
              0.8888888888888888,
              "#fdca26"
             ],
             [
              1,
              "#f0f921"
             ]
            ],
            "type": "histogram2d"
           }
          ],
          "histogram2dcontour": [
           {
            "colorbar": {
             "outlinewidth": 0,
             "ticks": ""
            },
            "colorscale": [
             [
              0,
              "#0d0887"
             ],
             [
              0.1111111111111111,
              "#46039f"
             ],
             [
              0.2222222222222222,
              "#7201a8"
             ],
             [
              0.3333333333333333,
              "#9c179e"
             ],
             [
              0.4444444444444444,
              "#bd3786"
             ],
             [
              0.5555555555555556,
              "#d8576b"
             ],
             [
              0.6666666666666666,
              "#ed7953"
             ],
             [
              0.7777777777777778,
              "#fb9f3a"
             ],
             [
              0.8888888888888888,
              "#fdca26"
             ],
             [
              1,
              "#f0f921"
             ]
            ],
            "type": "histogram2dcontour"
           }
          ],
          "mesh3d": [
           {
            "colorbar": {
             "outlinewidth": 0,
             "ticks": ""
            },
            "type": "mesh3d"
           }
          ],
          "parcoords": [
           {
            "line": {
             "colorbar": {
              "outlinewidth": 0,
              "ticks": ""
             }
            },
            "type": "parcoords"
           }
          ],
          "pie": [
           {
            "automargin": true,
            "type": "pie"
           }
          ],
          "scatter": [
           {
            "marker": {
             "colorbar": {
              "outlinewidth": 0,
              "ticks": ""
             }
            },
            "type": "scatter"
           }
          ],
          "scatter3d": [
           {
            "line": {
             "colorbar": {
              "outlinewidth": 0,
              "ticks": ""
             }
            },
            "marker": {
             "colorbar": {
              "outlinewidth": 0,
              "ticks": ""
             }
            },
            "type": "scatter3d"
           }
          ],
          "scattercarpet": [
           {
            "marker": {
             "colorbar": {
              "outlinewidth": 0,
              "ticks": ""
             }
            },
            "type": "scattercarpet"
           }
          ],
          "scattergeo": [
           {
            "marker": {
             "colorbar": {
              "outlinewidth": 0,
              "ticks": ""
             }
            },
            "type": "scattergeo"
           }
          ],
          "scattergl": [
           {
            "marker": {
             "colorbar": {
              "outlinewidth": 0,
              "ticks": ""
             }
            },
            "type": "scattergl"
           }
          ],
          "scattermapbox": [
           {
            "marker": {
             "colorbar": {
              "outlinewidth": 0,
              "ticks": ""
             }
            },
            "type": "scattermapbox"
           }
          ],
          "scatterpolar": [
           {
            "marker": {
             "colorbar": {
              "outlinewidth": 0,
              "ticks": ""
             }
            },
            "type": "scatterpolar"
           }
          ],
          "scatterpolargl": [
           {
            "marker": {
             "colorbar": {
              "outlinewidth": 0,
              "ticks": ""
             }
            },
            "type": "scatterpolargl"
           }
          ],
          "scatterternary": [
           {
            "marker": {
             "colorbar": {
              "outlinewidth": 0,
              "ticks": ""
             }
            },
            "type": "scatterternary"
           }
          ],
          "surface": [
           {
            "colorbar": {
             "outlinewidth": 0,
             "ticks": ""
            },
            "colorscale": [
             [
              0,
              "#0d0887"
             ],
             [
              0.1111111111111111,
              "#46039f"
             ],
             [
              0.2222222222222222,
              "#7201a8"
             ],
             [
              0.3333333333333333,
              "#9c179e"
             ],
             [
              0.4444444444444444,
              "#bd3786"
             ],
             [
              0.5555555555555556,
              "#d8576b"
             ],
             [
              0.6666666666666666,
              "#ed7953"
             ],
             [
              0.7777777777777778,
              "#fb9f3a"
             ],
             [
              0.8888888888888888,
              "#fdca26"
             ],
             [
              1,
              "#f0f921"
             ]
            ],
            "type": "surface"
           }
          ],
          "table": [
           {
            "cells": {
             "fill": {
              "color": "#EBF0F8"
             },
             "line": {
              "color": "white"
             }
            },
            "header": {
             "fill": {
              "color": "#C8D4E3"
             },
             "line": {
              "color": "white"
             }
            },
            "type": "table"
           }
          ]
         },
         "layout": {
          "annotationdefaults": {
           "arrowcolor": "#2a3f5f",
           "arrowhead": 0,
           "arrowwidth": 1
          },
          "autotypenumbers": "strict",
          "coloraxis": {
           "colorbar": {
            "outlinewidth": 0,
            "ticks": ""
           }
          },
          "colorscale": {
           "diverging": [
            [
             0,
             "#8e0152"
            ],
            [
             0.1,
             "#c51b7d"
            ],
            [
             0.2,
             "#de77ae"
            ],
            [
             0.3,
             "#f1b6da"
            ],
            [
             0.4,
             "#fde0ef"
            ],
            [
             0.5,
             "#f7f7f7"
            ],
            [
             0.6,
             "#e6f5d0"
            ],
            [
             0.7,
             "#b8e186"
            ],
            [
             0.8,
             "#7fbc41"
            ],
            [
             0.9,
             "#4d9221"
            ],
            [
             1,
             "#276419"
            ]
           ],
           "sequential": [
            [
             0,
             "#0d0887"
            ],
            [
             0.1111111111111111,
             "#46039f"
            ],
            [
             0.2222222222222222,
             "#7201a8"
            ],
            [
             0.3333333333333333,
             "#9c179e"
            ],
            [
             0.4444444444444444,
             "#bd3786"
            ],
            [
             0.5555555555555556,
             "#d8576b"
            ],
            [
             0.6666666666666666,
             "#ed7953"
            ],
            [
             0.7777777777777778,
             "#fb9f3a"
            ],
            [
             0.8888888888888888,
             "#fdca26"
            ],
            [
             1,
             "#f0f921"
            ]
           ],
           "sequentialminus": [
            [
             0,
             "#0d0887"
            ],
            [
             0.1111111111111111,
             "#46039f"
            ],
            [
             0.2222222222222222,
             "#7201a8"
            ],
            [
             0.3333333333333333,
             "#9c179e"
            ],
            [
             0.4444444444444444,
             "#bd3786"
            ],
            [
             0.5555555555555556,
             "#d8576b"
            ],
            [
             0.6666666666666666,
             "#ed7953"
            ],
            [
             0.7777777777777778,
             "#fb9f3a"
            ],
            [
             0.8888888888888888,
             "#fdca26"
            ],
            [
             1,
             "#f0f921"
            ]
           ]
          },
          "colorway": [
           "#636efa",
           "#EF553B",
           "#00cc96",
           "#ab63fa",
           "#FFA15A",
           "#19d3f3",
           "#FF6692",
           "#B6E880",
           "#FF97FF",
           "#FECB52"
          ],
          "font": {
           "color": "#2a3f5f"
          },
          "geo": {
           "bgcolor": "white",
           "lakecolor": "white",
           "landcolor": "#E5ECF6",
           "showlakes": true,
           "showland": true,
           "subunitcolor": "white"
          },
          "hoverlabel": {
           "align": "left"
          },
          "hovermode": "closest",
          "mapbox": {
           "style": "light"
          },
          "paper_bgcolor": "white",
          "plot_bgcolor": "#E5ECF6",
          "polar": {
           "angularaxis": {
            "gridcolor": "white",
            "linecolor": "white",
            "ticks": ""
           },
           "bgcolor": "#E5ECF6",
           "radialaxis": {
            "gridcolor": "white",
            "linecolor": "white",
            "ticks": ""
           }
          },
          "scene": {
           "xaxis": {
            "backgroundcolor": "#E5ECF6",
            "gridcolor": "white",
            "gridwidth": 2,
            "linecolor": "white",
            "showbackground": true,
            "ticks": "",
            "zerolinecolor": "white"
           },
           "yaxis": {
            "backgroundcolor": "#E5ECF6",
            "gridcolor": "white",
            "gridwidth": 2,
            "linecolor": "white",
            "showbackground": true,
            "ticks": "",
            "zerolinecolor": "white"
           },
           "zaxis": {
            "backgroundcolor": "#E5ECF6",
            "gridcolor": "white",
            "gridwidth": 2,
            "linecolor": "white",
            "showbackground": true,
            "ticks": "",
            "zerolinecolor": "white"
           }
          },
          "shapedefaults": {
           "line": {
            "color": "#2a3f5f"
           }
          },
          "ternary": {
           "aaxis": {
            "gridcolor": "white",
            "linecolor": "white",
            "ticks": ""
           },
           "baxis": {
            "gridcolor": "white",
            "linecolor": "white",
            "ticks": ""
           },
           "bgcolor": "#E5ECF6",
           "caxis": {
            "gridcolor": "white",
            "linecolor": "white",
            "ticks": ""
           }
          },
          "title": {
           "x": 0.05
          },
          "xaxis": {
           "automargin": true,
           "gridcolor": "white",
           "linecolor": "white",
           "ticks": "",
           "title": {
            "standoff": 15
           },
           "zerolinecolor": "white",
           "zerolinewidth": 2
          },
          "yaxis": {
           "automargin": true,
           "gridcolor": "white",
           "linecolor": "white",
           "ticks": "",
           "title": {
            "standoff": 15
           },
           "zerolinecolor": "white",
           "zerolinewidth": 2
          }
         }
        },
        "title": {
         "text": "MASCULINO X FEMININO"
        },
        "width": 800,
        "xaxis": {
         "anchor": "y",
         "categoryarray": [
          0,
          1
         ],
         "categoryorder": "array",
         "domain": [
          0,
          1
         ],
         "title": {
          "text": "FastingBS"
         }
        },
        "yaxis": {
         "anchor": "x",
         "domain": [
          0,
          1
         ],
         "title": {
          "text": "count"
         }
        }
       }
      }
     },
     "metadata": {},
     "output_type": "display_data"
    }
   ],
   "source": [
    "# Analisando os dados de forma gráfica\n",
    "\n",
    "fig = px.histogram(df, x= 'FastingBS',\n",
    "      color = 'FastingBS',\n",
    "      hover_data=df.columns,\n",
    "      title = 'masculino x feminino'.upper())\n",
    "\n",
    "fig.update_layout(width = 800,\n",
    "    height = 400)\n",
    "\n",
    "fig.show()\n"
   ]
  },
  {
   "cell_type": "markdown",
   "metadata": {},
   "source": [
    "### **Resting ECG = eletrocardiograma em repouso**\n",
    "\n",
    "- **Normal**: Normal\n",
    "\n",
    "- **LVH**: Hipertrofia ventricular esquerda\n",
    "\n",
    "- **ST**: Anormalidade da onda ST-T"
   ]
  },
  {
   "cell_type": "markdown",
   "metadata": {},
   "source": [
    "![image.png](data:image/png;base64,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)"
   ]
  },
  {
   "cell_type": "markdown",
   "metadata": {},
   "source": [
    "**SEGMENTO ST:** Qualquer desnível do\n",
    "segmento ST, para cima (supradesnível) ou para baixo\n",
    "(infradesnível), deve ser avaliado pois pode corresponder a um\n",
    "infarto agudo do miocárdio."
   ]
  },
  {
   "cell_type": "code",
   "execution_count": 192,
   "metadata": {},
   "outputs": [
    {
     "data": {
      "text/plain": [
       "Normal    552\n",
       "LVH       188\n",
       "ST        178\n",
       "Name: RestingECG, dtype: int64"
      ]
     },
     "execution_count": 192,
     "metadata": {},
     "output_type": "execute_result"
    }
   ],
   "source": [
    "#Verificando dados de Eletrocardiograma em repouso\n",
    "df['RestingECG'].value_counts()"
   ]
  },
  {
   "cell_type": "code",
   "execution_count": 193,
   "metadata": {},
   "outputs": [
    {
     "name": "stdout",
     "output_type": "stream",
     "text": [
      "Eletrocardiograma em repouso\n",
      "============================\n",
      "Normal    60.13\n",
      "LVH       20.48\n",
      "ST        19.39\n",
      "Name: RestingECG, dtype: float64\n",
      "============================\n"
     ]
    }
   ],
   "source": [
    "#Verificando percentual de dados de Eletrocardiograma em repouso\n",
    "mensagem = 'Eletrocardiograma em repouso'\n",
    "print(mensagem)\n",
    "\n",
    "print('=' * len(mensagem))\n",
    "\n",
    "print(round(df['RestingECG'].value_counts() / df.shape[0] * 100, 2))\n",
    "\n",
    "\n",
    "print('=' * len(mensagem))"
   ]
  },
  {
   "cell_type": "code",
   "execution_count": 194,
   "metadata": {},
   "outputs": [
    {
     "data": {
      "application/vnd.plotly.v1+json": {
       "config": {
        "plotlyServerURL": "https://plot.ly"
       },
       "data": [
        {
         "alignmentgroup": "True",
         "bingroup": "x",
         "hovertemplate": "Sex=M<br>RestingECG=%{x}<br>count=%{y}<extra></extra>",
         "legendgroup": "M",
         "marker": {
          "color": "#636efa",
          "pattern": {
           "shape": ""
          }
         },
         "name": "M",
         "offsetgroup": "M",
         "orientation": "v",
         "showlegend": true,
         "type": "histogram",
         "x": [
          "Normal",
          "ST",
          "Normal",
          "Normal",
          "Normal",
          "Normal",
          "ST",
          "Normal",
          "Normal",
          "Normal",
          "Normal",
          "Normal",
          "Normal",
          "Normal",
          "Normal",
          "Normal",
          "ST",
          "Normal",
          "Normal",
          "Normal",
          "Normal",
          "Normal",
          "ST",
          "Normal",
          "Normal",
          "Normal",
          "ST",
          "Normal",
          "Normal",
          "Normal",
          "Normal",
          "Normal",
          "Normal",
          "Normal",
          "Normal",
          "Normal",
          "ST",
          "ST",
          "ST",
          "Normal",
          "Normal",
          "Normal",
          "Normal",
          "ST",
          "Normal",
          "ST",
          "Normal",
          "Normal",
          "Normal",
          "Normal",
          "Normal",
          "Normal",
          "Normal",
          "Normal",
          "Normal",
          "Normal",
          "Normal",
          "Normal",
          "Normal",
          "Normal",
          "ST",
          "Normal",
          "Normal",
          "Normal",
          "Normal",
          "Normal",
          "Normal",
          "Normal",
          "Normal",
          "ST",
          "Normal",
          "Normal",
          "Normal",
          "Normal",
          "ST",
          "Normal",
          "Normal",
          "Normal",
          "Normal",
          "Normal",
          "Normal",
          "Normal",
          "ST",
          "Normal",
          "Normal",
          "Normal",
          "Normal",
          "Normal",
          "ST",
          "ST",
          "Normal",
          "ST",
          "Normal",
          "Normal",
          "Normal",
          "ST",
          "ST",
          "Normal",
          "Normal",
          "Normal",
          "Normal",
          "Normal",
          "Normal",
          "Normal",
          "Normal",
          "Normal",
          "ST",
          "Normal",
          "Normal",
          "Normal",
          "Normal",
          "ST",
          "LVH",
          "Normal",
          "Normal",
          "Normal",
          "Normal",
          "ST",
          "Normal",
          "Normal",
          "Normal",
          "Normal",
          "Normal",
          "Normal",
          "Normal",
          "Normal",
          "Normal",
          "Normal",
          "Normal",
          "Normal",
          "Normal",
          "Normal",
          "Normal",
          "ST",
          "ST",
          "Normal",
          "Normal",
          "ST",
          "ST",
          "ST",
          "Normal",
          "Normal",
          "Normal",
          "Normal",
          "Normal",
          "Normal",
          "Normal",
          "Normal",
          "Normal",
          "Normal",
          "LVH",
          "Normal",
          "LVH",
          "Normal",
          "Normal",
          "Normal",
          "Normal",
          "Normal",
          "Normal",
          "Normal",
          "Normal",
          "Normal",
          "Normal",
          "Normal",
          "Normal",
          "Normal",
          "Normal",
          "Normal",
          "Normal",
          "Normal",
          "Normal",
          "Normal",
          "Normal",
          "Normal",
          "Normal",
          "Normal",
          "Normal",
          "Normal",
          "Normal",
          "Normal",
          "Normal",
          "Normal",
          "ST",
          "ST",
          "Normal",
          "Normal",
          "Normal",
          "ST",
          "Normal",
          "Normal",
          "Normal",
          "Normal",
          "Normal",
          "Normal",
          "Normal",
          "Normal",
          "Normal",
          "Normal",
          "Normal",
          "Normal",
          "Normal",
          "LVH",
          "Normal",
          "Normal",
          "Normal",
          "LVH",
          "Normal",
          "Normal",
          "Normal",
          "Normal",
          "Normal",
          "Normal",
          "Normal",
          "Normal",
          "Normal",
          "Normal",
          "Normal",
          "ST",
          "Normal",
          "ST",
          "Normal",
          "ST",
          "Normal",
          "Normal",
          "Normal",
          "ST",
          "Normal",
          "Normal",
          "Normal",
          "Normal",
          "Normal",
          "Normal",
          "Normal",
          "ST",
          "Normal",
          "Normal",
          "Normal",
          "Normal",
          "Normal",
          "Normal",
          "Normal",
          "ST",
          "Normal",
          "Normal",
          "Normal",
          "Normal",
          "ST",
          "Normal",
          "ST",
          "Normal",
          "ST",
          "Normal",
          "LVH",
          "LVH",
          "ST",
          "LVH",
          "Normal",
          "Normal",
          "Normal",
          "Normal",
          "Normal",
          "Normal",
          "Normal",
          "Normal",
          "ST",
          "Normal",
          "Normal",
          "ST",
          "ST",
          "ST",
          "ST",
          "LVH",
          "Normal",
          "Normal",
          "Normal",
          "Normal",
          "Normal",
          "Normal",
          "ST",
          "ST",
          "Normal",
          "Normal",
          "ST",
          "Normal",
          "Normal",
          "Normal",
          "Normal",
          "Normal",
          "Normal",
          "Normal",
          "Normal",
          "ST",
          "Normal",
          "ST",
          "ST",
          "Normal",
          "Normal",
          "Normal",
          "Normal",
          "Normal",
          "LVH",
          "Normal",
          "ST",
          "Normal",
          "ST",
          "LVH",
          "Normal",
          "Normal",
          "Normal",
          "ST",
          "Normal",
          "ST",
          "ST",
          "ST",
          "Normal",
          "Normal",
          "Normal",
          "Normal",
          "Normal",
          "Normal",
          "LVH",
          "ST",
          "Normal",
          "Normal",
          "Normal",
          "Normal",
          "ST",
          "ST",
          "ST",
          "ST",
          "LVH",
          "ST",
          "ST",
          "ST",
          "Normal",
          "ST",
          "ST",
          "ST",
          "Normal",
          "LVH",
          "ST",
          "ST",
          "Normal",
          "Normal",
          "ST",
          "ST",
          "Normal",
          "ST",
          "ST",
          "Normal",
          "ST",
          "ST",
          "ST",
          "ST",
          "Normal",
          "ST",
          "ST",
          "ST",
          "Normal",
          "Normal",
          "Normal",
          "ST",
          "ST",
          "Normal",
          "Normal",
          "ST",
          "Normal",
          "Normal",
          "ST",
          "ST",
          "ST",
          "Normal",
          "Normal",
          "Normal",
          "Normal",
          "Normal",
          "ST",
          "ST",
          "Normal",
          "Normal",
          "Normal",
          "ST",
          "ST",
          "Normal",
          "LVH",
          "LVH",
          "Normal",
          "ST",
          "LVH",
          "Normal",
          "ST",
          "Normal",
          "LVH",
          "Normal",
          "ST",
          "ST",
          "ST",
          "Normal",
          "Normal",
          "Normal",
          "ST",
          "ST",
          "Normal",
          "Normal",
          "Normal",
          "Normal",
          "ST",
          "Normal",
          "Normal",
          "Normal",
          "ST",
          "ST",
          "Normal",
          "ST",
          "Normal",
          "Normal",
          "Normal",
          "Normal",
          "Normal",
          "ST",
          "ST",
          "ST",
          "Normal",
          "ST",
          "Normal",
          "Normal",
          "ST",
          "ST",
          "ST",
          "ST",
          "LVH",
          "Normal",
          "ST",
          "Normal",
          "LVH",
          "Normal",
          "Normal",
          "Normal",
          "Normal",
          "ST",
          "ST",
          "ST",
          "Normal",
          "LVH",
          "ST",
          "ST",
          "Normal",
          "LVH",
          "ST",
          "LVH",
          "ST",
          "ST",
          "ST",
          "ST",
          "Normal",
          "ST",
          "Normal",
          "LVH",
          "Normal",
          "Normal",
          "ST",
          "ST",
          "Normal",
          "ST",
          "ST",
          "Normal",
          "ST",
          "ST",
          "Normal",
          "ST",
          "ST",
          "ST",
          "Normal",
          "ST",
          "Normal",
          "Normal",
          "ST",
          "Normal",
          "ST",
          "LVH",
          "ST",
          "Normal",
          "ST",
          "Normal",
          "LVH",
          "ST",
          "LVH",
          "Normal",
          "LVH",
          "LVH",
          "ST",
          "ST",
          "Normal",
          "LVH",
          "ST",
          "Normal",
          "ST",
          "ST",
          "LVH",
          "LVH",
          "LVH",
          "LVH",
          "LVH",
          "ST",
          "LVH",
          "Normal",
          "ST",
          "Normal",
          "Normal",
          "Normal",
          "Normal",
          "ST",
          "ST",
          "ST",
          "Normal",
          "ST",
          "ST",
          "LVH",
          "LVH",
          "LVH",
          "Normal",
          "Normal",
          "Normal",
          "LVH",
          "LVH",
          "LVH",
          "Normal",
          "LVH",
          "LVH",
          "Normal",
          "Normal",
          "LVH",
          "LVH",
          "Normal",
          "LVH",
          "LVH",
          "Normal",
          "Normal",
          "LVH",
          "LVH",
          "LVH",
          "LVH",
          "LVH",
          "LVH",
          "LVH",
          "LVH",
          "Normal",
          "LVH",
          "Normal",
          "Normal",
          "Normal",
          "Normal",
          "LVH",
          "LVH",
          "LVH",
          "Normal",
          "Normal",
          "Normal",
          "LVH",
          "LVH",
          "Normal",
          "Normal",
          "LVH",
          "LVH",
          "LVH",
          "Normal",
          "Normal",
          "LVH",
          "LVH",
          "LVH",
          "Normal",
          "Normal",
          "Normal",
          "LVH",
          "LVH",
          "Normal",
          "LVH",
          "LVH",
          "LVH",
          "LVH",
          "Normal",
          "LVH",
          "LVH",
          "Normal",
          "LVH",
          "LVH",
          "Normal",
          "Normal",
          "LVH",
          "LVH",
          "LVH",
          "Normal",
          "Normal",
          "Normal",
          "Normal",
          "LVH",
          "LVH",
          "Normal",
          "LVH",
          "Normal",
          "LVH",
          "Normal",
          "Normal",
          "Normal",
          "LVH",
          "Normal",
          "LVH",
          "LVH",
          "LVH",
          "Normal",
          "LVH",
          "LVH",
          "Normal",
          "LVH",
          "LVH",
          "Normal",
          "Normal",
          "LVH",
          "LVH",
          "Normal",
          "Normal",
          "LVH",
          "LVH",
          "Normal",
          "Normal",
          "LVH",
          "Normal",
          "LVH",
          "LVH",
          "LVH",
          "LVH",
          "LVH",
          "LVH",
          "Normal",
          "Normal",
          "Normal",
          "Normal",
          "Normal",
          "LVH",
          "LVH",
          "Normal",
          "LVH",
          "Normal",
          "Normal",
          "Normal",
          "Normal",
          "Normal",
          "LVH",
          "Normal",
          "LVH",
          "Normal",
          "LVH",
          "LVH",
          "Normal",
          "LVH",
          "Normal",
          "LVH",
          "Normal",
          "Normal",
          "LVH",
          "LVH",
          "LVH",
          "LVH",
          "Normal",
          "LVH",
          "Normal",
          "Normal",
          "LVH",
          "Normal",
          "LVH",
          "Normal",
          "LVH",
          "Normal",
          "LVH",
          "Normal",
          "Normal",
          "LVH",
          "LVH",
          "Normal",
          "LVH",
          "LVH",
          "Normal",
          "LVH",
          "LVH",
          "LVH",
          "Normal",
          "LVH",
          "LVH",
          "Normal",
          "Normal",
          "Normal",
          "Normal",
          "Normal",
          "Normal",
          "LVH",
          "LVH",
          "Normal",
          "Normal",
          "Normal",
          "Normal",
          "Normal",
          "LVH",
          "Normal",
          "LVH",
          "Normal",
          "Normal",
          "LVH",
          "LVH",
          "Normal",
          "Normal",
          "Normal",
          "Normal",
          "ST",
          "Normal",
          "LVH",
          "Normal",
          "LVH",
          "Normal",
          "LVH",
          "Normal",
          "LVH",
          "Normal",
          "Normal",
          "Normal",
          "Normal"
         ],
         "xaxis": "x",
         "yaxis": "y"
        },
        {
         "alignmentgroup": "True",
         "bingroup": "x",
         "hovertemplate": "Sex=F<br>RestingECG=%{x}<br>count=%{y}<extra></extra>",
         "legendgroup": "F",
         "marker": {
          "color": "#EF553B",
          "pattern": {
           "shape": ""
          }
         },
         "name": "F",
         "offsetgroup": "F",
         "orientation": "v",
         "showlegend": true,
         "type": "histogram",
         "x": [
          "Normal",
          "Normal",
          "Normal",
          "Normal",
          "Normal",
          "ST",
          "Normal",
          "Normal",
          "Normal",
          "Normal",
          "Normal",
          "Normal",
          "ST",
          "ST",
          "Normal",
          "Normal",
          "ST",
          "Normal",
          "Normal",
          "Normal",
          "Normal",
          "Normal",
          "Normal",
          "Normal",
          "Normal",
          "ST",
          "Normal",
          "Normal",
          "Normal",
          "Normal",
          "ST",
          "Normal",
          "ST",
          "Normal",
          "ST",
          "Normal",
          "ST",
          "ST",
          "Normal",
          "Normal",
          "Normal",
          "Normal",
          "Normal",
          "Normal",
          "ST",
          "ST",
          "Normal",
          "ST",
          "Normal",
          "Normal",
          "Normal",
          "Normal",
          "Normal",
          "Normal",
          "Normal",
          "ST",
          "Normal",
          "ST",
          "ST",
          "Normal",
          "Normal",
          "ST",
          "Normal",
          "ST",
          "Normal",
          "Normal",
          "LVH",
          "Normal",
          "Normal",
          "Normal",
          "Normal",
          "Normal",
          "Normal",
          "ST",
          "ST",
          "Normal",
          "ST",
          "Normal",
          "ST",
          "Normal",
          "ST",
          "Normal",
          "Normal",
          "Normal",
          "Normal",
          "ST",
          "Normal",
          "Normal",
          "Normal",
          "Normal",
          "Normal",
          "Normal",
          "Normal",
          "Normal",
          "LVH",
          "ST",
          "LVH",
          "LVH",
          "LVH",
          "LVH",
          "Normal",
          "LVH",
          "Normal",
          "LVH",
          "LVH",
          "LVH",
          "Normal",
          "Normal",
          "LVH",
          "LVH",
          "Normal",
          "LVH",
          "Normal",
          "Normal",
          "Normal",
          "Normal",
          "Normal",
          "LVH",
          "Normal",
          "Normal",
          "ST",
          "Normal",
          "Normal",
          "Normal",
          "Normal",
          "LVH",
          "Normal",
          "Normal",
          "Normal",
          "Normal",
          "LVH",
          "Normal",
          "ST",
          "LVH",
          "Normal",
          "Normal",
          "LVH",
          "Normal",
          "LVH",
          "Normal",
          "LVH",
          "Normal",
          "LVH",
          "Normal",
          "Normal",
          "LVH",
          "Normal",
          "LVH",
          "Normal",
          "LVH",
          "Normal",
          "Normal",
          "Normal",
          "Normal",
          "LVH",
          "LVH",
          "LVH",
          "Normal",
          "LVH",
          "LVH",
          "LVH",
          "LVH",
          "LVH",
          "Normal",
          "Normal",
          "Normal",
          "Normal",
          "LVH",
          "LVH",
          "Normal",
          "Normal",
          "LVH",
          "LVH",
          "LVH",
          "LVH",
          "LVH",
          "LVH",
          "LVH",
          "LVH",
          "Normal",
          "Normal",
          "Normal",
          "LVH",
          "LVH",
          "LVH",
          "Normal",
          "Normal",
          "ST",
          "LVH",
          "Normal",
          "Normal",
          "Normal",
          "LVH"
         ],
         "xaxis": "x",
         "yaxis": "y"
        }
       ],
       "layout": {
        "barmode": "relative",
        "height": 500,
        "legend": {
         "title": {
          "text": "Sex"
         },
         "tracegroupgap": 0
        },
        "template": {
         "data": {
          "bar": [
           {
            "error_x": {
             "color": "#2a3f5f"
            },
            "error_y": {
             "color": "#2a3f5f"
            },
            "marker": {
             "line": {
              "color": "#E5ECF6",
              "width": 0.5
             },
             "pattern": {
              "fillmode": "overlay",
              "size": 10,
              "solidity": 0.2
             }
            },
            "type": "bar"
           }
          ],
          "barpolar": [
           {
            "marker": {
             "line": {
              "color": "#E5ECF6",
              "width": 0.5
             },
             "pattern": {
              "fillmode": "overlay",
              "size": 10,
              "solidity": 0.2
             }
            },
            "type": "barpolar"
           }
          ],
          "carpet": [
           {
            "aaxis": {
             "endlinecolor": "#2a3f5f",
             "gridcolor": "white",
             "linecolor": "white",
             "minorgridcolor": "white",
             "startlinecolor": "#2a3f5f"
            },
            "baxis": {
             "endlinecolor": "#2a3f5f",
             "gridcolor": "white",
             "linecolor": "white",
             "minorgridcolor": "white",
             "startlinecolor": "#2a3f5f"
            },
            "type": "carpet"
           }
          ],
          "choropleth": [
           {
            "colorbar": {
             "outlinewidth": 0,
             "ticks": ""
            },
            "type": "choropleth"
           }
          ],
          "contour": [
           {
            "colorbar": {
             "outlinewidth": 0,
             "ticks": ""
            },
            "colorscale": [
             [
              0,
              "#0d0887"
             ],
             [
              0.1111111111111111,
              "#46039f"
             ],
             [
              0.2222222222222222,
              "#7201a8"
             ],
             [
              0.3333333333333333,
              "#9c179e"
             ],
             [
              0.4444444444444444,
              "#bd3786"
             ],
             [
              0.5555555555555556,
              "#d8576b"
             ],
             [
              0.6666666666666666,
              "#ed7953"
             ],
             [
              0.7777777777777778,
              "#fb9f3a"
             ],
             [
              0.8888888888888888,
              "#fdca26"
             ],
             [
              1,
              "#f0f921"
             ]
            ],
            "type": "contour"
           }
          ],
          "contourcarpet": [
           {
            "colorbar": {
             "outlinewidth": 0,
             "ticks": ""
            },
            "type": "contourcarpet"
           }
          ],
          "heatmap": [
           {
            "colorbar": {
             "outlinewidth": 0,
             "ticks": ""
            },
            "colorscale": [
             [
              0,
              "#0d0887"
             ],
             [
              0.1111111111111111,
              "#46039f"
             ],
             [
              0.2222222222222222,
              "#7201a8"
             ],
             [
              0.3333333333333333,
              "#9c179e"
             ],
             [
              0.4444444444444444,
              "#bd3786"
             ],
             [
              0.5555555555555556,
              "#d8576b"
             ],
             [
              0.6666666666666666,
              "#ed7953"
             ],
             [
              0.7777777777777778,
              "#fb9f3a"
             ],
             [
              0.8888888888888888,
              "#fdca26"
             ],
             [
              1,
              "#f0f921"
             ]
            ],
            "type": "heatmap"
           }
          ],
          "heatmapgl": [
           {
            "colorbar": {
             "outlinewidth": 0,
             "ticks": ""
            },
            "colorscale": [
             [
              0,
              "#0d0887"
             ],
             [
              0.1111111111111111,
              "#46039f"
             ],
             [
              0.2222222222222222,
              "#7201a8"
             ],
             [
              0.3333333333333333,
              "#9c179e"
             ],
             [
              0.4444444444444444,
              "#bd3786"
             ],
             [
              0.5555555555555556,
              "#d8576b"
             ],
             [
              0.6666666666666666,
              "#ed7953"
             ],
             [
              0.7777777777777778,
              "#fb9f3a"
             ],
             [
              0.8888888888888888,
              "#fdca26"
             ],
             [
              1,
              "#f0f921"
             ]
            ],
            "type": "heatmapgl"
           }
          ],
          "histogram": [
           {
            "marker": {
             "pattern": {
              "fillmode": "overlay",
              "size": 10,
              "solidity": 0.2
             }
            },
            "type": "histogram"
           }
          ],
          "histogram2d": [
           {
            "colorbar": {
             "outlinewidth": 0,
             "ticks": ""
            },
            "colorscale": [
             [
              0,
              "#0d0887"
             ],
             [
              0.1111111111111111,
              "#46039f"
             ],
             [
              0.2222222222222222,
              "#7201a8"
             ],
             [
              0.3333333333333333,
              "#9c179e"
             ],
             [
              0.4444444444444444,
              "#bd3786"
             ],
             [
              0.5555555555555556,
              "#d8576b"
             ],
             [
              0.6666666666666666,
              "#ed7953"
             ],
             [
              0.7777777777777778,
              "#fb9f3a"
             ],
             [
              0.8888888888888888,
              "#fdca26"
             ],
             [
              1,
              "#f0f921"
             ]
            ],
            "type": "histogram2d"
           }
          ],
          "histogram2dcontour": [
           {
            "colorbar": {
             "outlinewidth": 0,
             "ticks": ""
            },
            "colorscale": [
             [
              0,
              "#0d0887"
             ],
             [
              0.1111111111111111,
              "#46039f"
             ],
             [
              0.2222222222222222,
              "#7201a8"
             ],
             [
              0.3333333333333333,
              "#9c179e"
             ],
             [
              0.4444444444444444,
              "#bd3786"
             ],
             [
              0.5555555555555556,
              "#d8576b"
             ],
             [
              0.6666666666666666,
              "#ed7953"
             ],
             [
              0.7777777777777778,
              "#fb9f3a"
             ],
             [
              0.8888888888888888,
              "#fdca26"
             ],
             [
              1,
              "#f0f921"
             ]
            ],
            "type": "histogram2dcontour"
           }
          ],
          "mesh3d": [
           {
            "colorbar": {
             "outlinewidth": 0,
             "ticks": ""
            },
            "type": "mesh3d"
           }
          ],
          "parcoords": [
           {
            "line": {
             "colorbar": {
              "outlinewidth": 0,
              "ticks": ""
             }
            },
            "type": "parcoords"
           }
          ],
          "pie": [
           {
            "automargin": true,
            "type": "pie"
           }
          ],
          "scatter": [
           {
            "marker": {
             "colorbar": {
              "outlinewidth": 0,
              "ticks": ""
             }
            },
            "type": "scatter"
           }
          ],
          "scatter3d": [
           {
            "line": {
             "colorbar": {
              "outlinewidth": 0,
              "ticks": ""
             }
            },
            "marker": {
             "colorbar": {
              "outlinewidth": 0,
              "ticks": ""
             }
            },
            "type": "scatter3d"
           }
          ],
          "scattercarpet": [
           {
            "marker": {
             "colorbar": {
              "outlinewidth": 0,
              "ticks": ""
             }
            },
            "type": "scattercarpet"
           }
          ],
          "scattergeo": [
           {
            "marker": {
             "colorbar": {
              "outlinewidth": 0,
              "ticks": ""
             }
            },
            "type": "scattergeo"
           }
          ],
          "scattergl": [
           {
            "marker": {
             "colorbar": {
              "outlinewidth": 0,
              "ticks": ""
             }
            },
            "type": "scattergl"
           }
          ],
          "scattermapbox": [
           {
            "marker": {
             "colorbar": {
              "outlinewidth": 0,
              "ticks": ""
             }
            },
            "type": "scattermapbox"
           }
          ],
          "scatterpolar": [
           {
            "marker": {
             "colorbar": {
              "outlinewidth": 0,
              "ticks": ""
             }
            },
            "type": "scatterpolar"
           }
          ],
          "scatterpolargl": [
           {
            "marker": {
             "colorbar": {
              "outlinewidth": 0,
              "ticks": ""
             }
            },
            "type": "scatterpolargl"
           }
          ],
          "scatterternary": [
           {
            "marker": {
             "colorbar": {
              "outlinewidth": 0,
              "ticks": ""
             }
            },
            "type": "scatterternary"
           }
          ],
          "surface": [
           {
            "colorbar": {
             "outlinewidth": 0,
             "ticks": ""
            },
            "colorscale": [
             [
              0,
              "#0d0887"
             ],
             [
              0.1111111111111111,
              "#46039f"
             ],
             [
              0.2222222222222222,
              "#7201a8"
             ],
             [
              0.3333333333333333,
              "#9c179e"
             ],
             [
              0.4444444444444444,
              "#bd3786"
             ],
             [
              0.5555555555555556,
              "#d8576b"
             ],
             [
              0.6666666666666666,
              "#ed7953"
             ],
             [
              0.7777777777777778,
              "#fb9f3a"
             ],
             [
              0.8888888888888888,
              "#fdca26"
             ],
             [
              1,
              "#f0f921"
             ]
            ],
            "type": "surface"
           }
          ],
          "table": [
           {
            "cells": {
             "fill": {
              "color": "#EBF0F8"
             },
             "line": {
              "color": "white"
             }
            },
            "header": {
             "fill": {
              "color": "#C8D4E3"
             },
             "line": {
              "color": "white"
             }
            },
            "type": "table"
           }
          ]
         },
         "layout": {
          "annotationdefaults": {
           "arrowcolor": "#2a3f5f",
           "arrowhead": 0,
           "arrowwidth": 1
          },
          "autotypenumbers": "strict",
          "coloraxis": {
           "colorbar": {
            "outlinewidth": 0,
            "ticks": ""
           }
          },
          "colorscale": {
           "diverging": [
            [
             0,
             "#8e0152"
            ],
            [
             0.1,
             "#c51b7d"
            ],
            [
             0.2,
             "#de77ae"
            ],
            [
             0.3,
             "#f1b6da"
            ],
            [
             0.4,
             "#fde0ef"
            ],
            [
             0.5,
             "#f7f7f7"
            ],
            [
             0.6,
             "#e6f5d0"
            ],
            [
             0.7,
             "#b8e186"
            ],
            [
             0.8,
             "#7fbc41"
            ],
            [
             0.9,
             "#4d9221"
            ],
            [
             1,
             "#276419"
            ]
           ],
           "sequential": [
            [
             0,
             "#0d0887"
            ],
            [
             0.1111111111111111,
             "#46039f"
            ],
            [
             0.2222222222222222,
             "#7201a8"
            ],
            [
             0.3333333333333333,
             "#9c179e"
            ],
            [
             0.4444444444444444,
             "#bd3786"
            ],
            [
             0.5555555555555556,
             "#d8576b"
            ],
            [
             0.6666666666666666,
             "#ed7953"
            ],
            [
             0.7777777777777778,
             "#fb9f3a"
            ],
            [
             0.8888888888888888,
             "#fdca26"
            ],
            [
             1,
             "#f0f921"
            ]
           ],
           "sequentialminus": [
            [
             0,
             "#0d0887"
            ],
            [
             0.1111111111111111,
             "#46039f"
            ],
            [
             0.2222222222222222,
             "#7201a8"
            ],
            [
             0.3333333333333333,
             "#9c179e"
            ],
            [
             0.4444444444444444,
             "#bd3786"
            ],
            [
             0.5555555555555556,
             "#d8576b"
            ],
            [
             0.6666666666666666,
             "#ed7953"
            ],
            [
             0.7777777777777778,
             "#fb9f3a"
            ],
            [
             0.8888888888888888,
             "#fdca26"
            ],
            [
             1,
             "#f0f921"
            ]
           ]
          },
          "colorway": [
           "#636efa",
           "#EF553B",
           "#00cc96",
           "#ab63fa",
           "#FFA15A",
           "#19d3f3",
           "#FF6692",
           "#B6E880",
           "#FF97FF",
           "#FECB52"
          ],
          "font": {
           "color": "#2a3f5f"
          },
          "geo": {
           "bgcolor": "white",
           "lakecolor": "white",
           "landcolor": "#E5ECF6",
           "showlakes": true,
           "showland": true,
           "subunitcolor": "white"
          },
          "hoverlabel": {
           "align": "left"
          },
          "hovermode": "closest",
          "mapbox": {
           "style": "light"
          },
          "paper_bgcolor": "white",
          "plot_bgcolor": "#E5ECF6",
          "polar": {
           "angularaxis": {
            "gridcolor": "white",
            "linecolor": "white",
            "ticks": ""
           },
           "bgcolor": "#E5ECF6",
           "radialaxis": {
            "gridcolor": "white",
            "linecolor": "white",
            "ticks": ""
           }
          },
          "scene": {
           "xaxis": {
            "backgroundcolor": "#E5ECF6",
            "gridcolor": "white",
            "gridwidth": 2,
            "linecolor": "white",
            "showbackground": true,
            "ticks": "",
            "zerolinecolor": "white"
           },
           "yaxis": {
            "backgroundcolor": "#E5ECF6",
            "gridcolor": "white",
            "gridwidth": 2,
            "linecolor": "white",
            "showbackground": true,
            "ticks": "",
            "zerolinecolor": "white"
           },
           "zaxis": {
            "backgroundcolor": "#E5ECF6",
            "gridcolor": "white",
            "gridwidth": 2,
            "linecolor": "white",
            "showbackground": true,
            "ticks": "",
            "zerolinecolor": "white"
           }
          },
          "shapedefaults": {
           "line": {
            "color": "#2a3f5f"
           }
          },
          "ternary": {
           "aaxis": {
            "gridcolor": "white",
            "linecolor": "white",
            "ticks": ""
           },
           "baxis": {
            "gridcolor": "white",
            "linecolor": "white",
            "ticks": ""
           },
           "bgcolor": "#E5ECF6",
           "caxis": {
            "gridcolor": "white",
            "linecolor": "white",
            "ticks": ""
           }
          },
          "title": {
           "x": 0.05
          },
          "xaxis": {
           "automargin": true,
           "gridcolor": "white",
           "linecolor": "white",
           "ticks": "",
           "title": {
            "standoff": 15
           },
           "zerolinecolor": "white",
           "zerolinewidth": 2
          },
          "yaxis": {
           "automargin": true,
           "gridcolor": "white",
           "linecolor": "white",
           "ticks": "",
           "title": {
            "standoff": 15
           },
           "zerolinecolor": "white",
           "zerolinewidth": 2
          }
         }
        },
        "title": {
         "text": "ELETROCARDIOGRAMA EM REPOUSO"
        },
        "width": 800,
        "xaxis": {
         "anchor": "y",
         "domain": [
          0,
          1
         ],
         "title": {
          "text": "RestingECG"
         }
        },
        "yaxis": {
         "anchor": "x",
         "domain": [
          0,
          1
         ],
         "title": {
          "text": "count"
         }
        }
       }
      }
     },
     "metadata": {},
     "output_type": "display_data"
    }
   ],
   "source": [
    "#Verificando a informação de forma gráfica e separada por sexo\n",
    "\n",
    "fig = px.histogram (df, 'RestingECG',\n",
    "      color= 'Sex',hover_data= df.columns, \n",
    "      title ='Eletrocardiograma em repouso'.upper())\n",
    "\n",
    "fig.update_layout(width = \n",
    "      800, height = 500)\n",
    "\n",
    "\n",
    "fig.show()"
   ]
  },
  {
   "cell_type": "markdown",
   "metadata": {},
   "source": [
    "### **Max HR (heart rate) = frequência cardíaca máxima**"
   ]
  },
  {
   "cell_type": "code",
   "execution_count": 195,
   "metadata": {},
   "outputs": [
    {
     "data": {
      "application/vnd.plotly.v1+json": {
       "config": {
        "plotlyServerURL": "https://plot.ly"
       },
       "data": [
        {
         "alignmentgroup": "True",
         "bingroup": "x",
         "hovertemplate": "MaxHR=%{x}<br>count=%{y}<extra></extra>",
         "legendgroup": "",
         "marker": {
          "color": "#636efa",
          "pattern": {
           "shape": ""
          }
         },
         "name": "",
         "nbinsx": 30,
         "offsetgroup": "",
         "orientation": "v",
         "showlegend": false,
         "type": "histogram",
         "x": [
          172,
          156,
          98,
          108,
          122,
          170,
          170,
          142,
          130,
          120,
          142,
          99,
          145,
          140,
          137,
          150,
          166,
          165,
          125,
          160,
          142,
          142,
          164,
          150,
          138,
          178,
          112,
          118,
          127,
          145,
          130,
          114,
          122,
          130,
          154,
          155,
          87,
          142,
          148,
          130,
          130,
          100,
          168,
          170,
          120,
          120,
          168,
          170,
          184,
          170,
          121,
          98,
          122,
          150,
          140,
          170,
          153,
          140,
          134,
          96,
          174,
          175,
          144,
          125,
          145,
          130,
          144,
          184,
          82,
          170,
          145,
          135,
          150,
          115,
          128,
          116,
          130,
          150,
          138,
          170,
          160,
          154,
          115,
          165,
          125,
          94,
          112,
          142,
          155,
          110,
          160,
          140,
          148,
          92,
          180,
          140,
          138,
          160,
          140,
          144,
          115,
          100,
          130,
          152,
          124,
          140,
          110,
          168,
          135,
          106,
          124,
          92,
          125,
          150,
          135,
          150,
          170,
          130,
          185,
          180,
          170,
          139,
          140,
          110,
          150,
          110,
          190,
          175,
          140,
          152,
          130,
          150,
          122,
          124,
          120,
          175,
          175,
          146,
          118,
          130,
          94,
          125,
          158,
          155,
          150,
          132,
          155,
          176,
          160,
          125,
          120,
          100,
          150,
          140,
          160,
          150,
          150,
          130,
          100,
          130,
          119,
          96,
          174,
          150,
          140,
          175,
          140,
          118,
          100,
          160,
          160,
          188,
          162,
          172,
          134,
          135,
          105,
          150,
          150,
          90,
          120,
          150,
          124,
          140,
          130,
          92,
          110,
          138,
          110,
          120,
          120,
          116,
          160,
          110,
          180,
          116,
          132,
          136,
          116,
          98,
          150,
          150,
          146,
          150,
          100,
          140,
          180,
          140,
          185,
          140,
          110,
          140,
          128,
          164,
          98,
          170,
          150,
          137,
          150,
          170,
          112,
          150,
          125,
          185,
          137,
          150,
          140,
          134,
          170,
          184,
          158,
          167,
          129,
          142,
          140,
          160,
          118,
          136,
          99,
          102,
          155,
          142,
          143,
          118,
          103,
          137,
          150,
          150,
          130,
          120,
          135,
          115,
          115,
          152,
          96,
          130,
          150,
          172,
          120,
          155,
          165,
          138,
          115,
          125,
          145,
          175,
          110,
          150,
          91,
          145,
          140,
          165,
          130,
          134,
          180,
          100,
          150,
          126,
          126,
          155,
          135,
          122,
          160,
          160,
          170,
          120,
          140,
          132,
          156,
          180,
          138,
          135,
          148,
          93,
          127,
          110,
          139,
          131,
          92,
          149,
          149,
          150,
          120,
          123,
          126,
          127,
          155,
          120,
          138,
          182,
          154,
          110,
          176,
          154,
          141,
          123,
          148,
          121,
          77,
          136,
          175,
          109,
          166,
          128,
          133,
          128,
          138,
          119,
          82,
          130,
          143,
          82,
          179,
          144,
          170,
          134,
          114,
          154,
          149,
          145,
          122,
          114,
          113,
          120,
          104,
          130,
          115,
          128,
          104,
          125,
          120,
          140,
          100,
          100,
          92,
          125,
          113,
          95,
          128,
          115,
          72,
          124,
          99,
          148,
          97,
          140,
          117,
          120,
          120,
          86,
          63,
          108,
          98,
          115,
          105,
          121,
          118,
          122,
          157,
          156,
          99,
          120,
          145,
          156,
          155,
          105,
          99,
          135,
          83,
          145,
          60,
          92,
          115,
          120,
          98,
          150,
          143,
          105,
          122,
          70,
          110,
          163,
          67,
          128,
          120,
          130,
          100,
          72,
          94,
          122,
          78,
          150,
          103,
          98,
          110,
          90,
          112,
          127,
          140,
          149,
          99,
          120,
          105,
          140,
          141,
          157,
          140,
          117,
          120,
          120,
          148,
          86,
          84,
          125,
          120,
          118,
          124,
          106,
          111,
          116,
          180,
          129,
          125,
          140,
          120,
          124,
          117,
          110,
          105,
          155,
          110,
          122,
          118,
          133,
          123,
          131,
          80,
          165,
          86,
          111,
          118,
          84,
          117,
          107,
          128,
          160,
          125,
          130,
          97,
          161,
          106,
          130,
          140,
          122,
          130,
          120,
          139,
          108,
          148,
          123,
          110,
          118,
          125,
          106,
          112,
          128,
          180,
          144,
          135,
          140,
          102,
          108,
          145,
          127,
          110,
          140,
          69,
          148,
          130,
          130,
          140,
          138,
          140,
          138,
          112,
          131,
          112,
          80,
          150,
          110,
          126,
          88,
          153,
          150,
          120,
          160,
          132,
          120,
          110,
          121,
          128,
          135,
          120,
          117,
          150,
          144,
          113,
          135,
          127,
          109,
          128,
          115,
          102,
          140,
          135,
          122,
          119,
          130,
          112,
          100,
          122,
          120,
          105,
          129,
          120,
          139,
          162,
          100,
          140,
          135,
          73,
          86,
          108,
          116,
          160,
          118,
          112,
          122,
          124,
          102,
          137,
          141,
          154,
          126,
          160,
          115,
          128,
          115,
          105,
          110,
          119,
          109,
          135,
          130,
          112,
          126,
          120,
          110,
          119,
          110,
          130,
          159,
          84,
          126,
          116,
          120,
          122,
          165,
          122,
          94,
          133,
          110,
          150,
          130,
          113,
          140,
          100,
          136,
          127,
          98,
          96,
          123,
          98,
          112,
          151,
          96,
          108,
          128,
          138,
          126,
          154,
          137,
          100,
          135,
          93,
          109,
          160,
          141,
          105,
          121,
          140,
          142,
          142,
          170,
          154,
          161,
          111,
          180,
          145,
          159,
          125,
          120,
          155,
          144,
          178,
          129,
          180,
          181,
          143,
          159,
          139,
          152,
          157,
          165,
          130,
          150,
          138,
          170,
          140,
          126,
          150,
          138,
          125,
          150,
          186,
          181,
          163,
          179,
          156,
          134,
          165,
          126,
          177,
          120,
          114,
          125,
          184,
          157,
          179,
          175,
          168,
          125,
          96,
          143,
          103,
          173,
          142,
          169,
          171,
          150,
          112,
          186,
          152,
          149,
          152,
          140,
          163,
          143,
          116,
          142,
          147,
          148,
          179,
          173,
          178,
          105,
          130,
          111,
          168,
          126,
          178,
          140,
          145,
          163,
          128,
          164,
          169,
          109,
          108,
          168,
          118,
          151,
          156,
          133,
          162,
          175,
          71,
          163,
          124,
          147,
          166,
          143,
          157,
          162,
          138,
          117,
          153,
          161,
          170,
          162,
          162,
          144,
          133,
          114,
          103,
          139,
          116,
          88,
          151,
          152,
          163,
          99,
          169,
          158,
          160,
          169,
          132,
          178,
          96,
          165,
          160,
          172,
          144,
          192,
          168,
          132,
          182,
          163,
          125,
          195,
          95,
          160,
          114,
          173,
          172,
          179,
          158,
          167,
          122,
          149,
          172,
          111,
          170,
          162,
          165,
          182,
          154,
          155,
          130,
          161,
          154,
          159,
          152,
          152,
          174,
          131,
          146,
          125,
          115,
          174,
          106,
          122,
          147,
          163,
          163,
          194,
          150,
          158,
          122,
          173,
          162,
          105,
          147,
          157,
          112,
          160,
          125,
          156,
          156,
          175,
          161,
          122,
          158,
          151,
          162,
          151,
          171,
          141,
          173,
          145,
          178,
          160,
          154,
          131,
          187,
          159,
          166,
          165,
          131,
          202,
          172,
          172,
          154,
          147,
          170,
          126,
          127,
          174,
          132,
          182,
          132,
          97,
          136,
          162,
          190,
          146,
          140,
          185,
          161,
          146,
          145,
          160,
          120,
          156,
          172,
          150,
          182,
          143,
          160,
          142,
          144,
          158,
          148,
          155,
          142,
          113,
          188,
          153,
          123,
          157,
          162,
          137,
          132,
          158,
          171,
          172,
          132,
          160,
          171,
          168,
          162,
          173,
          153,
          148,
          108,
          115,
          169,
          143,
          156,
          162,
          155,
          152,
          152,
          164,
          131,
          143,
          179,
          130,
          174,
          161,
          140,
          146,
          144,
          163,
          169,
          150,
          166,
          144,
          144,
          136,
          182,
          90,
          123,
          132,
          141,
          115,
          174,
          173
         ],
         "xaxis": "x",
         "yaxis": "y"
        }
       ],
       "layout": {
        "barmode": "relative",
        "height": 500,
        "legend": {
         "tracegroupgap": 0
        },
        "template": {
         "data": {
          "bar": [
           {
            "error_x": {
             "color": "#2a3f5f"
            },
            "error_y": {
             "color": "#2a3f5f"
            },
            "marker": {
             "line": {
              "color": "#E5ECF6",
              "width": 0.5
             },
             "pattern": {
              "fillmode": "overlay",
              "size": 10,
              "solidity": 0.2
             }
            },
            "type": "bar"
           }
          ],
          "barpolar": [
           {
            "marker": {
             "line": {
              "color": "#E5ECF6",
              "width": 0.5
             },
             "pattern": {
              "fillmode": "overlay",
              "size": 10,
              "solidity": 0.2
             }
            },
            "type": "barpolar"
           }
          ],
          "carpet": [
           {
            "aaxis": {
             "endlinecolor": "#2a3f5f",
             "gridcolor": "white",
             "linecolor": "white",
             "minorgridcolor": "white",
             "startlinecolor": "#2a3f5f"
            },
            "baxis": {
             "endlinecolor": "#2a3f5f",
             "gridcolor": "white",
             "linecolor": "white",
             "minorgridcolor": "white",
             "startlinecolor": "#2a3f5f"
            },
            "type": "carpet"
           }
          ],
          "choropleth": [
           {
            "colorbar": {
             "outlinewidth": 0,
             "ticks": ""
            },
            "type": "choropleth"
           }
          ],
          "contour": [
           {
            "colorbar": {
             "outlinewidth": 0,
             "ticks": ""
            },
            "colorscale": [
             [
              0,
              "#0d0887"
             ],
             [
              0.1111111111111111,
              "#46039f"
             ],
             [
              0.2222222222222222,
              "#7201a8"
             ],
             [
              0.3333333333333333,
              "#9c179e"
             ],
             [
              0.4444444444444444,
              "#bd3786"
             ],
             [
              0.5555555555555556,
              "#d8576b"
             ],
             [
              0.6666666666666666,
              "#ed7953"
             ],
             [
              0.7777777777777778,
              "#fb9f3a"
             ],
             [
              0.8888888888888888,
              "#fdca26"
             ],
             [
              1,
              "#f0f921"
             ]
            ],
            "type": "contour"
           }
          ],
          "contourcarpet": [
           {
            "colorbar": {
             "outlinewidth": 0,
             "ticks": ""
            },
            "type": "contourcarpet"
           }
          ],
          "heatmap": [
           {
            "colorbar": {
             "outlinewidth": 0,
             "ticks": ""
            },
            "colorscale": [
             [
              0,
              "#0d0887"
             ],
             [
              0.1111111111111111,
              "#46039f"
             ],
             [
              0.2222222222222222,
              "#7201a8"
             ],
             [
              0.3333333333333333,
              "#9c179e"
             ],
             [
              0.4444444444444444,
              "#bd3786"
             ],
             [
              0.5555555555555556,
              "#d8576b"
             ],
             [
              0.6666666666666666,
              "#ed7953"
             ],
             [
              0.7777777777777778,
              "#fb9f3a"
             ],
             [
              0.8888888888888888,
              "#fdca26"
             ],
             [
              1,
              "#f0f921"
             ]
            ],
            "type": "heatmap"
           }
          ],
          "heatmapgl": [
           {
            "colorbar": {
             "outlinewidth": 0,
             "ticks": ""
            },
            "colorscale": [
             [
              0,
              "#0d0887"
             ],
             [
              0.1111111111111111,
              "#46039f"
             ],
             [
              0.2222222222222222,
              "#7201a8"
             ],
             [
              0.3333333333333333,
              "#9c179e"
             ],
             [
              0.4444444444444444,
              "#bd3786"
             ],
             [
              0.5555555555555556,
              "#d8576b"
             ],
             [
              0.6666666666666666,
              "#ed7953"
             ],
             [
              0.7777777777777778,
              "#fb9f3a"
             ],
             [
              0.8888888888888888,
              "#fdca26"
             ],
             [
              1,
              "#f0f921"
             ]
            ],
            "type": "heatmapgl"
           }
          ],
          "histogram": [
           {
            "marker": {
             "pattern": {
              "fillmode": "overlay",
              "size": 10,
              "solidity": 0.2
             }
            },
            "type": "histogram"
           }
          ],
          "histogram2d": [
           {
            "colorbar": {
             "outlinewidth": 0,
             "ticks": ""
            },
            "colorscale": [
             [
              0,
              "#0d0887"
             ],
             [
              0.1111111111111111,
              "#46039f"
             ],
             [
              0.2222222222222222,
              "#7201a8"
             ],
             [
              0.3333333333333333,
              "#9c179e"
             ],
             [
              0.4444444444444444,
              "#bd3786"
             ],
             [
              0.5555555555555556,
              "#d8576b"
             ],
             [
              0.6666666666666666,
              "#ed7953"
             ],
             [
              0.7777777777777778,
              "#fb9f3a"
             ],
             [
              0.8888888888888888,
              "#fdca26"
             ],
             [
              1,
              "#f0f921"
             ]
            ],
            "type": "histogram2d"
           }
          ],
          "histogram2dcontour": [
           {
            "colorbar": {
             "outlinewidth": 0,
             "ticks": ""
            },
            "colorscale": [
             [
              0,
              "#0d0887"
             ],
             [
              0.1111111111111111,
              "#46039f"
             ],
             [
              0.2222222222222222,
              "#7201a8"
             ],
             [
              0.3333333333333333,
              "#9c179e"
             ],
             [
              0.4444444444444444,
              "#bd3786"
             ],
             [
              0.5555555555555556,
              "#d8576b"
             ],
             [
              0.6666666666666666,
              "#ed7953"
             ],
             [
              0.7777777777777778,
              "#fb9f3a"
             ],
             [
              0.8888888888888888,
              "#fdca26"
             ],
             [
              1,
              "#f0f921"
             ]
            ],
            "type": "histogram2dcontour"
           }
          ],
          "mesh3d": [
           {
            "colorbar": {
             "outlinewidth": 0,
             "ticks": ""
            },
            "type": "mesh3d"
           }
          ],
          "parcoords": [
           {
            "line": {
             "colorbar": {
              "outlinewidth": 0,
              "ticks": ""
             }
            },
            "type": "parcoords"
           }
          ],
          "pie": [
           {
            "automargin": true,
            "type": "pie"
           }
          ],
          "scatter": [
           {
            "marker": {
             "colorbar": {
              "outlinewidth": 0,
              "ticks": ""
             }
            },
            "type": "scatter"
           }
          ],
          "scatter3d": [
           {
            "line": {
             "colorbar": {
              "outlinewidth": 0,
              "ticks": ""
             }
            },
            "marker": {
             "colorbar": {
              "outlinewidth": 0,
              "ticks": ""
             }
            },
            "type": "scatter3d"
           }
          ],
          "scattercarpet": [
           {
            "marker": {
             "colorbar": {
              "outlinewidth": 0,
              "ticks": ""
             }
            },
            "type": "scattercarpet"
           }
          ],
          "scattergeo": [
           {
            "marker": {
             "colorbar": {
              "outlinewidth": 0,
              "ticks": ""
             }
            },
            "type": "scattergeo"
           }
          ],
          "scattergl": [
           {
            "marker": {
             "colorbar": {
              "outlinewidth": 0,
              "ticks": ""
             }
            },
            "type": "scattergl"
           }
          ],
          "scattermapbox": [
           {
            "marker": {
             "colorbar": {
              "outlinewidth": 0,
              "ticks": ""
             }
            },
            "type": "scattermapbox"
           }
          ],
          "scatterpolar": [
           {
            "marker": {
             "colorbar": {
              "outlinewidth": 0,
              "ticks": ""
             }
            },
            "type": "scatterpolar"
           }
          ],
          "scatterpolargl": [
           {
            "marker": {
             "colorbar": {
              "outlinewidth": 0,
              "ticks": ""
             }
            },
            "type": "scatterpolargl"
           }
          ],
          "scatterternary": [
           {
            "marker": {
             "colorbar": {
              "outlinewidth": 0,
              "ticks": ""
             }
            },
            "type": "scatterternary"
           }
          ],
          "surface": [
           {
            "colorbar": {
             "outlinewidth": 0,
             "ticks": ""
            },
            "colorscale": [
             [
              0,
              "#0d0887"
             ],
             [
              0.1111111111111111,
              "#46039f"
             ],
             [
              0.2222222222222222,
              "#7201a8"
             ],
             [
              0.3333333333333333,
              "#9c179e"
             ],
             [
              0.4444444444444444,
              "#bd3786"
             ],
             [
              0.5555555555555556,
              "#d8576b"
             ],
             [
              0.6666666666666666,
              "#ed7953"
             ],
             [
              0.7777777777777778,
              "#fb9f3a"
             ],
             [
              0.8888888888888888,
              "#fdca26"
             ],
             [
              1,
              "#f0f921"
             ]
            ],
            "type": "surface"
           }
          ],
          "table": [
           {
            "cells": {
             "fill": {
              "color": "#EBF0F8"
             },
             "line": {
              "color": "white"
             }
            },
            "header": {
             "fill": {
              "color": "#C8D4E3"
             },
             "line": {
              "color": "white"
             }
            },
            "type": "table"
           }
          ]
         },
         "layout": {
          "annotationdefaults": {
           "arrowcolor": "#2a3f5f",
           "arrowhead": 0,
           "arrowwidth": 1
          },
          "autotypenumbers": "strict",
          "coloraxis": {
           "colorbar": {
            "outlinewidth": 0,
            "ticks": ""
           }
          },
          "colorscale": {
           "diverging": [
            [
             0,
             "#8e0152"
            ],
            [
             0.1,
             "#c51b7d"
            ],
            [
             0.2,
             "#de77ae"
            ],
            [
             0.3,
             "#f1b6da"
            ],
            [
             0.4,
             "#fde0ef"
            ],
            [
             0.5,
             "#f7f7f7"
            ],
            [
             0.6,
             "#e6f5d0"
            ],
            [
             0.7,
             "#b8e186"
            ],
            [
             0.8,
             "#7fbc41"
            ],
            [
             0.9,
             "#4d9221"
            ],
            [
             1,
             "#276419"
            ]
           ],
           "sequential": [
            [
             0,
             "#0d0887"
            ],
            [
             0.1111111111111111,
             "#46039f"
            ],
            [
             0.2222222222222222,
             "#7201a8"
            ],
            [
             0.3333333333333333,
             "#9c179e"
            ],
            [
             0.4444444444444444,
             "#bd3786"
            ],
            [
             0.5555555555555556,
             "#d8576b"
            ],
            [
             0.6666666666666666,
             "#ed7953"
            ],
            [
             0.7777777777777778,
             "#fb9f3a"
            ],
            [
             0.8888888888888888,
             "#fdca26"
            ],
            [
             1,
             "#f0f921"
            ]
           ],
           "sequentialminus": [
            [
             0,
             "#0d0887"
            ],
            [
             0.1111111111111111,
             "#46039f"
            ],
            [
             0.2222222222222222,
             "#7201a8"
            ],
            [
             0.3333333333333333,
             "#9c179e"
            ],
            [
             0.4444444444444444,
             "#bd3786"
            ],
            [
             0.5555555555555556,
             "#d8576b"
            ],
            [
             0.6666666666666666,
             "#ed7953"
            ],
            [
             0.7777777777777778,
             "#fb9f3a"
            ],
            [
             0.8888888888888888,
             "#fdca26"
            ],
            [
             1,
             "#f0f921"
            ]
           ]
          },
          "colorway": [
           "#636efa",
           "#EF553B",
           "#00cc96",
           "#ab63fa",
           "#FFA15A",
           "#19d3f3",
           "#FF6692",
           "#B6E880",
           "#FF97FF",
           "#FECB52"
          ],
          "font": {
           "color": "#2a3f5f"
          },
          "geo": {
           "bgcolor": "white",
           "lakecolor": "white",
           "landcolor": "#E5ECF6",
           "showlakes": true,
           "showland": true,
           "subunitcolor": "white"
          },
          "hoverlabel": {
           "align": "left"
          },
          "hovermode": "closest",
          "mapbox": {
           "style": "light"
          },
          "paper_bgcolor": "white",
          "plot_bgcolor": "#E5ECF6",
          "polar": {
           "angularaxis": {
            "gridcolor": "white",
            "linecolor": "white",
            "ticks": ""
           },
           "bgcolor": "#E5ECF6",
           "radialaxis": {
            "gridcolor": "white",
            "linecolor": "white",
            "ticks": ""
           }
          },
          "scene": {
           "xaxis": {
            "backgroundcolor": "#E5ECF6",
            "gridcolor": "white",
            "gridwidth": 2,
            "linecolor": "white",
            "showbackground": true,
            "ticks": "",
            "zerolinecolor": "white"
           },
           "yaxis": {
            "backgroundcolor": "#E5ECF6",
            "gridcolor": "white",
            "gridwidth": 2,
            "linecolor": "white",
            "showbackground": true,
            "ticks": "",
            "zerolinecolor": "white"
           },
           "zaxis": {
            "backgroundcolor": "#E5ECF6",
            "gridcolor": "white",
            "gridwidth": 2,
            "linecolor": "white",
            "showbackground": true,
            "ticks": "",
            "zerolinecolor": "white"
           }
          },
          "shapedefaults": {
           "line": {
            "color": "#2a3f5f"
           }
          },
          "ternary": {
           "aaxis": {
            "gridcolor": "white",
            "linecolor": "white",
            "ticks": ""
           },
           "baxis": {
            "gridcolor": "white",
            "linecolor": "white",
            "ticks": ""
           },
           "bgcolor": "#E5ECF6",
           "caxis": {
            "gridcolor": "white",
            "linecolor": "white",
            "ticks": ""
           }
          },
          "title": {
           "x": 0.05
          },
          "xaxis": {
           "automargin": true,
           "gridcolor": "white",
           "linecolor": "white",
           "ticks": "",
           "title": {
            "standoff": 15
           },
           "zerolinecolor": "white",
           "zerolinewidth": 2
          },
          "yaxis": {
           "automargin": true,
           "gridcolor": "white",
           "linecolor": "white",
           "ticks": "",
           "title": {
            "standoff": 15
           },
           "zerolinecolor": "white",
           "zerolinewidth": 2
          }
         }
        },
        "title": {
         "text": "FREQUENCIA CARDÍACA MÁXIMA"
        },
        "width": 800,
        "xaxis": {
         "anchor": "y",
         "domain": [
          0,
          1
         ],
         "title": {
          "text": "MaxHR"
         }
        },
        "yaxis": {
         "anchor": "x",
         "domain": [
          0,
          1
         ],
         "title": {
          "text": "count"
         }
        }
       }
      }
     },
     "metadata": {},
     "output_type": "display_data"
    }
   ],
   "source": [
    "#Consultar o João\n",
    "fig = px.histogram(df, x = 'MaxHR',\n",
    "      labels= df.columns,\n",
    "      nbins= 30,\n",
    "      title= 'Frequencia Cardíaca Máxima'.upper())\n",
    "\n",
    "fig.update_layout(width = 800, \n",
    "      height = 500 )\n",
    "\n",
    "fig.show()"
   ]
  },
  {
   "cell_type": "markdown",
   "metadata": {},
   "source": [
    "### **ExerciseAngina - Angina induzida por exercício**"
   ]
  },
  {
   "cell_type": "code",
   "execution_count": 196,
   "metadata": {},
   "outputs": [
    {
     "data": {
      "text/plain": [
       "N    547\n",
       "Y    371\n",
       "Name: ExerciseAngina, dtype: int64"
      ]
     },
     "execution_count": 196,
     "metadata": {},
     "output_type": "execute_result"
    }
   ],
   "source": [
    "df['ExerciseAngina'].value_counts()"
   ]
  },
  {
   "cell_type": "code",
   "execution_count": 197,
   "metadata": {},
   "outputs": [
    {
     "name": "stdout",
     "output_type": "stream",
     "text": [
      "Angina induzida por repouso\n",
      "===========================\n",
      "N    60.0\n",
      "Y    40.0\n",
      "Name: ExerciseAngina, dtype: float64\n",
      "===========================\n"
     ]
    }
   ],
   "source": [
    "#Verificando percentual de Angina induzida por repouso\n",
    "mensagem = 'Angina induzida por repouso'\n",
    "print(mensagem)\n",
    "print('=' * len(mensagem))\n",
    "\n",
    "print(round(df['ExerciseAngina'].value_counts() / df.shape[0] * 100))\n",
    "print('=' * len(mensagem))"
   ]
  },
  {
   "cell_type": "code",
   "execution_count": 198,
   "metadata": {},
   "outputs": [
    {
     "data": {
      "application/vnd.plotly.v1+json": {
       "config": {
        "plotlyServerURL": "https://plot.ly"
       },
       "data": [
        {
         "alignmentgroup": "True",
         "bingroup": "x",
         "hovertemplate": "ExerciseAngina=%{x}<br>count=%{y}<extra></extra>",
         "legendgroup": "N",
         "marker": {
          "color": "#636efa",
          "pattern": {
           "shape": ""
          }
         },
         "name": "N",
         "offsetgroup": "N",
         "orientation": "v",
         "showlegend": true,
         "type": "histogram",
         "x": [
          "N",
          "N",
          "N",
          "N",
          "N",
          "N",
          "N",
          "N",
          "N",
          "N",
          "N",
          "N",
          "N",
          "N",
          "N",
          "N",
          "N",
          "N",
          "N",
          "N",
          "N",
          "N",
          "N",
          "N",
          "N",
          "N",
          "N",
          "N",
          "N",
          "N",
          "N",
          "N",
          "N",
          "N",
          "N",
          "N",
          "N",
          "N",
          "N",
          "N",
          "N",
          "N",
          "N",
          "N",
          "N",
          "N",
          "N",
          "N",
          "N",
          "N",
          "N",
          "N",
          "N",
          "N",
          "N",
          "N",
          "N",
          "N",
          "N",
          "N",
          "N",
          "N",
          "N",
          "N",
          "N",
          "N",
          "N",
          "N",
          "N",
          "N",
          "N",
          "N",
          "N",
          "N",
          "N",
          "N",
          "N",
          "N",
          "N",
          "N",
          "N",
          "N",
          "N",
          "N",
          "N",
          "N",
          "N",
          "N",
          "N",
          "N",
          "N",
          "N",
          "N",
          "N",
          "N",
          "N",
          "N",
          "N",
          "N",
          "N",
          "N",
          "N",
          "N",
          "N",
          "N",
          "N",
          "N",
          "N",
          "N",
          "N",
          "N",
          "N",
          "N",
          "N",
          "N",
          "N",
          "N",
          "N",
          "N",
          "N",
          "N",
          "N",
          "N",
          "N",
          "N",
          "N",
          "N",
          "N",
          "N",
          "N",
          "N",
          "N",
          "N",
          "N",
          "N",
          "N",
          "N",
          "N",
          "N",
          "N",
          "N",
          "N",
          "N",
          "N",
          "N",
          "N",
          "N",
          "N",
          "N",
          "N",
          "N",
          "N",
          "N",
          "N",
          "N",
          "N",
          "N",
          "N",
          "N",
          "N",
          "N",
          "N",
          "N",
          "N",
          "N",
          "N",
          "N",
          "N",
          "N",
          "N",
          "N",
          "N",
          "N",
          "N",
          "N",
          "N",
          "N",
          "N",
          "N",
          "N",
          "N",
          "N",
          "N",
          "N",
          "N",
          "N",
          "N",
          "N",
          "N",
          "N",
          "N",
          "N",
          "N",
          "N",
          "N",
          "N",
          "N",
          "N",
          "N",
          "N",
          "N",
          "N",
          "N",
          "N",
          "N",
          "N",
          "N",
          "N",
          "N",
          "N",
          "N",
          "N",
          "N",
          "N",
          "N",
          "N",
          "N",
          "N",
          "N",
          "N",
          "N",
          "N",
          "N",
          "N",
          "N",
          "N",
          "N",
          "N",
          "N",
          "N",
          "N",
          "N",
          "N",
          "N",
          "N",
          "N",
          "N",
          "N",
          "N",
          "N",
          "N",
          "N",
          "N",
          "N",
          "N",
          "N",
          "N",
          "N",
          "N",
          "N",
          "N",
          "N",
          "N",
          "N",
          "N",
          "N",
          "N",
          "N",
          "N",
          "N",
          "N",
          "N",
          "N",
          "N",
          "N",
          "N",
          "N",
          "N",
          "N",
          "N",
          "N",
          "N",
          "N",
          "N",
          "N",
          "N",
          "N",
          "N",
          "N",
          "N",
          "N",
          "N",
          "N",
          "N",
          "N",
          "N",
          "N",
          "N",
          "N",
          "N",
          "N",
          "N",
          "N",
          "N",
          "N",
          "N",
          "N",
          "N",
          "N",
          "N",
          "N",
          "N",
          "N",
          "N",
          "N",
          "N",
          "N",
          "N",
          "N",
          "N",
          "N",
          "N",
          "N",
          "N",
          "N",
          "N",
          "N",
          "N",
          "N",
          "N",
          "N",
          "N",
          "N",
          "N",
          "N",
          "N",
          "N",
          "N",
          "N",
          "N",
          "N",
          "N",
          "N",
          "N",
          "N",
          "N",
          "N",
          "N",
          "N",
          "N",
          "N",
          "N",
          "N",
          "N",
          "N",
          "N",
          "N",
          "N",
          "N",
          "N",
          "N",
          "N",
          "N",
          "N",
          "N",
          "N",
          "N",
          "N",
          "N",
          "N",
          "N",
          "N",
          "N",
          "N",
          "N",
          "N",
          "N",
          "N",
          "N",
          "N",
          "N",
          "N",
          "N",
          "N",
          "N",
          "N",
          "N",
          "N",
          "N",
          "N",
          "N",
          "N",
          "N",
          "N",
          "N",
          "N",
          "N",
          "N",
          "N",
          "N",
          "N",
          "N",
          "N",
          "N",
          "N",
          "N",
          "N",
          "N",
          "N",
          "N",
          "N",
          "N",
          "N",
          "N",
          "N",
          "N",
          "N",
          "N",
          "N",
          "N",
          "N",
          "N",
          "N",
          "N",
          "N",
          "N",
          "N",
          "N",
          "N",
          "N",
          "N",
          "N",
          "N",
          "N",
          "N",
          "N",
          "N",
          "N",
          "N",
          "N",
          "N",
          "N",
          "N",
          "N",
          "N",
          "N",
          "N",
          "N",
          "N",
          "N",
          "N",
          "N",
          "N",
          "N",
          "N",
          "N",
          "N",
          "N",
          "N",
          "N",
          "N",
          "N",
          "N",
          "N",
          "N",
          "N",
          "N",
          "N",
          "N",
          "N",
          "N",
          "N",
          "N",
          "N",
          "N",
          "N",
          "N",
          "N",
          "N",
          "N",
          "N",
          "N",
          "N",
          "N",
          "N",
          "N",
          "N",
          "N",
          "N",
          "N",
          "N",
          "N",
          "N",
          "N",
          "N",
          "N",
          "N",
          "N",
          "N",
          "N",
          "N",
          "N",
          "N",
          "N",
          "N",
          "N",
          "N",
          "N",
          "N",
          "N",
          "N",
          "N",
          "N",
          "N",
          "N",
          "N",
          "N",
          "N",
          "N",
          "N",
          "N",
          "N",
          "N",
          "N",
          "N",
          "N",
          "N",
          "N",
          "N",
          "N",
          "N",
          "N",
          "N",
          "N",
          "N",
          "N",
          "N",
          "N",
          "N",
          "N",
          "N",
          "N",
          "N",
          "N",
          "N",
          "N",
          "N",
          "N",
          "N",
          "N",
          "N",
          "N",
          "N",
          "N",
          "N",
          "N",
          "N"
         ],
         "xaxis": "x",
         "yaxis": "y"
        },
        {
         "alignmentgroup": "True",
         "bingroup": "x",
         "hovertemplate": "ExerciseAngina=%{x}<br>count=%{y}<extra></extra>",
         "legendgroup": "Y",
         "marker": {
          "color": "#EF553B",
          "pattern": {
           "shape": ""
          }
         },
         "name": "Y",
         "offsetgroup": "Y",
         "orientation": "v",
         "showlegend": true,
         "type": "histogram",
         "x": [
          "Y",
          "Y",
          "Y",
          "Y",
          "Y",
          "Y",
          "Y",
          "Y",
          "Y",
          "Y",
          "Y",
          "Y",
          "Y",
          "Y",
          "Y",
          "Y",
          "Y",
          "Y",
          "Y",
          "Y",
          "Y",
          "Y",
          "Y",
          "Y",
          "Y",
          "Y",
          "Y",
          "Y",
          "Y",
          "Y",
          "Y",
          "Y",
          "Y",
          "Y",
          "Y",
          "Y",
          "Y",
          "Y",
          "Y",
          "Y",
          "Y",
          "Y",
          "Y",
          "Y",
          "Y",
          "Y",
          "Y",
          "Y",
          "Y",
          "Y",
          "Y",
          "Y",
          "Y",
          "Y",
          "Y",
          "Y",
          "Y",
          "Y",
          "Y",
          "Y",
          "Y",
          "Y",
          "Y",
          "Y",
          "Y",
          "Y",
          "Y",
          "Y",
          "Y",
          "Y",
          "Y",
          "Y",
          "Y",
          "Y",
          "Y",
          "Y",
          "Y",
          "Y",
          "Y",
          "Y",
          "Y",
          "Y",
          "Y",
          "Y",
          "Y",
          "Y",
          "Y",
          "Y",
          "Y",
          "Y",
          "Y",
          "Y",
          "Y",
          "Y",
          "Y",
          "Y",
          "Y",
          "Y",
          "Y",
          "Y",
          "Y",
          "Y",
          "Y",
          "Y",
          "Y",
          "Y",
          "Y",
          "Y",
          "Y",
          "Y",
          "Y",
          "Y",
          "Y",
          "Y",
          "Y",
          "Y",
          "Y",
          "Y",
          "Y",
          "Y",
          "Y",
          "Y",
          "Y",
          "Y",
          "Y",
          "Y",
          "Y",
          "Y",
          "Y",
          "Y",
          "Y",
          "Y",
          "Y",
          "Y",
          "Y",
          "Y",
          "Y",
          "Y",
          "Y",
          "Y",
          "Y",
          "Y",
          "Y",
          "Y",
          "Y",
          "Y",
          "Y",
          "Y",
          "Y",
          "Y",
          "Y",
          "Y",
          "Y",
          "Y",
          "Y",
          "Y",
          "Y",
          "Y",
          "Y",
          "Y",
          "Y",
          "Y",
          "Y",
          "Y",
          "Y",
          "Y",
          "Y",
          "Y",
          "Y",
          "Y",
          "Y",
          "Y",
          "Y",
          "Y",
          "Y",
          "Y",
          "Y",
          "Y",
          "Y",
          "Y",
          "Y",
          "Y",
          "Y",
          "Y",
          "Y",
          "Y",
          "Y",
          "Y",
          "Y",
          "Y",
          "Y",
          "Y",
          "Y",
          "Y",
          "Y",
          "Y",
          "Y",
          "Y",
          "Y",
          "Y",
          "Y",
          "Y",
          "Y",
          "Y",
          "Y",
          "Y",
          "Y",
          "Y",
          "Y",
          "Y",
          "Y",
          "Y",
          "Y",
          "Y",
          "Y",
          "Y",
          "Y",
          "Y",
          "Y",
          "Y",
          "Y",
          "Y",
          "Y",
          "Y",
          "Y",
          "Y",
          "Y",
          "Y",
          "Y",
          "Y",
          "Y",
          "Y",
          "Y",
          "Y",
          "Y",
          "Y",
          "Y",
          "Y",
          "Y",
          "Y",
          "Y",
          "Y",
          "Y",
          "Y",
          "Y",
          "Y",
          "Y",
          "Y",
          "Y",
          "Y",
          "Y",
          "Y",
          "Y",
          "Y",
          "Y",
          "Y",
          "Y",
          "Y",
          "Y",
          "Y",
          "Y",
          "Y",
          "Y",
          "Y",
          "Y",
          "Y",
          "Y",
          "Y",
          "Y",
          "Y",
          "Y",
          "Y",
          "Y",
          "Y",
          "Y",
          "Y",
          "Y",
          "Y",
          "Y",
          "Y",
          "Y",
          "Y",
          "Y",
          "Y",
          "Y",
          "Y",
          "Y",
          "Y",
          "Y",
          "Y",
          "Y",
          "Y",
          "Y",
          "Y",
          "Y",
          "Y",
          "Y",
          "Y",
          "Y",
          "Y",
          "Y",
          "Y",
          "Y",
          "Y",
          "Y",
          "Y",
          "Y",
          "Y",
          "Y",
          "Y",
          "Y",
          "Y",
          "Y",
          "Y",
          "Y",
          "Y",
          "Y",
          "Y",
          "Y",
          "Y",
          "Y",
          "Y",
          "Y",
          "Y",
          "Y",
          "Y",
          "Y",
          "Y",
          "Y",
          "Y",
          "Y",
          "Y",
          "Y",
          "Y",
          "Y",
          "Y",
          "Y",
          "Y",
          "Y",
          "Y",
          "Y",
          "Y",
          "Y",
          "Y",
          "Y",
          "Y",
          "Y",
          "Y",
          "Y",
          "Y",
          "Y",
          "Y",
          "Y",
          "Y",
          "Y",
          "Y",
          "Y",
          "Y",
          "Y",
          "Y",
          "Y",
          "Y",
          "Y",
          "Y",
          "Y",
          "Y",
          "Y",
          "Y",
          "Y",
          "Y",
          "Y"
         ],
         "xaxis": "x",
         "yaxis": "y"
        }
       ],
       "layout": {
        "barmode": "relative",
        "height": 500,
        "legend": {
         "title": {
          "text": "ExerciseAngina"
         },
         "tracegroupgap": 0
        },
        "template": {
         "data": {
          "bar": [
           {
            "error_x": {
             "color": "#2a3f5f"
            },
            "error_y": {
             "color": "#2a3f5f"
            },
            "marker": {
             "line": {
              "color": "#E5ECF6",
              "width": 0.5
             },
             "pattern": {
              "fillmode": "overlay",
              "size": 10,
              "solidity": 0.2
             }
            },
            "type": "bar"
           }
          ],
          "barpolar": [
           {
            "marker": {
             "line": {
              "color": "#E5ECF6",
              "width": 0.5
             },
             "pattern": {
              "fillmode": "overlay",
              "size": 10,
              "solidity": 0.2
             }
            },
            "type": "barpolar"
           }
          ],
          "carpet": [
           {
            "aaxis": {
             "endlinecolor": "#2a3f5f",
             "gridcolor": "white",
             "linecolor": "white",
             "minorgridcolor": "white",
             "startlinecolor": "#2a3f5f"
            },
            "baxis": {
             "endlinecolor": "#2a3f5f",
             "gridcolor": "white",
             "linecolor": "white",
             "minorgridcolor": "white",
             "startlinecolor": "#2a3f5f"
            },
            "type": "carpet"
           }
          ],
          "choropleth": [
           {
            "colorbar": {
             "outlinewidth": 0,
             "ticks": ""
            },
            "type": "choropleth"
           }
          ],
          "contour": [
           {
            "colorbar": {
             "outlinewidth": 0,
             "ticks": ""
            },
            "colorscale": [
             [
              0,
              "#0d0887"
             ],
             [
              0.1111111111111111,
              "#46039f"
             ],
             [
              0.2222222222222222,
              "#7201a8"
             ],
             [
              0.3333333333333333,
              "#9c179e"
             ],
             [
              0.4444444444444444,
              "#bd3786"
             ],
             [
              0.5555555555555556,
              "#d8576b"
             ],
             [
              0.6666666666666666,
              "#ed7953"
             ],
             [
              0.7777777777777778,
              "#fb9f3a"
             ],
             [
              0.8888888888888888,
              "#fdca26"
             ],
             [
              1,
              "#f0f921"
             ]
            ],
            "type": "contour"
           }
          ],
          "contourcarpet": [
           {
            "colorbar": {
             "outlinewidth": 0,
             "ticks": ""
            },
            "type": "contourcarpet"
           }
          ],
          "heatmap": [
           {
            "colorbar": {
             "outlinewidth": 0,
             "ticks": ""
            },
            "colorscale": [
             [
              0,
              "#0d0887"
             ],
             [
              0.1111111111111111,
              "#46039f"
             ],
             [
              0.2222222222222222,
              "#7201a8"
             ],
             [
              0.3333333333333333,
              "#9c179e"
             ],
             [
              0.4444444444444444,
              "#bd3786"
             ],
             [
              0.5555555555555556,
              "#d8576b"
             ],
             [
              0.6666666666666666,
              "#ed7953"
             ],
             [
              0.7777777777777778,
              "#fb9f3a"
             ],
             [
              0.8888888888888888,
              "#fdca26"
             ],
             [
              1,
              "#f0f921"
             ]
            ],
            "type": "heatmap"
           }
          ],
          "heatmapgl": [
           {
            "colorbar": {
             "outlinewidth": 0,
             "ticks": ""
            },
            "colorscale": [
             [
              0,
              "#0d0887"
             ],
             [
              0.1111111111111111,
              "#46039f"
             ],
             [
              0.2222222222222222,
              "#7201a8"
             ],
             [
              0.3333333333333333,
              "#9c179e"
             ],
             [
              0.4444444444444444,
              "#bd3786"
             ],
             [
              0.5555555555555556,
              "#d8576b"
             ],
             [
              0.6666666666666666,
              "#ed7953"
             ],
             [
              0.7777777777777778,
              "#fb9f3a"
             ],
             [
              0.8888888888888888,
              "#fdca26"
             ],
             [
              1,
              "#f0f921"
             ]
            ],
            "type": "heatmapgl"
           }
          ],
          "histogram": [
           {
            "marker": {
             "pattern": {
              "fillmode": "overlay",
              "size": 10,
              "solidity": 0.2
             }
            },
            "type": "histogram"
           }
          ],
          "histogram2d": [
           {
            "colorbar": {
             "outlinewidth": 0,
             "ticks": ""
            },
            "colorscale": [
             [
              0,
              "#0d0887"
             ],
             [
              0.1111111111111111,
              "#46039f"
             ],
             [
              0.2222222222222222,
              "#7201a8"
             ],
             [
              0.3333333333333333,
              "#9c179e"
             ],
             [
              0.4444444444444444,
              "#bd3786"
             ],
             [
              0.5555555555555556,
              "#d8576b"
             ],
             [
              0.6666666666666666,
              "#ed7953"
             ],
             [
              0.7777777777777778,
              "#fb9f3a"
             ],
             [
              0.8888888888888888,
              "#fdca26"
             ],
             [
              1,
              "#f0f921"
             ]
            ],
            "type": "histogram2d"
           }
          ],
          "histogram2dcontour": [
           {
            "colorbar": {
             "outlinewidth": 0,
             "ticks": ""
            },
            "colorscale": [
             [
              0,
              "#0d0887"
             ],
             [
              0.1111111111111111,
              "#46039f"
             ],
             [
              0.2222222222222222,
              "#7201a8"
             ],
             [
              0.3333333333333333,
              "#9c179e"
             ],
             [
              0.4444444444444444,
              "#bd3786"
             ],
             [
              0.5555555555555556,
              "#d8576b"
             ],
             [
              0.6666666666666666,
              "#ed7953"
             ],
             [
              0.7777777777777778,
              "#fb9f3a"
             ],
             [
              0.8888888888888888,
              "#fdca26"
             ],
             [
              1,
              "#f0f921"
             ]
            ],
            "type": "histogram2dcontour"
           }
          ],
          "mesh3d": [
           {
            "colorbar": {
             "outlinewidth": 0,
             "ticks": ""
            },
            "type": "mesh3d"
           }
          ],
          "parcoords": [
           {
            "line": {
             "colorbar": {
              "outlinewidth": 0,
              "ticks": ""
             }
            },
            "type": "parcoords"
           }
          ],
          "pie": [
           {
            "automargin": true,
            "type": "pie"
           }
          ],
          "scatter": [
           {
            "marker": {
             "colorbar": {
              "outlinewidth": 0,
              "ticks": ""
             }
            },
            "type": "scatter"
           }
          ],
          "scatter3d": [
           {
            "line": {
             "colorbar": {
              "outlinewidth": 0,
              "ticks": ""
             }
            },
            "marker": {
             "colorbar": {
              "outlinewidth": 0,
              "ticks": ""
             }
            },
            "type": "scatter3d"
           }
          ],
          "scattercarpet": [
           {
            "marker": {
             "colorbar": {
              "outlinewidth": 0,
              "ticks": ""
             }
            },
            "type": "scattercarpet"
           }
          ],
          "scattergeo": [
           {
            "marker": {
             "colorbar": {
              "outlinewidth": 0,
              "ticks": ""
             }
            },
            "type": "scattergeo"
           }
          ],
          "scattergl": [
           {
            "marker": {
             "colorbar": {
              "outlinewidth": 0,
              "ticks": ""
             }
            },
            "type": "scattergl"
           }
          ],
          "scattermapbox": [
           {
            "marker": {
             "colorbar": {
              "outlinewidth": 0,
              "ticks": ""
             }
            },
            "type": "scattermapbox"
           }
          ],
          "scatterpolar": [
           {
            "marker": {
             "colorbar": {
              "outlinewidth": 0,
              "ticks": ""
             }
            },
            "type": "scatterpolar"
           }
          ],
          "scatterpolargl": [
           {
            "marker": {
             "colorbar": {
              "outlinewidth": 0,
              "ticks": ""
             }
            },
            "type": "scatterpolargl"
           }
          ],
          "scatterternary": [
           {
            "marker": {
             "colorbar": {
              "outlinewidth": 0,
              "ticks": ""
             }
            },
            "type": "scatterternary"
           }
          ],
          "surface": [
           {
            "colorbar": {
             "outlinewidth": 0,
             "ticks": ""
            },
            "colorscale": [
             [
              0,
              "#0d0887"
             ],
             [
              0.1111111111111111,
              "#46039f"
             ],
             [
              0.2222222222222222,
              "#7201a8"
             ],
             [
              0.3333333333333333,
              "#9c179e"
             ],
             [
              0.4444444444444444,
              "#bd3786"
             ],
             [
              0.5555555555555556,
              "#d8576b"
             ],
             [
              0.6666666666666666,
              "#ed7953"
             ],
             [
              0.7777777777777778,
              "#fb9f3a"
             ],
             [
              0.8888888888888888,
              "#fdca26"
             ],
             [
              1,
              "#f0f921"
             ]
            ],
            "type": "surface"
           }
          ],
          "table": [
           {
            "cells": {
             "fill": {
              "color": "#EBF0F8"
             },
             "line": {
              "color": "white"
             }
            },
            "header": {
             "fill": {
              "color": "#C8D4E3"
             },
             "line": {
              "color": "white"
             }
            },
            "type": "table"
           }
          ]
         },
         "layout": {
          "annotationdefaults": {
           "arrowcolor": "#2a3f5f",
           "arrowhead": 0,
           "arrowwidth": 1
          },
          "autotypenumbers": "strict",
          "coloraxis": {
           "colorbar": {
            "outlinewidth": 0,
            "ticks": ""
           }
          },
          "colorscale": {
           "diverging": [
            [
             0,
             "#8e0152"
            ],
            [
             0.1,
             "#c51b7d"
            ],
            [
             0.2,
             "#de77ae"
            ],
            [
             0.3,
             "#f1b6da"
            ],
            [
             0.4,
             "#fde0ef"
            ],
            [
             0.5,
             "#f7f7f7"
            ],
            [
             0.6,
             "#e6f5d0"
            ],
            [
             0.7,
             "#b8e186"
            ],
            [
             0.8,
             "#7fbc41"
            ],
            [
             0.9,
             "#4d9221"
            ],
            [
             1,
             "#276419"
            ]
           ],
           "sequential": [
            [
             0,
             "#0d0887"
            ],
            [
             0.1111111111111111,
             "#46039f"
            ],
            [
             0.2222222222222222,
             "#7201a8"
            ],
            [
             0.3333333333333333,
             "#9c179e"
            ],
            [
             0.4444444444444444,
             "#bd3786"
            ],
            [
             0.5555555555555556,
             "#d8576b"
            ],
            [
             0.6666666666666666,
             "#ed7953"
            ],
            [
             0.7777777777777778,
             "#fb9f3a"
            ],
            [
             0.8888888888888888,
             "#fdca26"
            ],
            [
             1,
             "#f0f921"
            ]
           ],
           "sequentialminus": [
            [
             0,
             "#0d0887"
            ],
            [
             0.1111111111111111,
             "#46039f"
            ],
            [
             0.2222222222222222,
             "#7201a8"
            ],
            [
             0.3333333333333333,
             "#9c179e"
            ],
            [
             0.4444444444444444,
             "#bd3786"
            ],
            [
             0.5555555555555556,
             "#d8576b"
            ],
            [
             0.6666666666666666,
             "#ed7953"
            ],
            [
             0.7777777777777778,
             "#fb9f3a"
            ],
            [
             0.8888888888888888,
             "#fdca26"
            ],
            [
             1,
             "#f0f921"
            ]
           ]
          },
          "colorway": [
           "#636efa",
           "#EF553B",
           "#00cc96",
           "#ab63fa",
           "#FFA15A",
           "#19d3f3",
           "#FF6692",
           "#B6E880",
           "#FF97FF",
           "#FECB52"
          ],
          "font": {
           "color": "#2a3f5f"
          },
          "geo": {
           "bgcolor": "white",
           "lakecolor": "white",
           "landcolor": "#E5ECF6",
           "showlakes": true,
           "showland": true,
           "subunitcolor": "white"
          },
          "hoverlabel": {
           "align": "left"
          },
          "hovermode": "closest",
          "mapbox": {
           "style": "light"
          },
          "paper_bgcolor": "white",
          "plot_bgcolor": "#E5ECF6",
          "polar": {
           "angularaxis": {
            "gridcolor": "white",
            "linecolor": "white",
            "ticks": ""
           },
           "bgcolor": "#E5ECF6",
           "radialaxis": {
            "gridcolor": "white",
            "linecolor": "white",
            "ticks": ""
           }
          },
          "scene": {
           "xaxis": {
            "backgroundcolor": "#E5ECF6",
            "gridcolor": "white",
            "gridwidth": 2,
            "linecolor": "white",
            "showbackground": true,
            "ticks": "",
            "zerolinecolor": "white"
           },
           "yaxis": {
            "backgroundcolor": "#E5ECF6",
            "gridcolor": "white",
            "gridwidth": 2,
            "linecolor": "white",
            "showbackground": true,
            "ticks": "",
            "zerolinecolor": "white"
           },
           "zaxis": {
            "backgroundcolor": "#E5ECF6",
            "gridcolor": "white",
            "gridwidth": 2,
            "linecolor": "white",
            "showbackground": true,
            "ticks": "",
            "zerolinecolor": "white"
           }
          },
          "shapedefaults": {
           "line": {
            "color": "#2a3f5f"
           }
          },
          "ternary": {
           "aaxis": {
            "gridcolor": "white",
            "linecolor": "white",
            "ticks": ""
           },
           "baxis": {
            "gridcolor": "white",
            "linecolor": "white",
            "ticks": ""
           },
           "bgcolor": "#E5ECF6",
           "caxis": {
            "gridcolor": "white",
            "linecolor": "white",
            "ticks": ""
           }
          },
          "title": {
           "x": 0.05
          },
          "xaxis": {
           "automargin": true,
           "gridcolor": "white",
           "linecolor": "white",
           "ticks": "",
           "title": {
            "standoff": 15
           },
           "zerolinecolor": "white",
           "zerolinewidth": 2
          },
          "yaxis": {
           "automargin": true,
           "gridcolor": "white",
           "linecolor": "white",
           "ticks": "",
           "title": {
            "standoff": 15
           },
           "zerolinecolor": "white",
           "zerolinewidth": 2
          }
         }
        },
        "title": {
         "text": "Agina induzida por exercício"
        },
        "width": 800,
        "xaxis": {
         "anchor": "y",
         "categoryarray": [
          "N",
          "Y"
         ],
         "categoryorder": "array",
         "domain": [
          0,
          1
         ],
         "title": {
          "text": "ExerciseAngina"
         }
        },
        "yaxis": {
         "anchor": "x",
         "domain": [
          0,
          1
         ],
         "title": {
          "text": "count"
         }
        }
       }
      }
     },
     "metadata": {},
     "output_type": "display_data"
    }
   ],
   "source": [
    "fig = px.histogram(df, x = 'ExerciseAngina',\n",
    "      labels= df.columns,\n",
    "      color = 'ExerciseAngina',\n",
    "      title = 'Agina induzida por exercício')\n",
    "\n",
    "fig.update_layout(width = 800, \n",
    "      height = 500 )\n",
    "\n",
    "fig.show()"
   ]
  },
  {
   "cell_type": "markdown",
   "metadata": {},
   "source": [
    "### **Old Peak = Depressão de ST (referência no ECG) induzida por exercício em relação ao repouso**"
   ]
  },
  {
   "cell_type": "code",
   "execution_count": 199,
   "metadata": {},
   "outputs": [
    {
     "data": {
      "application/vnd.plotly.v1+json": {
       "config": {
        "plotlyServerURL": "https://plot.ly"
       },
       "data": [
        {
         "alignmentgroup": "True",
         "bingroup": "x",
         "hovertemplate": "Oldpeak=%{x}<br>count=%{y}<extra></extra>",
         "legendgroup": "",
         "marker": {
          "color": "#636efa",
          "pattern": {
           "shape": ""
          }
         },
         "name": "",
         "offsetgroup": "",
         "orientation": "v",
         "showlegend": false,
         "type": "histogram",
         "x": [
          0,
          1,
          0,
          1.5,
          0,
          0,
          0,
          0,
          1.5,
          0,
          0,
          2,
          0,
          1,
          0,
          1.5,
          0,
          0,
          1,
          3,
          0,
          1,
          0,
          3,
          0,
          0,
          3,
          0,
          0,
          0,
          0,
          0,
          2,
          2,
          0,
          0,
          1.5,
          0,
          0,
          1,
          0,
          0,
          0,
          0,
          1,
          1,
          0,
          0,
          1,
          0,
          2,
          2,
          0,
          0,
          1.5,
          0,
          1.5,
          0,
          1,
          1,
          0,
          0,
          0,
          1,
          0,
          0,
          0,
          0,
          4,
          0,
          1,
          0,
          0,
          0,
          1.5,
          0,
          0,
          0,
          0,
          0,
          0,
          0,
          0,
          0,
          1,
          1,
          2,
          2,
          0,
          0.5,
          0,
          0,
          0,
          1.5,
          0,
          2,
          0,
          0,
          0,
          0,
          1,
          0,
          2,
          1,
          0,
          0,
          0,
          0,
          0,
          0,
          1,
          3,
          0,
          0,
          0,
          1,
          0,
          1.5,
          0,
          0,
          0,
          0,
          0,
          1,
          0,
          0,
          0,
          2,
          0,
          1.5,
          0,
          0,
          2,
          1.5,
          1,
          0,
          0,
          2,
          0,
          2,
          2.5,
          2.5,
          3,
          0,
          1,
          0,
          0,
          0,
          0,
          1,
          0,
          0,
          0,
          0,
          0,
          3,
          1,
          0,
          2,
          1,
          0,
          0,
          0,
          0,
          0,
          2,
          5,
          0,
          0,
          0,
          0,
          0,
          0,
          0,
          2,
          2,
          1.5,
          0,
          0,
          0,
          2,
          0,
          2,
          1,
          0,
          0,
          0,
          1,
          1,
          1.5,
          0,
          0,
          0,
          0,
          0,
          0,
          1,
          0,
          0,
          1,
          0,
          0,
          0,
          0,
          0,
          0,
          0,
          0,
          0,
          0,
          0,
          0,
          1,
          0,
          1.5,
          0,
          0,
          0,
          0,
          0,
          0,
          1,
          0,
          0,
          0,
          0,
          0,
          2.5,
          0,
          0,
          0,
          0,
          0,
          0,
          0,
          1,
          3,
          0,
          2,
          3,
          0,
          2,
          2,
          0,
          1,
          2,
          1.5,
          2,
          1,
          1,
          0,
          2,
          0,
          1,
          2,
          0,
          0,
          0,
          0.5,
          0,
          0,
          1,
          0,
          0,
          1,
          0,
          1,
          0,
          1,
          2,
          0,
          0,
          3,
          0,
          0,
          0,
          2,
          1.5,
          0.8,
          0,
          0,
          2,
          2,
          0,
          0,
          0,
          0,
          0,
          2,
          0,
          0,
          1,
          0,
          0,
          0.7,
          1.5,
          0.7,
          1.4,
          0,
          2.1,
          0.4,
          0.2,
          1.5,
          1.7,
          2.2,
          1.5,
          0.1,
          0.7,
          0.5,
          0.7,
          1,
          0.1,
          1.6,
          0.2,
          2,
          1.3,
          0.3,
          1.8,
          2.5,
          1.8,
          2.6,
          -0.9,
          2.8,
          2.5,
          -2.6,
          -1.5,
          -0.1,
          0.9,
          0.8,
          1.1,
          2.4,
          -1,
          -1.1,
          0,
          -0.7,
          -0.8,
          1.6,
          3.7,
          2,
          1.1,
          1.5,
          1.3,
          1.4,
          0,
          0,
          0,
          0,
          0,
          1.6,
          1,
          0,
          0.5,
          -1,
          1,
          0.3,
          0,
          1.5,
          0,
          0,
          0,
          0,
          0,
          0,
          0,
          0,
          1,
          2,
          0,
          2,
          2,
          0.5,
          2,
          0,
          1,
          0,
          0,
          1,
          1.2,
          2,
          0,
          0.5,
          0.5,
          2,
          0,
          0,
          0,
          0,
          1,
          0,
          1,
          0,
          0,
          0,
          0.7,
          2,
          0,
          0,
          0,
          1,
          0,
          0,
          0,
          0.7,
          2,
          0,
          1.2,
          0,
          -0.5,
          0,
          0,
          2,
          1.5,
          1,
          -2,
          3,
          0,
          3,
          0,
          1.5,
          2.5,
          1.3,
          -0.5,
          0,
          1.5,
          2,
          0.5,
          0,
          1,
          0.5,
          1,
          1,
          0,
          2.5,
          2,
          1.5,
          0,
          1,
          2,
          0,
          0.2,
          3,
          1,
          1.2,
          0.5,
          1.5,
          1.6,
          1.4,
          2,
          1,
          1.5,
          2,
          1,
          1.5,
          2,
          1.2,
          1.5,
          0,
          0,
          1.5,
          0,
          1.9,
          0,
          1.3,
          0,
          2,
          0,
          2.5,
          0.1,
          1.6,
          2,
          0,
          3,
          1.5,
          1.7,
          0.1,
          0,
          0.1,
          2,
          2,
          2.5,
          2,
          2.5,
          2.5,
          1.5,
          1.1,
          1.2,
          0.4,
          2,
          0.3,
          3,
          1,
          0,
          3,
          1.7,
          2.5,
          1,
          1,
          3,
          0,
          1,
          4,
          2,
          2,
          0.2,
          3,
          1.2,
          3,
          0,
          1.5,
          0,
          0.3,
          2,
          -0.1,
          1.3,
          0.5,
          3,
          0,
          1.5,
          1,
          1,
          0.5,
          4,
          1,
          1,
          0,
          0.1,
          1.7,
          0.3,
          1.5,
          1.4,
          1.1,
          1.8,
          0,
          2,
          2.5,
          1,
          1.2,
          4,
          2,
          0,
          1.2,
          3.5,
          1.5,
          3,
          0,
          0.2,
          0,
          1.5,
          1.5,
          0.2,
          2,
          0,
          1.8,
          1.8,
          0.3,
          0,
          2,
          1.8,
          1.4,
          4,
          0.2,
          0.1,
          2,
          1.1,
          2,
          1.7,
          1.5,
          0,
          1.5,
          2.5,
          2,
          1.5,
          0.5,
          1.5,
          1.5,
          1.2,
          3,
          1.9,
          3,
          1.8,
          1,
          1.5,
          0,
          0.3,
          1.5,
          0.8,
          2,
          1,
          2,
          0,
          0.2,
          0,
          2,
          0,
          1,
          0.5,
          0,
          0.2,
          1.7,
          1.5,
          1,
          1.3,
          0,
          1.5,
          0,
          1,
          3,
          1.5,
          0,
          0,
          0,
          0.2,
          0,
          0.3,
          0,
          2.4,
          1.6,
          0.3,
          0.2,
          0.2,
          0.4,
          0.6,
          1.2,
          1.2,
          4,
          0.5,
          0,
          0,
          2.6,
          0,
          1.6,
          1.8,
          3.1,
          1.8,
          1.4,
          2.6,
          0.2,
          1.2,
          0.1,
          0,
          0.2,
          0,
          0.6,
          2.5,
          0,
          0.4,
          2.3,
          0,
          3.4,
          0.9,
          0,
          1.9,
          0,
          0,
          0,
          0,
          0,
          0.4,
          0,
          2.2,
          0,
          0.8,
          0,
          0,
          1,
          1.8,
          0,
          0.8,
          0,
          0.6,
          0,
          3.6,
          0,
          0,
          1.4,
          0.2,
          1.2,
          0,
          0.9,
          2.3,
          0.6,
          0,
          0,
          0.3,
          0,
          3.6,
          0.6,
          0,
          1.1,
          0.3,
          0,
          3,
          0,
          0,
          0.8,
          2,
          1.6,
          0.8,
          2,
          1.5,
          0.8,
          0,
          4.2,
          0,
          2.6,
          0,
          0,
          2.2,
          0,
          1,
          1,
          0.4,
          0.1,
          0.2,
          1.1,
          0.6,
          1,
          0,
          1,
          1.4,
          0.5,
          1.2,
          2.6,
          0,
          0,
          3.4,
          0,
          0,
          0,
          0,
          0,
          0.8,
          4,
          2.6,
          1.6,
          2,
          3.2,
          1.2,
          0.8,
          0.5,
          0,
          1.8,
          0.1,
          0.8,
          1.4,
          1.8,
          0.1,
          0,
          2.2,
          1.6,
          1.4,
          0,
          1.2,
          0.7,
          0,
          2,
          0,
          0.6,
          1.4,
          0,
          2,
          0,
          2,
          3.2,
          0,
          0,
          1.6,
          0,
          2,
          0.5,
          0,
          5.6,
          0,
          1.9,
          1,
          3.8,
          1.4,
          0,
          3,
          0,
          0,
          0,
          1.2,
          0.2,
          1.4,
          0.1,
          2,
          0.9,
          1.5,
          0,
          1.9,
          4.2,
          3.6,
          0.2,
          0,
          0.8,
          1.9,
          0,
          0.6,
          0,
          1.9,
          2.1,
          0.1,
          1.2,
          2.9,
          1.2,
          2.6,
          0,
          0,
          0,
          1.4,
          1,
          1.6,
          1.8,
          0,
          1,
          0,
          2.8,
          1.6,
          0.8,
          1.2,
          0,
          0.6,
          1.8,
          3.5,
          0.2,
          2.4,
          0.2,
          2.2,
          0,
          1.4,
          0,
          0,
          0.4,
          0,
          2.8,
          2.8,
          1.6,
          1.8,
          1.4,
          0,
          1.2,
          3,
          1,
          0,
          1,
          1.2,
          0,
          0,
          1.8,
          6.2,
          0,
          2.5,
          0,
          0.2,
          1.6,
          0,
          0.4,
          3.6,
          1.5,
          1.4,
          0.6,
          0.8,
          3,
          2.8,
          1.4,
          0,
          0,
          0.6,
          1.6,
          0.4,
          1,
          1.2,
          0,
          1.5,
          0,
          2.4,
          1.8,
          0.6,
          1,
          0.5,
          0,
          1.3,
          0.4,
          1.5,
          0,
          0,
          0.1,
          1,
          0.8,
          0.6,
          0,
          0,
          0,
          0.6,
          3,
          0,
          2,
          0,
          0,
          4.4,
          2.8,
          0.4,
          0,
          0,
          0.8,
          1.2,
          2.8,
          4,
          0,
          0,
          1,
          0.2,
          1.2,
          3.4,
          1.2,
          0,
          0
         ],
         "xaxis": "x",
         "yaxis": "y"
        }
       ],
       "layout": {
        "barmode": "relative",
        "height": 500,
        "legend": {
         "tracegroupgap": 0
        },
        "template": {
         "data": {
          "bar": [
           {
            "error_x": {
             "color": "#2a3f5f"
            },
            "error_y": {
             "color": "#2a3f5f"
            },
            "marker": {
             "line": {
              "color": "#E5ECF6",
              "width": 0.5
             },
             "pattern": {
              "fillmode": "overlay",
              "size": 10,
              "solidity": 0.2
             }
            },
            "type": "bar"
           }
          ],
          "barpolar": [
           {
            "marker": {
             "line": {
              "color": "#E5ECF6",
              "width": 0.5
             },
             "pattern": {
              "fillmode": "overlay",
              "size": 10,
              "solidity": 0.2
             }
            },
            "type": "barpolar"
           }
          ],
          "carpet": [
           {
            "aaxis": {
             "endlinecolor": "#2a3f5f",
             "gridcolor": "white",
             "linecolor": "white",
             "minorgridcolor": "white",
             "startlinecolor": "#2a3f5f"
            },
            "baxis": {
             "endlinecolor": "#2a3f5f",
             "gridcolor": "white",
             "linecolor": "white",
             "minorgridcolor": "white",
             "startlinecolor": "#2a3f5f"
            },
            "type": "carpet"
           }
          ],
          "choropleth": [
           {
            "colorbar": {
             "outlinewidth": 0,
             "ticks": ""
            },
            "type": "choropleth"
           }
          ],
          "contour": [
           {
            "colorbar": {
             "outlinewidth": 0,
             "ticks": ""
            },
            "colorscale": [
             [
              0,
              "#0d0887"
             ],
             [
              0.1111111111111111,
              "#46039f"
             ],
             [
              0.2222222222222222,
              "#7201a8"
             ],
             [
              0.3333333333333333,
              "#9c179e"
             ],
             [
              0.4444444444444444,
              "#bd3786"
             ],
             [
              0.5555555555555556,
              "#d8576b"
             ],
             [
              0.6666666666666666,
              "#ed7953"
             ],
             [
              0.7777777777777778,
              "#fb9f3a"
             ],
             [
              0.8888888888888888,
              "#fdca26"
             ],
             [
              1,
              "#f0f921"
             ]
            ],
            "type": "contour"
           }
          ],
          "contourcarpet": [
           {
            "colorbar": {
             "outlinewidth": 0,
             "ticks": ""
            },
            "type": "contourcarpet"
           }
          ],
          "heatmap": [
           {
            "colorbar": {
             "outlinewidth": 0,
             "ticks": ""
            },
            "colorscale": [
             [
              0,
              "#0d0887"
             ],
             [
              0.1111111111111111,
              "#46039f"
             ],
             [
              0.2222222222222222,
              "#7201a8"
             ],
             [
              0.3333333333333333,
              "#9c179e"
             ],
             [
              0.4444444444444444,
              "#bd3786"
             ],
             [
              0.5555555555555556,
              "#d8576b"
             ],
             [
              0.6666666666666666,
              "#ed7953"
             ],
             [
              0.7777777777777778,
              "#fb9f3a"
             ],
             [
              0.8888888888888888,
              "#fdca26"
             ],
             [
              1,
              "#f0f921"
             ]
            ],
            "type": "heatmap"
           }
          ],
          "heatmapgl": [
           {
            "colorbar": {
             "outlinewidth": 0,
             "ticks": ""
            },
            "colorscale": [
             [
              0,
              "#0d0887"
             ],
             [
              0.1111111111111111,
              "#46039f"
             ],
             [
              0.2222222222222222,
              "#7201a8"
             ],
             [
              0.3333333333333333,
              "#9c179e"
             ],
             [
              0.4444444444444444,
              "#bd3786"
             ],
             [
              0.5555555555555556,
              "#d8576b"
             ],
             [
              0.6666666666666666,
              "#ed7953"
             ],
             [
              0.7777777777777778,
              "#fb9f3a"
             ],
             [
              0.8888888888888888,
              "#fdca26"
             ],
             [
              1,
              "#f0f921"
             ]
            ],
            "type": "heatmapgl"
           }
          ],
          "histogram": [
           {
            "marker": {
             "pattern": {
              "fillmode": "overlay",
              "size": 10,
              "solidity": 0.2
             }
            },
            "type": "histogram"
           }
          ],
          "histogram2d": [
           {
            "colorbar": {
             "outlinewidth": 0,
             "ticks": ""
            },
            "colorscale": [
             [
              0,
              "#0d0887"
             ],
             [
              0.1111111111111111,
              "#46039f"
             ],
             [
              0.2222222222222222,
              "#7201a8"
             ],
             [
              0.3333333333333333,
              "#9c179e"
             ],
             [
              0.4444444444444444,
              "#bd3786"
             ],
             [
              0.5555555555555556,
              "#d8576b"
             ],
             [
              0.6666666666666666,
              "#ed7953"
             ],
             [
              0.7777777777777778,
              "#fb9f3a"
             ],
             [
              0.8888888888888888,
              "#fdca26"
             ],
             [
              1,
              "#f0f921"
             ]
            ],
            "type": "histogram2d"
           }
          ],
          "histogram2dcontour": [
           {
            "colorbar": {
             "outlinewidth": 0,
             "ticks": ""
            },
            "colorscale": [
             [
              0,
              "#0d0887"
             ],
             [
              0.1111111111111111,
              "#46039f"
             ],
             [
              0.2222222222222222,
              "#7201a8"
             ],
             [
              0.3333333333333333,
              "#9c179e"
             ],
             [
              0.4444444444444444,
              "#bd3786"
             ],
             [
              0.5555555555555556,
              "#d8576b"
             ],
             [
              0.6666666666666666,
              "#ed7953"
             ],
             [
              0.7777777777777778,
              "#fb9f3a"
             ],
             [
              0.8888888888888888,
              "#fdca26"
             ],
             [
              1,
              "#f0f921"
             ]
            ],
            "type": "histogram2dcontour"
           }
          ],
          "mesh3d": [
           {
            "colorbar": {
             "outlinewidth": 0,
             "ticks": ""
            },
            "type": "mesh3d"
           }
          ],
          "parcoords": [
           {
            "line": {
             "colorbar": {
              "outlinewidth": 0,
              "ticks": ""
             }
            },
            "type": "parcoords"
           }
          ],
          "pie": [
           {
            "automargin": true,
            "type": "pie"
           }
          ],
          "scatter": [
           {
            "marker": {
             "colorbar": {
              "outlinewidth": 0,
              "ticks": ""
             }
            },
            "type": "scatter"
           }
          ],
          "scatter3d": [
           {
            "line": {
             "colorbar": {
              "outlinewidth": 0,
              "ticks": ""
             }
            },
            "marker": {
             "colorbar": {
              "outlinewidth": 0,
              "ticks": ""
             }
            },
            "type": "scatter3d"
           }
          ],
          "scattercarpet": [
           {
            "marker": {
             "colorbar": {
              "outlinewidth": 0,
              "ticks": ""
             }
            },
            "type": "scattercarpet"
           }
          ],
          "scattergeo": [
           {
            "marker": {
             "colorbar": {
              "outlinewidth": 0,
              "ticks": ""
             }
            },
            "type": "scattergeo"
           }
          ],
          "scattergl": [
           {
            "marker": {
             "colorbar": {
              "outlinewidth": 0,
              "ticks": ""
             }
            },
            "type": "scattergl"
           }
          ],
          "scattermapbox": [
           {
            "marker": {
             "colorbar": {
              "outlinewidth": 0,
              "ticks": ""
             }
            },
            "type": "scattermapbox"
           }
          ],
          "scatterpolar": [
           {
            "marker": {
             "colorbar": {
              "outlinewidth": 0,
              "ticks": ""
             }
            },
            "type": "scatterpolar"
           }
          ],
          "scatterpolargl": [
           {
            "marker": {
             "colorbar": {
              "outlinewidth": 0,
              "ticks": ""
             }
            },
            "type": "scatterpolargl"
           }
          ],
          "scatterternary": [
           {
            "marker": {
             "colorbar": {
              "outlinewidth": 0,
              "ticks": ""
             }
            },
            "type": "scatterternary"
           }
          ],
          "surface": [
           {
            "colorbar": {
             "outlinewidth": 0,
             "ticks": ""
            },
            "colorscale": [
             [
              0,
              "#0d0887"
             ],
             [
              0.1111111111111111,
              "#46039f"
             ],
             [
              0.2222222222222222,
              "#7201a8"
             ],
             [
              0.3333333333333333,
              "#9c179e"
             ],
             [
              0.4444444444444444,
              "#bd3786"
             ],
             [
              0.5555555555555556,
              "#d8576b"
             ],
             [
              0.6666666666666666,
              "#ed7953"
             ],
             [
              0.7777777777777778,
              "#fb9f3a"
             ],
             [
              0.8888888888888888,
              "#fdca26"
             ],
             [
              1,
              "#f0f921"
             ]
            ],
            "type": "surface"
           }
          ],
          "table": [
           {
            "cells": {
             "fill": {
              "color": "#EBF0F8"
             },
             "line": {
              "color": "white"
             }
            },
            "header": {
             "fill": {
              "color": "#C8D4E3"
             },
             "line": {
              "color": "white"
             }
            },
            "type": "table"
           }
          ]
         },
         "layout": {
          "annotationdefaults": {
           "arrowcolor": "#2a3f5f",
           "arrowhead": 0,
           "arrowwidth": 1
          },
          "autotypenumbers": "strict",
          "coloraxis": {
           "colorbar": {
            "outlinewidth": 0,
            "ticks": ""
           }
          },
          "colorscale": {
           "diverging": [
            [
             0,
             "#8e0152"
            ],
            [
             0.1,
             "#c51b7d"
            ],
            [
             0.2,
             "#de77ae"
            ],
            [
             0.3,
             "#f1b6da"
            ],
            [
             0.4,
             "#fde0ef"
            ],
            [
             0.5,
             "#f7f7f7"
            ],
            [
             0.6,
             "#e6f5d0"
            ],
            [
             0.7,
             "#b8e186"
            ],
            [
             0.8,
             "#7fbc41"
            ],
            [
             0.9,
             "#4d9221"
            ],
            [
             1,
             "#276419"
            ]
           ],
           "sequential": [
            [
             0,
             "#0d0887"
            ],
            [
             0.1111111111111111,
             "#46039f"
            ],
            [
             0.2222222222222222,
             "#7201a8"
            ],
            [
             0.3333333333333333,
             "#9c179e"
            ],
            [
             0.4444444444444444,
             "#bd3786"
            ],
            [
             0.5555555555555556,
             "#d8576b"
            ],
            [
             0.6666666666666666,
             "#ed7953"
            ],
            [
             0.7777777777777778,
             "#fb9f3a"
            ],
            [
             0.8888888888888888,
             "#fdca26"
            ],
            [
             1,
             "#f0f921"
            ]
           ],
           "sequentialminus": [
            [
             0,
             "#0d0887"
            ],
            [
             0.1111111111111111,
             "#46039f"
            ],
            [
             0.2222222222222222,
             "#7201a8"
            ],
            [
             0.3333333333333333,
             "#9c179e"
            ],
            [
             0.4444444444444444,
             "#bd3786"
            ],
            [
             0.5555555555555556,
             "#d8576b"
            ],
            [
             0.6666666666666666,
             "#ed7953"
            ],
            [
             0.7777777777777778,
             "#fb9f3a"
            ],
            [
             0.8888888888888888,
             "#fdca26"
            ],
            [
             1,
             "#f0f921"
            ]
           ]
          },
          "colorway": [
           "#636efa",
           "#EF553B",
           "#00cc96",
           "#ab63fa",
           "#FFA15A",
           "#19d3f3",
           "#FF6692",
           "#B6E880",
           "#FF97FF",
           "#FECB52"
          ],
          "font": {
           "color": "#2a3f5f"
          },
          "geo": {
           "bgcolor": "white",
           "lakecolor": "white",
           "landcolor": "#E5ECF6",
           "showlakes": true,
           "showland": true,
           "subunitcolor": "white"
          },
          "hoverlabel": {
           "align": "left"
          },
          "hovermode": "closest",
          "mapbox": {
           "style": "light"
          },
          "paper_bgcolor": "white",
          "plot_bgcolor": "#E5ECF6",
          "polar": {
           "angularaxis": {
            "gridcolor": "white",
            "linecolor": "white",
            "ticks": ""
           },
           "bgcolor": "#E5ECF6",
           "radialaxis": {
            "gridcolor": "white",
            "linecolor": "white",
            "ticks": ""
           }
          },
          "scene": {
           "xaxis": {
            "backgroundcolor": "#E5ECF6",
            "gridcolor": "white",
            "gridwidth": 2,
            "linecolor": "white",
            "showbackground": true,
            "ticks": "",
            "zerolinecolor": "white"
           },
           "yaxis": {
            "backgroundcolor": "#E5ECF6",
            "gridcolor": "white",
            "gridwidth": 2,
            "linecolor": "white",
            "showbackground": true,
            "ticks": "",
            "zerolinecolor": "white"
           },
           "zaxis": {
            "backgroundcolor": "#E5ECF6",
            "gridcolor": "white",
            "gridwidth": 2,
            "linecolor": "white",
            "showbackground": true,
            "ticks": "",
            "zerolinecolor": "white"
           }
          },
          "shapedefaults": {
           "line": {
            "color": "#2a3f5f"
           }
          },
          "ternary": {
           "aaxis": {
            "gridcolor": "white",
            "linecolor": "white",
            "ticks": ""
           },
           "baxis": {
            "gridcolor": "white",
            "linecolor": "white",
            "ticks": ""
           },
           "bgcolor": "#E5ECF6",
           "caxis": {
            "gridcolor": "white",
            "linecolor": "white",
            "ticks": ""
           }
          },
          "title": {
           "x": 0.05
          },
          "xaxis": {
           "automargin": true,
           "gridcolor": "white",
           "linecolor": "white",
           "ticks": "",
           "title": {
            "standoff": 15
           },
           "zerolinecolor": "white",
           "zerolinewidth": 2
          },
          "yaxis": {
           "automargin": true,
           "gridcolor": "white",
           "linecolor": "white",
           "ticks": "",
           "title": {
            "standoff": 15
           },
           "zerolinecolor": "white",
           "zerolinewidth": 2
          }
         }
        },
        "title": {
         "text": "DEPRESSÃO DE ST (REFERÊNCIA NO ECG) INDUZIDA POR EXERCÍCIO EM RELAÇÃO AO REPOUSO"
        },
        "width": 800,
        "xaxis": {
         "anchor": "y",
         "domain": [
          0,
          1
         ],
         "title": {
          "text": "Oldpeak"
         }
        },
        "yaxis": {
         "anchor": "x",
         "domain": [
          0,
          1
         ],
         "title": {
          "text": "count"
         }
        }
       }
      }
     },
     "metadata": {},
     "output_type": "display_data"
    }
   ],
   "source": [
    "#Preciso entender mais sobre isso\n",
    "fig = px.histogram(df, x = 'Oldpeak',\n",
    "      labels= df.columns,\n",
    "      title = 'Depressão de ST (referência no ECG) induzida por exercício em relação ao repouso'. upper())\n",
    "\n",
    "fig.update_layout(width = 800, height = 500)\n",
    "\n",
    "\n",
    "fig.show()"
   ]
  },
  {
   "cell_type": "markdown",
   "metadata": {},
   "source": [
    "### **ST_Slope = Inclinação do segmento ST no ECG**"
   ]
  },
  {
   "cell_type": "code",
   "execution_count": 200,
   "metadata": {},
   "outputs": [
    {
     "data": {
      "text/plain": [
       "Flat    460\n",
       "Up      395\n",
       "Down     63\n",
       "Name: ST_Slope, dtype: int64"
      ]
     },
     "execution_count": 200,
     "metadata": {},
     "output_type": "execute_result"
    }
   ],
   "source": [
    "df['ST_Slope'].value_counts()"
   ]
  },
  {
   "cell_type": "code",
   "execution_count": 201,
   "metadata": {},
   "outputs": [
    {
     "name": "stdout",
     "output_type": "stream",
     "text": [
      "Inclinação do segmento ST no ECG\n",
      "================================\n",
      "Flat    50.11\n",
      "Up      43.03\n",
      "Down     6.86\n",
      "Name: ST_Slope, dtype: float64\n",
      "================================\n"
     ]
    }
   ],
   "source": [
    "#Verificando percentual de Inclinação do Segmentos ST no ECG\n",
    "mensagem = 'Inclinação do segmento ST no ECG'\n",
    "print(mensagem)\n",
    "print('=' * len(mensagem))\n",
    "\n",
    "print(round(df['ST_Slope'].value_counts() / df.shape[0] * 100,2))\n",
    "\n",
    "print('=' * len(mensagem))"
   ]
  },
  {
   "cell_type": "code",
   "execution_count": 202,
   "metadata": {},
   "outputs": [
    {
     "data": {
      "application/vnd.plotly.v1+json": {
       "config": {
        "plotlyServerURL": "https://plot.ly"
       },
       "data": [
        {
         "alignmentgroup": "True",
         "bingroup": "x",
         "hovertemplate": "ST_Slope=%{x}<br>count=%{y}<extra></extra>",
         "legendgroup": "Up",
         "marker": {
          "color": "#636efa",
          "pattern": {
           "shape": ""
          }
         },
         "name": "Up",
         "offsetgroup": "Up",
         "orientation": "v",
         "showlegend": true,
         "type": "histogram",
         "x": [
          "Up",
          "Up",
          "Up",
          "Up",
          "Up",
          "Up",
          "Up",
          "Up",
          "Up",
          "Up",
          "Up",
          "Up",
          "Up",
          "Up",
          "Up",
          "Up",
          "Up",
          "Up",
          "Up",
          "Up",
          "Up",
          "Up",
          "Up",
          "Up",
          "Up",
          "Up",
          "Up",
          "Up",
          "Up",
          "Up",
          "Up",
          "Up",
          "Up",
          "Up",
          "Up",
          "Up",
          "Up",
          "Up",
          "Up",
          "Up",
          "Up",
          "Up",
          "Up",
          "Up",
          "Up",
          "Up",
          "Up",
          "Up",
          "Up",
          "Up",
          "Up",
          "Up",
          "Up",
          "Up",
          "Up",
          "Up",
          "Up",
          "Up",
          "Up",
          "Up",
          "Up",
          "Up",
          "Up",
          "Up",
          "Up",
          "Up",
          "Up",
          "Up",
          "Up",
          "Up",
          "Up",
          "Up",
          "Up",
          "Up",
          "Up",
          "Up",
          "Up",
          "Up",
          "Up",
          "Up",
          "Up",
          "Up",
          "Up",
          "Up",
          "Up",
          "Up",
          "Up",
          "Up",
          "Up",
          "Up",
          "Up",
          "Up",
          "Up",
          "Up",
          "Up",
          "Up",
          "Up",
          "Up",
          "Up",
          "Up",
          "Up",
          "Up",
          "Up",
          "Up",
          "Up",
          "Up",
          "Up",
          "Up",
          "Up",
          "Up",
          "Up",
          "Up",
          "Up",
          "Up",
          "Up",
          "Up",
          "Up",
          "Up",
          "Up",
          "Up",
          "Up",
          "Up",
          "Up",
          "Up",
          "Up",
          "Up",
          "Up",
          "Up",
          "Up",
          "Up",
          "Up",
          "Up",
          "Up",
          "Up",
          "Up",
          "Up",
          "Up",
          "Up",
          "Up",
          "Up",
          "Up",
          "Up",
          "Up",
          "Up",
          "Up",
          "Up",
          "Up",
          "Up",
          "Up",
          "Up",
          "Up",
          "Up",
          "Up",
          "Up",
          "Up",
          "Up",
          "Up",
          "Up",
          "Up",
          "Up",
          "Up",
          "Up",
          "Up",
          "Up",
          "Up",
          "Up",
          "Up",
          "Up",
          "Up",
          "Up",
          "Up",
          "Up",
          "Up",
          "Up",
          "Up",
          "Up",
          "Up",
          "Up",
          "Up",
          "Up",
          "Up",
          "Up",
          "Up",
          "Up",
          "Up",
          "Up",
          "Up",
          "Up",
          "Up",
          "Up",
          "Up",
          "Up",
          "Up",
          "Up",
          "Up",
          "Up",
          "Up",
          "Up",
          "Up",
          "Up",
          "Up",
          "Up",
          "Up",
          "Up",
          "Up",
          "Up",
          "Up",
          "Up",
          "Up",
          "Up",
          "Up",
          "Up",
          "Up",
          "Up",
          "Up",
          "Up",
          "Up",
          "Up",
          "Up",
          "Up",
          "Up",
          "Up",
          "Up",
          "Up",
          "Up",
          "Up",
          "Up",
          "Up",
          "Up",
          "Up",
          "Up",
          "Up",
          "Up",
          "Up",
          "Up",
          "Up",
          "Up",
          "Up",
          "Up",
          "Up",
          "Up",
          "Up",
          "Up",
          "Up",
          "Up",
          "Up",
          "Up",
          "Up",
          "Up",
          "Up",
          "Up",
          "Up",
          "Up",
          "Up",
          "Up",
          "Up",
          "Up",
          "Up",
          "Up",
          "Up",
          "Up",
          "Up",
          "Up",
          "Up",
          "Up",
          "Up",
          "Up",
          "Up",
          "Up",
          "Up",
          "Up",
          "Up",
          "Up",
          "Up",
          "Up",
          "Up",
          "Up",
          "Up",
          "Up",
          "Up",
          "Up",
          "Up",
          "Up",
          "Up",
          "Up",
          "Up",
          "Up",
          "Up",
          "Up",
          "Up",
          "Up",
          "Up",
          "Up",
          "Up",
          "Up",
          "Up",
          "Up",
          "Up",
          "Up",
          "Up",
          "Up",
          "Up",
          "Up",
          "Up",
          "Up",
          "Up",
          "Up",
          "Up",
          "Up",
          "Up",
          "Up",
          "Up",
          "Up",
          "Up",
          "Up",
          "Up",
          "Up",
          "Up",
          "Up",
          "Up",
          "Up",
          "Up",
          "Up",
          "Up",
          "Up",
          "Up",
          "Up",
          "Up",
          "Up",
          "Up",
          "Up",
          "Up",
          "Up",
          "Up",
          "Up",
          "Up",
          "Up",
          "Up",
          "Up",
          "Up",
          "Up",
          "Up",
          "Up",
          "Up",
          "Up",
          "Up",
          "Up",
          "Up",
          "Up",
          "Up",
          "Up",
          "Up",
          "Up",
          "Up",
          "Up",
          "Up",
          "Up",
          "Up",
          "Up",
          "Up",
          "Up",
          "Up",
          "Up",
          "Up",
          "Up",
          "Up",
          "Up",
          "Up",
          "Up",
          "Up",
          "Up",
          "Up",
          "Up",
          "Up",
          "Up",
          "Up",
          "Up",
          "Up",
          "Up",
          "Up",
          "Up",
          "Up",
          "Up",
          "Up",
          "Up",
          "Up",
          "Up",
          "Up",
          "Up",
          "Up",
          "Up",
          "Up",
          "Up",
          "Up",
          "Up"
         ],
         "xaxis": "x",
         "yaxis": "y"
        },
        {
         "alignmentgroup": "True",
         "bingroup": "x",
         "hovertemplate": "ST_Slope=%{x}<br>count=%{y}<extra></extra>",
         "legendgroup": "Flat",
         "marker": {
          "color": "#EF553B",
          "pattern": {
           "shape": ""
          }
         },
         "name": "Flat",
         "offsetgroup": "Flat",
         "orientation": "v",
         "showlegend": true,
         "type": "histogram",
         "x": [
          "Flat",
          "Flat",
          "Flat",
          "Flat",
          "Flat",
          "Flat",
          "Flat",
          "Flat",
          "Flat",
          "Flat",
          "Flat",
          "Flat",
          "Flat",
          "Flat",
          "Flat",
          "Flat",
          "Flat",
          "Flat",
          "Flat",
          "Flat",
          "Flat",
          "Flat",
          "Flat",
          "Flat",
          "Flat",
          "Flat",
          "Flat",
          "Flat",
          "Flat",
          "Flat",
          "Flat",
          "Flat",
          "Flat",
          "Flat",
          "Flat",
          "Flat",
          "Flat",
          "Flat",
          "Flat",
          "Flat",
          "Flat",
          "Flat",
          "Flat",
          "Flat",
          "Flat",
          "Flat",
          "Flat",
          "Flat",
          "Flat",
          "Flat",
          "Flat",
          "Flat",
          "Flat",
          "Flat",
          "Flat",
          "Flat",
          "Flat",
          "Flat",
          "Flat",
          "Flat",
          "Flat",
          "Flat",
          "Flat",
          "Flat",
          "Flat",
          "Flat",
          "Flat",
          "Flat",
          "Flat",
          "Flat",
          "Flat",
          "Flat",
          "Flat",
          "Flat",
          "Flat",
          "Flat",
          "Flat",
          "Flat",
          "Flat",
          "Flat",
          "Flat",
          "Flat",
          "Flat",
          "Flat",
          "Flat",
          "Flat",
          "Flat",
          "Flat",
          "Flat",
          "Flat",
          "Flat",
          "Flat",
          "Flat",
          "Flat",
          "Flat",
          "Flat",
          "Flat",
          "Flat",
          "Flat",
          "Flat",
          "Flat",
          "Flat",
          "Flat",
          "Flat",
          "Flat",
          "Flat",
          "Flat",
          "Flat",
          "Flat",
          "Flat",
          "Flat",
          "Flat",
          "Flat",
          "Flat",
          "Flat",
          "Flat",
          "Flat",
          "Flat",
          "Flat",
          "Flat",
          "Flat",
          "Flat",
          "Flat",
          "Flat",
          "Flat",
          "Flat",
          "Flat",
          "Flat",
          "Flat",
          "Flat",
          "Flat",
          "Flat",
          "Flat",
          "Flat",
          "Flat",
          "Flat",
          "Flat",
          "Flat",
          "Flat",
          "Flat",
          "Flat",
          "Flat",
          "Flat",
          "Flat",
          "Flat",
          "Flat",
          "Flat",
          "Flat",
          "Flat",
          "Flat",
          "Flat",
          "Flat",
          "Flat",
          "Flat",
          "Flat",
          "Flat",
          "Flat",
          "Flat",
          "Flat",
          "Flat",
          "Flat",
          "Flat",
          "Flat",
          "Flat",
          "Flat",
          "Flat",
          "Flat",
          "Flat",
          "Flat",
          "Flat",
          "Flat",
          "Flat",
          "Flat",
          "Flat",
          "Flat",
          "Flat",
          "Flat",
          "Flat",
          "Flat",
          "Flat",
          "Flat",
          "Flat",
          "Flat",
          "Flat",
          "Flat",
          "Flat",
          "Flat",
          "Flat",
          "Flat",
          "Flat",
          "Flat",
          "Flat",
          "Flat",
          "Flat",
          "Flat",
          "Flat",
          "Flat",
          "Flat",
          "Flat",
          "Flat",
          "Flat",
          "Flat",
          "Flat",
          "Flat",
          "Flat",
          "Flat",
          "Flat",
          "Flat",
          "Flat",
          "Flat",
          "Flat",
          "Flat",
          "Flat",
          "Flat",
          "Flat",
          "Flat",
          "Flat",
          "Flat",
          "Flat",
          "Flat",
          "Flat",
          "Flat",
          "Flat",
          "Flat",
          "Flat",
          "Flat",
          "Flat",
          "Flat",
          "Flat",
          "Flat",
          "Flat",
          "Flat",
          "Flat",
          "Flat",
          "Flat",
          "Flat",
          "Flat",
          "Flat",
          "Flat",
          "Flat",
          "Flat",
          "Flat",
          "Flat",
          "Flat",
          "Flat",
          "Flat",
          "Flat",
          "Flat",
          "Flat",
          "Flat",
          "Flat",
          "Flat",
          "Flat",
          "Flat",
          "Flat",
          "Flat",
          "Flat",
          "Flat",
          "Flat",
          "Flat",
          "Flat",
          "Flat",
          "Flat",
          "Flat",
          "Flat",
          "Flat",
          "Flat",
          "Flat",
          "Flat",
          "Flat",
          "Flat",
          "Flat",
          "Flat",
          "Flat",
          "Flat",
          "Flat",
          "Flat",
          "Flat",
          "Flat",
          "Flat",
          "Flat",
          "Flat",
          "Flat",
          "Flat",
          "Flat",
          "Flat",
          "Flat",
          "Flat",
          "Flat",
          "Flat",
          "Flat",
          "Flat",
          "Flat",
          "Flat",
          "Flat",
          "Flat",
          "Flat",
          "Flat",
          "Flat",
          "Flat",
          "Flat",
          "Flat",
          "Flat",
          "Flat",
          "Flat",
          "Flat",
          "Flat",
          "Flat",
          "Flat",
          "Flat",
          "Flat",
          "Flat",
          "Flat",
          "Flat",
          "Flat",
          "Flat",
          "Flat",
          "Flat",
          "Flat",
          "Flat",
          "Flat",
          "Flat",
          "Flat",
          "Flat",
          "Flat",
          "Flat",
          "Flat",
          "Flat",
          "Flat",
          "Flat",
          "Flat",
          "Flat",
          "Flat",
          "Flat",
          "Flat",
          "Flat",
          "Flat",
          "Flat",
          "Flat",
          "Flat",
          "Flat",
          "Flat",
          "Flat",
          "Flat",
          "Flat",
          "Flat",
          "Flat",
          "Flat",
          "Flat",
          "Flat",
          "Flat",
          "Flat",
          "Flat",
          "Flat",
          "Flat",
          "Flat",
          "Flat",
          "Flat",
          "Flat",
          "Flat",
          "Flat",
          "Flat",
          "Flat",
          "Flat",
          "Flat",
          "Flat",
          "Flat",
          "Flat",
          "Flat",
          "Flat",
          "Flat",
          "Flat",
          "Flat",
          "Flat",
          "Flat",
          "Flat",
          "Flat",
          "Flat",
          "Flat",
          "Flat",
          "Flat",
          "Flat",
          "Flat",
          "Flat",
          "Flat",
          "Flat",
          "Flat",
          "Flat",
          "Flat",
          "Flat",
          "Flat",
          "Flat",
          "Flat",
          "Flat",
          "Flat",
          "Flat",
          "Flat",
          "Flat",
          "Flat",
          "Flat",
          "Flat",
          "Flat",
          "Flat",
          "Flat",
          "Flat",
          "Flat",
          "Flat",
          "Flat",
          "Flat",
          "Flat",
          "Flat",
          "Flat",
          "Flat",
          "Flat",
          "Flat",
          "Flat",
          "Flat",
          "Flat",
          "Flat",
          "Flat",
          "Flat",
          "Flat",
          "Flat",
          "Flat",
          "Flat",
          "Flat",
          "Flat",
          "Flat",
          "Flat",
          "Flat",
          "Flat",
          "Flat",
          "Flat",
          "Flat",
          "Flat",
          "Flat",
          "Flat",
          "Flat",
          "Flat",
          "Flat",
          "Flat",
          "Flat",
          "Flat",
          "Flat",
          "Flat",
          "Flat",
          "Flat",
          "Flat",
          "Flat",
          "Flat",
          "Flat",
          "Flat",
          "Flat",
          "Flat",
          "Flat",
          "Flat",
          "Flat",
          "Flat",
          "Flat",
          "Flat"
         ],
         "xaxis": "x",
         "yaxis": "y"
        },
        {
         "alignmentgroup": "True",
         "bingroup": "x",
         "hovertemplate": "ST_Slope=%{x}<br>count=%{y}<extra></extra>",
         "legendgroup": "Down",
         "marker": {
          "color": "#00cc96",
          "pattern": {
           "shape": ""
          }
         },
         "name": "Down",
         "offsetgroup": "Down",
         "orientation": "v",
         "showlegend": true,
         "type": "histogram",
         "x": [
          "Down",
          "Down",
          "Down",
          "Down",
          "Down",
          "Down",
          "Down",
          "Down",
          "Down",
          "Down",
          "Down",
          "Down",
          "Down",
          "Down",
          "Down",
          "Down",
          "Down",
          "Down",
          "Down",
          "Down",
          "Down",
          "Down",
          "Down",
          "Down",
          "Down",
          "Down",
          "Down",
          "Down",
          "Down",
          "Down",
          "Down",
          "Down",
          "Down",
          "Down",
          "Down",
          "Down",
          "Down",
          "Down",
          "Down",
          "Down",
          "Down",
          "Down",
          "Down",
          "Down",
          "Down",
          "Down",
          "Down",
          "Down",
          "Down",
          "Down",
          "Down",
          "Down",
          "Down",
          "Down",
          "Down",
          "Down",
          "Down",
          "Down",
          "Down",
          "Down",
          "Down",
          "Down",
          "Down"
         ],
         "xaxis": "x",
         "yaxis": "y"
        }
       ],
       "layout": {
        "barmode": "relative",
        "height": 500,
        "legend": {
         "title": {
          "text": "ST_Slope"
         },
         "tracegroupgap": 0
        },
        "template": {
         "data": {
          "bar": [
           {
            "error_x": {
             "color": "#2a3f5f"
            },
            "error_y": {
             "color": "#2a3f5f"
            },
            "marker": {
             "line": {
              "color": "#E5ECF6",
              "width": 0.5
             },
             "pattern": {
              "fillmode": "overlay",
              "size": 10,
              "solidity": 0.2
             }
            },
            "type": "bar"
           }
          ],
          "barpolar": [
           {
            "marker": {
             "line": {
              "color": "#E5ECF6",
              "width": 0.5
             },
             "pattern": {
              "fillmode": "overlay",
              "size": 10,
              "solidity": 0.2
             }
            },
            "type": "barpolar"
           }
          ],
          "carpet": [
           {
            "aaxis": {
             "endlinecolor": "#2a3f5f",
             "gridcolor": "white",
             "linecolor": "white",
             "minorgridcolor": "white",
             "startlinecolor": "#2a3f5f"
            },
            "baxis": {
             "endlinecolor": "#2a3f5f",
             "gridcolor": "white",
             "linecolor": "white",
             "minorgridcolor": "white",
             "startlinecolor": "#2a3f5f"
            },
            "type": "carpet"
           }
          ],
          "choropleth": [
           {
            "colorbar": {
             "outlinewidth": 0,
             "ticks": ""
            },
            "type": "choropleth"
           }
          ],
          "contour": [
           {
            "colorbar": {
             "outlinewidth": 0,
             "ticks": ""
            },
            "colorscale": [
             [
              0,
              "#0d0887"
             ],
             [
              0.1111111111111111,
              "#46039f"
             ],
             [
              0.2222222222222222,
              "#7201a8"
             ],
             [
              0.3333333333333333,
              "#9c179e"
             ],
             [
              0.4444444444444444,
              "#bd3786"
             ],
             [
              0.5555555555555556,
              "#d8576b"
             ],
             [
              0.6666666666666666,
              "#ed7953"
             ],
             [
              0.7777777777777778,
              "#fb9f3a"
             ],
             [
              0.8888888888888888,
              "#fdca26"
             ],
             [
              1,
              "#f0f921"
             ]
            ],
            "type": "contour"
           }
          ],
          "contourcarpet": [
           {
            "colorbar": {
             "outlinewidth": 0,
             "ticks": ""
            },
            "type": "contourcarpet"
           }
          ],
          "heatmap": [
           {
            "colorbar": {
             "outlinewidth": 0,
             "ticks": ""
            },
            "colorscale": [
             [
              0,
              "#0d0887"
             ],
             [
              0.1111111111111111,
              "#46039f"
             ],
             [
              0.2222222222222222,
              "#7201a8"
             ],
             [
              0.3333333333333333,
              "#9c179e"
             ],
             [
              0.4444444444444444,
              "#bd3786"
             ],
             [
              0.5555555555555556,
              "#d8576b"
             ],
             [
              0.6666666666666666,
              "#ed7953"
             ],
             [
              0.7777777777777778,
              "#fb9f3a"
             ],
             [
              0.8888888888888888,
              "#fdca26"
             ],
             [
              1,
              "#f0f921"
             ]
            ],
            "type": "heatmap"
           }
          ],
          "heatmapgl": [
           {
            "colorbar": {
             "outlinewidth": 0,
             "ticks": ""
            },
            "colorscale": [
             [
              0,
              "#0d0887"
             ],
             [
              0.1111111111111111,
              "#46039f"
             ],
             [
              0.2222222222222222,
              "#7201a8"
             ],
             [
              0.3333333333333333,
              "#9c179e"
             ],
             [
              0.4444444444444444,
              "#bd3786"
             ],
             [
              0.5555555555555556,
              "#d8576b"
             ],
             [
              0.6666666666666666,
              "#ed7953"
             ],
             [
              0.7777777777777778,
              "#fb9f3a"
             ],
             [
              0.8888888888888888,
              "#fdca26"
             ],
             [
              1,
              "#f0f921"
             ]
            ],
            "type": "heatmapgl"
           }
          ],
          "histogram": [
           {
            "marker": {
             "pattern": {
              "fillmode": "overlay",
              "size": 10,
              "solidity": 0.2
             }
            },
            "type": "histogram"
           }
          ],
          "histogram2d": [
           {
            "colorbar": {
             "outlinewidth": 0,
             "ticks": ""
            },
            "colorscale": [
             [
              0,
              "#0d0887"
             ],
             [
              0.1111111111111111,
              "#46039f"
             ],
             [
              0.2222222222222222,
              "#7201a8"
             ],
             [
              0.3333333333333333,
              "#9c179e"
             ],
             [
              0.4444444444444444,
              "#bd3786"
             ],
             [
              0.5555555555555556,
              "#d8576b"
             ],
             [
              0.6666666666666666,
              "#ed7953"
             ],
             [
              0.7777777777777778,
              "#fb9f3a"
             ],
             [
              0.8888888888888888,
              "#fdca26"
             ],
             [
              1,
              "#f0f921"
             ]
            ],
            "type": "histogram2d"
           }
          ],
          "histogram2dcontour": [
           {
            "colorbar": {
             "outlinewidth": 0,
             "ticks": ""
            },
            "colorscale": [
             [
              0,
              "#0d0887"
             ],
             [
              0.1111111111111111,
              "#46039f"
             ],
             [
              0.2222222222222222,
              "#7201a8"
             ],
             [
              0.3333333333333333,
              "#9c179e"
             ],
             [
              0.4444444444444444,
              "#bd3786"
             ],
             [
              0.5555555555555556,
              "#d8576b"
             ],
             [
              0.6666666666666666,
              "#ed7953"
             ],
             [
              0.7777777777777778,
              "#fb9f3a"
             ],
             [
              0.8888888888888888,
              "#fdca26"
             ],
             [
              1,
              "#f0f921"
             ]
            ],
            "type": "histogram2dcontour"
           }
          ],
          "mesh3d": [
           {
            "colorbar": {
             "outlinewidth": 0,
             "ticks": ""
            },
            "type": "mesh3d"
           }
          ],
          "parcoords": [
           {
            "line": {
             "colorbar": {
              "outlinewidth": 0,
              "ticks": ""
             }
            },
            "type": "parcoords"
           }
          ],
          "pie": [
           {
            "automargin": true,
            "type": "pie"
           }
          ],
          "scatter": [
           {
            "marker": {
             "colorbar": {
              "outlinewidth": 0,
              "ticks": ""
             }
            },
            "type": "scatter"
           }
          ],
          "scatter3d": [
           {
            "line": {
             "colorbar": {
              "outlinewidth": 0,
              "ticks": ""
             }
            },
            "marker": {
             "colorbar": {
              "outlinewidth": 0,
              "ticks": ""
             }
            },
            "type": "scatter3d"
           }
          ],
          "scattercarpet": [
           {
            "marker": {
             "colorbar": {
              "outlinewidth": 0,
              "ticks": ""
             }
            },
            "type": "scattercarpet"
           }
          ],
          "scattergeo": [
           {
            "marker": {
             "colorbar": {
              "outlinewidth": 0,
              "ticks": ""
             }
            },
            "type": "scattergeo"
           }
          ],
          "scattergl": [
           {
            "marker": {
             "colorbar": {
              "outlinewidth": 0,
              "ticks": ""
             }
            },
            "type": "scattergl"
           }
          ],
          "scattermapbox": [
           {
            "marker": {
             "colorbar": {
              "outlinewidth": 0,
              "ticks": ""
             }
            },
            "type": "scattermapbox"
           }
          ],
          "scatterpolar": [
           {
            "marker": {
             "colorbar": {
              "outlinewidth": 0,
              "ticks": ""
             }
            },
            "type": "scatterpolar"
           }
          ],
          "scatterpolargl": [
           {
            "marker": {
             "colorbar": {
              "outlinewidth": 0,
              "ticks": ""
             }
            },
            "type": "scatterpolargl"
           }
          ],
          "scatterternary": [
           {
            "marker": {
             "colorbar": {
              "outlinewidth": 0,
              "ticks": ""
             }
            },
            "type": "scatterternary"
           }
          ],
          "surface": [
           {
            "colorbar": {
             "outlinewidth": 0,
             "ticks": ""
            },
            "colorscale": [
             [
              0,
              "#0d0887"
             ],
             [
              0.1111111111111111,
              "#46039f"
             ],
             [
              0.2222222222222222,
              "#7201a8"
             ],
             [
              0.3333333333333333,
              "#9c179e"
             ],
             [
              0.4444444444444444,
              "#bd3786"
             ],
             [
              0.5555555555555556,
              "#d8576b"
             ],
             [
              0.6666666666666666,
              "#ed7953"
             ],
             [
              0.7777777777777778,
              "#fb9f3a"
             ],
             [
              0.8888888888888888,
              "#fdca26"
             ],
             [
              1,
              "#f0f921"
             ]
            ],
            "type": "surface"
           }
          ],
          "table": [
           {
            "cells": {
             "fill": {
              "color": "#EBF0F8"
             },
             "line": {
              "color": "white"
             }
            },
            "header": {
             "fill": {
              "color": "#C8D4E3"
             },
             "line": {
              "color": "white"
             }
            },
            "type": "table"
           }
          ]
         },
         "layout": {
          "annotationdefaults": {
           "arrowcolor": "#2a3f5f",
           "arrowhead": 0,
           "arrowwidth": 1
          },
          "autotypenumbers": "strict",
          "coloraxis": {
           "colorbar": {
            "outlinewidth": 0,
            "ticks": ""
           }
          },
          "colorscale": {
           "diverging": [
            [
             0,
             "#8e0152"
            ],
            [
             0.1,
             "#c51b7d"
            ],
            [
             0.2,
             "#de77ae"
            ],
            [
             0.3,
             "#f1b6da"
            ],
            [
             0.4,
             "#fde0ef"
            ],
            [
             0.5,
             "#f7f7f7"
            ],
            [
             0.6,
             "#e6f5d0"
            ],
            [
             0.7,
             "#b8e186"
            ],
            [
             0.8,
             "#7fbc41"
            ],
            [
             0.9,
             "#4d9221"
            ],
            [
             1,
             "#276419"
            ]
           ],
           "sequential": [
            [
             0,
             "#0d0887"
            ],
            [
             0.1111111111111111,
             "#46039f"
            ],
            [
             0.2222222222222222,
             "#7201a8"
            ],
            [
             0.3333333333333333,
             "#9c179e"
            ],
            [
             0.4444444444444444,
             "#bd3786"
            ],
            [
             0.5555555555555556,
             "#d8576b"
            ],
            [
             0.6666666666666666,
             "#ed7953"
            ],
            [
             0.7777777777777778,
             "#fb9f3a"
            ],
            [
             0.8888888888888888,
             "#fdca26"
            ],
            [
             1,
             "#f0f921"
            ]
           ],
           "sequentialminus": [
            [
             0,
             "#0d0887"
            ],
            [
             0.1111111111111111,
             "#46039f"
            ],
            [
             0.2222222222222222,
             "#7201a8"
            ],
            [
             0.3333333333333333,
             "#9c179e"
            ],
            [
             0.4444444444444444,
             "#bd3786"
            ],
            [
             0.5555555555555556,
             "#d8576b"
            ],
            [
             0.6666666666666666,
             "#ed7953"
            ],
            [
             0.7777777777777778,
             "#fb9f3a"
            ],
            [
             0.8888888888888888,
             "#fdca26"
            ],
            [
             1,
             "#f0f921"
            ]
           ]
          },
          "colorway": [
           "#636efa",
           "#EF553B",
           "#00cc96",
           "#ab63fa",
           "#FFA15A",
           "#19d3f3",
           "#FF6692",
           "#B6E880",
           "#FF97FF",
           "#FECB52"
          ],
          "font": {
           "color": "#2a3f5f"
          },
          "geo": {
           "bgcolor": "white",
           "lakecolor": "white",
           "landcolor": "#E5ECF6",
           "showlakes": true,
           "showland": true,
           "subunitcolor": "white"
          },
          "hoverlabel": {
           "align": "left"
          },
          "hovermode": "closest",
          "mapbox": {
           "style": "light"
          },
          "paper_bgcolor": "white",
          "plot_bgcolor": "#E5ECF6",
          "polar": {
           "angularaxis": {
            "gridcolor": "white",
            "linecolor": "white",
            "ticks": ""
           },
           "bgcolor": "#E5ECF6",
           "radialaxis": {
            "gridcolor": "white",
            "linecolor": "white",
            "ticks": ""
           }
          },
          "scene": {
           "xaxis": {
            "backgroundcolor": "#E5ECF6",
            "gridcolor": "white",
            "gridwidth": 2,
            "linecolor": "white",
            "showbackground": true,
            "ticks": "",
            "zerolinecolor": "white"
           },
           "yaxis": {
            "backgroundcolor": "#E5ECF6",
            "gridcolor": "white",
            "gridwidth": 2,
            "linecolor": "white",
            "showbackground": true,
            "ticks": "",
            "zerolinecolor": "white"
           },
           "zaxis": {
            "backgroundcolor": "#E5ECF6",
            "gridcolor": "white",
            "gridwidth": 2,
            "linecolor": "white",
            "showbackground": true,
            "ticks": "",
            "zerolinecolor": "white"
           }
          },
          "shapedefaults": {
           "line": {
            "color": "#2a3f5f"
           }
          },
          "ternary": {
           "aaxis": {
            "gridcolor": "white",
            "linecolor": "white",
            "ticks": ""
           },
           "baxis": {
            "gridcolor": "white",
            "linecolor": "white",
            "ticks": ""
           },
           "bgcolor": "#E5ECF6",
           "caxis": {
            "gridcolor": "white",
            "linecolor": "white",
            "ticks": ""
           }
          },
          "title": {
           "x": 0.05
          },
          "xaxis": {
           "automargin": true,
           "gridcolor": "white",
           "linecolor": "white",
           "ticks": "",
           "title": {
            "standoff": 15
           },
           "zerolinecolor": "white",
           "zerolinewidth": 2
          },
          "yaxis": {
           "automargin": true,
           "gridcolor": "white",
           "linecolor": "white",
           "ticks": "",
           "title": {
            "standoff": 15
           },
           "zerolinecolor": "white",
           "zerolinewidth": 2
          }
         }
        },
        "title": {
         "text": "Inclinação do Segmentos ST no ECG"
        },
        "width": 800,
        "xaxis": {
         "anchor": "y",
         "categoryarray": [
          "Up",
          "Flat",
          "Down"
         ],
         "categoryorder": "array",
         "domain": [
          0,
          1
         ],
         "title": {
          "text": "ST_Slope"
         }
        },
        "yaxis": {
         "anchor": "x",
         "domain": [
          0,
          1
         ],
         "title": {
          "text": "count"
         }
        }
       }
      }
     },
     "metadata": {},
     "output_type": "display_data"
    }
   ],
   "source": [
    "fig = px.histogram(df, x = 'ST_Slope', \n",
    "      color = 'ST_Slope',\n",
    "      labels = df.columns,\n",
    "      title = 'Inclinação do Segmentos ST no ECG')\n",
    "\n",
    "fig.update_layout(width = 800, height = 500)\n",
    "#width = 800, height = 500)\n",
    "\n",
    "fig.show()"
   ]
  },
  {
   "cell_type": "markdown",
   "metadata": {},
   "source": [
    "### **HeartDisease - Doença**"
   ]
  },
  {
   "cell_type": "code",
   "execution_count": 203,
   "metadata": {},
   "outputs": [
    {
     "data": {
      "text/plain": [
       "1    508\n",
       "0    410\n",
       "Name: HeartDisease, dtype: int64"
      ]
     },
     "execution_count": 203,
     "metadata": {},
     "output_type": "execute_result"
    }
   ],
   "source": [
    "df['HeartDisease'].value_counts()"
   ]
  },
  {
   "cell_type": "code",
   "execution_count": 204,
   "metadata": {},
   "outputs": [
    {
     "name": "stdout",
     "output_type": "stream",
     "text": [
      "Pessoas com problema cardiáco\n",
      "=============================\n",
      "1    55.34\n",
      "0    44.66\n",
      "Name: HeartDisease, dtype: float64\n",
      "=============================\n"
     ]
    }
   ],
   "source": [
    "#Verificnado percentual de pessoas com doenlas cardiácas\n",
    "mensagem = 'Pessoas com problema cardiáco'\n",
    "print(mensagem)\n",
    "print('=' * len(mensagem))\n",
    "\n",
    "print(round(df['HeartDisease'].value_counts() / df.shape[0] * 100,2))\n",
    "print('=' * len(mensagem))\n"
   ]
  },
  {
   "cell_type": "code",
   "execution_count": 205,
   "metadata": {},
   "outputs": [
    {
     "data": {
      "application/vnd.plotly.v1+json": {
       "config": {
        "plotlyServerURL": "https://plot.ly"
       },
       "data": [
        {
         "alignmentgroup": "True",
         "bingroup": "x",
         "hovertemplate": "HeartDisease=%{x}<br>count=%{y}<extra></extra>",
         "legendgroup": "0",
         "marker": {
          "color": "#636efa",
          "pattern": {
           "shape": ""
          }
         },
         "name": "0",
         "offsetgroup": "0",
         "orientation": "v",
         "showlegend": true,
         "type": "histogram",
         "x": [
          0,
          0,
          0,
          0,
          0,
          0,
          0,
          0,
          0,
          0,
          0,
          0,
          0,
          0,
          0,
          0,
          0,
          0,
          0,
          0,
          0,
          0,
          0,
          0,
          0,
          0,
          0,
          0,
          0,
          0,
          0,
          0,
          0,
          0,
          0,
          0,
          0,
          0,
          0,
          0,
          0,
          0,
          0,
          0,
          0,
          0,
          0,
          0,
          0,
          0,
          0,
          0,
          0,
          0,
          0,
          0,
          0,
          0,
          0,
          0,
          0,
          0,
          0,
          0,
          0,
          0,
          0,
          0,
          0,
          0,
          0,
          0,
          0,
          0,
          0,
          0,
          0,
          0,
          0,
          0,
          0,
          0,
          0,
          0,
          0,
          0,
          0,
          0,
          0,
          0,
          0,
          0,
          0,
          0,
          0,
          0,
          0,
          0,
          0,
          0,
          0,
          0,
          0,
          0,
          0,
          0,
          0,
          0,
          0,
          0,
          0,
          0,
          0,
          0,
          0,
          0,
          0,
          0,
          0,
          0,
          0,
          0,
          0,
          0,
          0,
          0,
          0,
          0,
          0,
          0,
          0,
          0,
          0,
          0,
          0,
          0,
          0,
          0,
          0,
          0,
          0,
          0,
          0,
          0,
          0,
          0,
          0,
          0,
          0,
          0,
          0,
          0,
          0,
          0,
          0,
          0,
          0,
          0,
          0,
          0,
          0,
          0,
          0,
          0,
          0,
          0,
          0,
          0,
          0,
          0,
          0,
          0,
          0,
          0,
          0,
          0,
          0,
          0,
          0,
          0,
          0,
          0,
          0,
          0,
          0,
          0,
          0,
          0,
          0,
          0,
          0,
          0,
          0,
          0,
          0,
          0,
          0,
          0,
          0,
          0,
          0,
          0,
          0,
          0,
          0,
          0,
          0,
          0,
          0,
          0,
          0,
          0,
          0,
          0,
          0,
          0,
          0,
          0,
          0,
          0,
          0,
          0,
          0,
          0,
          0,
          0,
          0,
          0,
          0,
          0,
          0,
          0,
          0,
          0,
          0,
          0,
          0,
          0,
          0,
          0,
          0,
          0,
          0,
          0,
          0,
          0,
          0,
          0,
          0,
          0,
          0,
          0,
          0,
          0,
          0,
          0,
          0,
          0,
          0,
          0,
          0,
          0,
          0,
          0,
          0,
          0,
          0,
          0,
          0,
          0,
          0,
          0,
          0,
          0,
          0,
          0,
          0,
          0,
          0,
          0,
          0,
          0,
          0,
          0,
          0,
          0,
          0,
          0,
          0,
          0,
          0,
          0,
          0,
          0,
          0,
          0,
          0,
          0,
          0,
          0,
          0,
          0,
          0,
          0,
          0,
          0,
          0,
          0,
          0,
          0,
          0,
          0,
          0,
          0,
          0,
          0,
          0,
          0,
          0,
          0,
          0,
          0,
          0,
          0,
          0,
          0,
          0,
          0,
          0,
          0,
          0,
          0,
          0,
          0,
          0,
          0,
          0,
          0,
          0,
          0,
          0,
          0,
          0,
          0,
          0,
          0,
          0,
          0,
          0,
          0,
          0,
          0,
          0,
          0,
          0,
          0,
          0,
          0,
          0,
          0,
          0,
          0,
          0,
          0,
          0,
          0,
          0,
          0,
          0,
          0,
          0,
          0,
          0,
          0,
          0,
          0,
          0,
          0,
          0,
          0,
          0,
          0,
          0,
          0,
          0,
          0,
          0,
          0,
          0,
          0,
          0,
          0,
          0,
          0,
          0,
          0,
          0,
          0,
          0,
          0,
          0,
          0,
          0,
          0,
          0,
          0,
          0,
          0,
          0,
          0
         ],
         "xaxis": "x",
         "yaxis": "y"
        },
        {
         "alignmentgroup": "True",
         "bingroup": "x",
         "hovertemplate": "HeartDisease=%{x}<br>count=%{y}<extra></extra>",
         "legendgroup": "1",
         "marker": {
          "color": "#EF553B",
          "pattern": {
           "shape": ""
          }
         },
         "name": "1",
         "offsetgroup": "1",
         "orientation": "v",
         "showlegend": true,
         "type": "histogram",
         "x": [
          1,
          1,
          1,
          1,
          1,
          1,
          1,
          1,
          1,
          1,
          1,
          1,
          1,
          1,
          1,
          1,
          1,
          1,
          1,
          1,
          1,
          1,
          1,
          1,
          1,
          1,
          1,
          1,
          1,
          1,
          1,
          1,
          1,
          1,
          1,
          1,
          1,
          1,
          1,
          1,
          1,
          1,
          1,
          1,
          1,
          1,
          1,
          1,
          1,
          1,
          1,
          1,
          1,
          1,
          1,
          1,
          1,
          1,
          1,
          1,
          1,
          1,
          1,
          1,
          1,
          1,
          1,
          1,
          1,
          1,
          1,
          1,
          1,
          1,
          1,
          1,
          1,
          1,
          1,
          1,
          1,
          1,
          1,
          1,
          1,
          1,
          1,
          1,
          1,
          1,
          1,
          1,
          1,
          1,
          1,
          1,
          1,
          1,
          1,
          1,
          1,
          1,
          1,
          1,
          1,
          1,
          1,
          1,
          1,
          1,
          1,
          1,
          1,
          1,
          1,
          1,
          1,
          1,
          1,
          1,
          1,
          1,
          1,
          1,
          1,
          1,
          1,
          1,
          1,
          1,
          1,
          1,
          1,
          1,
          1,
          1,
          1,
          1,
          1,
          1,
          1,
          1,
          1,
          1,
          1,
          1,
          1,
          1,
          1,
          1,
          1,
          1,
          1,
          1,
          1,
          1,
          1,
          1,
          1,
          1,
          1,
          1,
          1,
          1,
          1,
          1,
          1,
          1,
          1,
          1,
          1,
          1,
          1,
          1,
          1,
          1,
          1,
          1,
          1,
          1,
          1,
          1,
          1,
          1,
          1,
          1,
          1,
          1,
          1,
          1,
          1,
          1,
          1,
          1,
          1,
          1,
          1,
          1,
          1,
          1,
          1,
          1,
          1,
          1,
          1,
          1,
          1,
          1,
          1,
          1,
          1,
          1,
          1,
          1,
          1,
          1,
          1,
          1,
          1,
          1,
          1,
          1,
          1,
          1,
          1,
          1,
          1,
          1,
          1,
          1,
          1,
          1,
          1,
          1,
          1,
          1,
          1,
          1,
          1,
          1,
          1,
          1,
          1,
          1,
          1,
          1,
          1,
          1,
          1,
          1,
          1,
          1,
          1,
          1,
          1,
          1,
          1,
          1,
          1,
          1,
          1,
          1,
          1,
          1,
          1,
          1,
          1,
          1,
          1,
          1,
          1,
          1,
          1,
          1,
          1,
          1,
          1,
          1,
          1,
          1,
          1,
          1,
          1,
          1,
          1,
          1,
          1,
          1,
          1,
          1,
          1,
          1,
          1,
          1,
          1,
          1,
          1,
          1,
          1,
          1,
          1,
          1,
          1,
          1,
          1,
          1,
          1,
          1,
          1,
          1,
          1,
          1,
          1,
          1,
          1,
          1,
          1,
          1,
          1,
          1,
          1,
          1,
          1,
          1,
          1,
          1,
          1,
          1,
          1,
          1,
          1,
          1,
          1,
          1,
          1,
          1,
          1,
          1,
          1,
          1,
          1,
          1,
          1,
          1,
          1,
          1,
          1,
          1,
          1,
          1,
          1,
          1,
          1,
          1,
          1,
          1,
          1,
          1,
          1,
          1,
          1,
          1,
          1,
          1,
          1,
          1,
          1,
          1,
          1,
          1,
          1,
          1,
          1,
          1,
          1,
          1,
          1,
          1,
          1,
          1,
          1,
          1,
          1,
          1,
          1,
          1,
          1,
          1,
          1,
          1,
          1,
          1,
          1,
          1,
          1,
          1,
          1,
          1,
          1,
          1,
          1,
          1,
          1,
          1,
          1,
          1,
          1,
          1,
          1,
          1,
          1,
          1,
          1,
          1,
          1,
          1,
          1,
          1,
          1,
          1,
          1,
          1,
          1,
          1,
          1,
          1,
          1,
          1,
          1,
          1,
          1,
          1,
          1,
          1,
          1,
          1,
          1,
          1,
          1,
          1,
          1,
          1,
          1,
          1,
          1,
          1,
          1,
          1,
          1,
          1,
          1,
          1,
          1,
          1,
          1,
          1,
          1,
          1,
          1,
          1,
          1,
          1,
          1,
          1,
          1,
          1,
          1,
          1,
          1,
          1,
          1,
          1,
          1,
          1,
          1,
          1,
          1,
          1,
          1,
          1,
          1,
          1,
          1,
          1,
          1,
          1,
          1,
          1,
          1,
          1,
          1,
          1,
          1,
          1,
          1,
          1,
          1,
          1,
          1,
          1,
          1,
          1,
          1,
          1,
          1,
          1,
          1,
          1
         ],
         "xaxis": "x",
         "yaxis": "y"
        }
       ],
       "layout": {
        "barmode": "relative",
        "height": 500,
        "legend": {
         "title": {
          "text": "HeartDisease"
         },
         "tracegroupgap": 0
        },
        "template": {
         "data": {
          "bar": [
           {
            "error_x": {
             "color": "#2a3f5f"
            },
            "error_y": {
             "color": "#2a3f5f"
            },
            "marker": {
             "line": {
              "color": "#E5ECF6",
              "width": 0.5
             },
             "pattern": {
              "fillmode": "overlay",
              "size": 10,
              "solidity": 0.2
             }
            },
            "type": "bar"
           }
          ],
          "barpolar": [
           {
            "marker": {
             "line": {
              "color": "#E5ECF6",
              "width": 0.5
             },
             "pattern": {
              "fillmode": "overlay",
              "size": 10,
              "solidity": 0.2
             }
            },
            "type": "barpolar"
           }
          ],
          "carpet": [
           {
            "aaxis": {
             "endlinecolor": "#2a3f5f",
             "gridcolor": "white",
             "linecolor": "white",
             "minorgridcolor": "white",
             "startlinecolor": "#2a3f5f"
            },
            "baxis": {
             "endlinecolor": "#2a3f5f",
             "gridcolor": "white",
             "linecolor": "white",
             "minorgridcolor": "white",
             "startlinecolor": "#2a3f5f"
            },
            "type": "carpet"
           }
          ],
          "choropleth": [
           {
            "colorbar": {
             "outlinewidth": 0,
             "ticks": ""
            },
            "type": "choropleth"
           }
          ],
          "contour": [
           {
            "colorbar": {
             "outlinewidth": 0,
             "ticks": ""
            },
            "colorscale": [
             [
              0,
              "#0d0887"
             ],
             [
              0.1111111111111111,
              "#46039f"
             ],
             [
              0.2222222222222222,
              "#7201a8"
             ],
             [
              0.3333333333333333,
              "#9c179e"
             ],
             [
              0.4444444444444444,
              "#bd3786"
             ],
             [
              0.5555555555555556,
              "#d8576b"
             ],
             [
              0.6666666666666666,
              "#ed7953"
             ],
             [
              0.7777777777777778,
              "#fb9f3a"
             ],
             [
              0.8888888888888888,
              "#fdca26"
             ],
             [
              1,
              "#f0f921"
             ]
            ],
            "type": "contour"
           }
          ],
          "contourcarpet": [
           {
            "colorbar": {
             "outlinewidth": 0,
             "ticks": ""
            },
            "type": "contourcarpet"
           }
          ],
          "heatmap": [
           {
            "colorbar": {
             "outlinewidth": 0,
             "ticks": ""
            },
            "colorscale": [
             [
              0,
              "#0d0887"
             ],
             [
              0.1111111111111111,
              "#46039f"
             ],
             [
              0.2222222222222222,
              "#7201a8"
             ],
             [
              0.3333333333333333,
              "#9c179e"
             ],
             [
              0.4444444444444444,
              "#bd3786"
             ],
             [
              0.5555555555555556,
              "#d8576b"
             ],
             [
              0.6666666666666666,
              "#ed7953"
             ],
             [
              0.7777777777777778,
              "#fb9f3a"
             ],
             [
              0.8888888888888888,
              "#fdca26"
             ],
             [
              1,
              "#f0f921"
             ]
            ],
            "type": "heatmap"
           }
          ],
          "heatmapgl": [
           {
            "colorbar": {
             "outlinewidth": 0,
             "ticks": ""
            },
            "colorscale": [
             [
              0,
              "#0d0887"
             ],
             [
              0.1111111111111111,
              "#46039f"
             ],
             [
              0.2222222222222222,
              "#7201a8"
             ],
             [
              0.3333333333333333,
              "#9c179e"
             ],
             [
              0.4444444444444444,
              "#bd3786"
             ],
             [
              0.5555555555555556,
              "#d8576b"
             ],
             [
              0.6666666666666666,
              "#ed7953"
             ],
             [
              0.7777777777777778,
              "#fb9f3a"
             ],
             [
              0.8888888888888888,
              "#fdca26"
             ],
             [
              1,
              "#f0f921"
             ]
            ],
            "type": "heatmapgl"
           }
          ],
          "histogram": [
           {
            "marker": {
             "pattern": {
              "fillmode": "overlay",
              "size": 10,
              "solidity": 0.2
             }
            },
            "type": "histogram"
           }
          ],
          "histogram2d": [
           {
            "colorbar": {
             "outlinewidth": 0,
             "ticks": ""
            },
            "colorscale": [
             [
              0,
              "#0d0887"
             ],
             [
              0.1111111111111111,
              "#46039f"
             ],
             [
              0.2222222222222222,
              "#7201a8"
             ],
             [
              0.3333333333333333,
              "#9c179e"
             ],
             [
              0.4444444444444444,
              "#bd3786"
             ],
             [
              0.5555555555555556,
              "#d8576b"
             ],
             [
              0.6666666666666666,
              "#ed7953"
             ],
             [
              0.7777777777777778,
              "#fb9f3a"
             ],
             [
              0.8888888888888888,
              "#fdca26"
             ],
             [
              1,
              "#f0f921"
             ]
            ],
            "type": "histogram2d"
           }
          ],
          "histogram2dcontour": [
           {
            "colorbar": {
             "outlinewidth": 0,
             "ticks": ""
            },
            "colorscale": [
             [
              0,
              "#0d0887"
             ],
             [
              0.1111111111111111,
              "#46039f"
             ],
             [
              0.2222222222222222,
              "#7201a8"
             ],
             [
              0.3333333333333333,
              "#9c179e"
             ],
             [
              0.4444444444444444,
              "#bd3786"
             ],
             [
              0.5555555555555556,
              "#d8576b"
             ],
             [
              0.6666666666666666,
              "#ed7953"
             ],
             [
              0.7777777777777778,
              "#fb9f3a"
             ],
             [
              0.8888888888888888,
              "#fdca26"
             ],
             [
              1,
              "#f0f921"
             ]
            ],
            "type": "histogram2dcontour"
           }
          ],
          "mesh3d": [
           {
            "colorbar": {
             "outlinewidth": 0,
             "ticks": ""
            },
            "type": "mesh3d"
           }
          ],
          "parcoords": [
           {
            "line": {
             "colorbar": {
              "outlinewidth": 0,
              "ticks": ""
             }
            },
            "type": "parcoords"
           }
          ],
          "pie": [
           {
            "automargin": true,
            "type": "pie"
           }
          ],
          "scatter": [
           {
            "marker": {
             "colorbar": {
              "outlinewidth": 0,
              "ticks": ""
             }
            },
            "type": "scatter"
           }
          ],
          "scatter3d": [
           {
            "line": {
             "colorbar": {
              "outlinewidth": 0,
              "ticks": ""
             }
            },
            "marker": {
             "colorbar": {
              "outlinewidth": 0,
              "ticks": ""
             }
            },
            "type": "scatter3d"
           }
          ],
          "scattercarpet": [
           {
            "marker": {
             "colorbar": {
              "outlinewidth": 0,
              "ticks": ""
             }
            },
            "type": "scattercarpet"
           }
          ],
          "scattergeo": [
           {
            "marker": {
             "colorbar": {
              "outlinewidth": 0,
              "ticks": ""
             }
            },
            "type": "scattergeo"
           }
          ],
          "scattergl": [
           {
            "marker": {
             "colorbar": {
              "outlinewidth": 0,
              "ticks": ""
             }
            },
            "type": "scattergl"
           }
          ],
          "scattermapbox": [
           {
            "marker": {
             "colorbar": {
              "outlinewidth": 0,
              "ticks": ""
             }
            },
            "type": "scattermapbox"
           }
          ],
          "scatterpolar": [
           {
            "marker": {
             "colorbar": {
              "outlinewidth": 0,
              "ticks": ""
             }
            },
            "type": "scatterpolar"
           }
          ],
          "scatterpolargl": [
           {
            "marker": {
             "colorbar": {
              "outlinewidth": 0,
              "ticks": ""
             }
            },
            "type": "scatterpolargl"
           }
          ],
          "scatterternary": [
           {
            "marker": {
             "colorbar": {
              "outlinewidth": 0,
              "ticks": ""
             }
            },
            "type": "scatterternary"
           }
          ],
          "surface": [
           {
            "colorbar": {
             "outlinewidth": 0,
             "ticks": ""
            },
            "colorscale": [
             [
              0,
              "#0d0887"
             ],
             [
              0.1111111111111111,
              "#46039f"
             ],
             [
              0.2222222222222222,
              "#7201a8"
             ],
             [
              0.3333333333333333,
              "#9c179e"
             ],
             [
              0.4444444444444444,
              "#bd3786"
             ],
             [
              0.5555555555555556,
              "#d8576b"
             ],
             [
              0.6666666666666666,
              "#ed7953"
             ],
             [
              0.7777777777777778,
              "#fb9f3a"
             ],
             [
              0.8888888888888888,
              "#fdca26"
             ],
             [
              1,
              "#f0f921"
             ]
            ],
            "type": "surface"
           }
          ],
          "table": [
           {
            "cells": {
             "fill": {
              "color": "#EBF0F8"
             },
             "line": {
              "color": "white"
             }
            },
            "header": {
             "fill": {
              "color": "#C8D4E3"
             },
             "line": {
              "color": "white"
             }
            },
            "type": "table"
           }
          ]
         },
         "layout": {
          "annotationdefaults": {
           "arrowcolor": "#2a3f5f",
           "arrowhead": 0,
           "arrowwidth": 1
          },
          "autotypenumbers": "strict",
          "coloraxis": {
           "colorbar": {
            "outlinewidth": 0,
            "ticks": ""
           }
          },
          "colorscale": {
           "diverging": [
            [
             0,
             "#8e0152"
            ],
            [
             0.1,
             "#c51b7d"
            ],
            [
             0.2,
             "#de77ae"
            ],
            [
             0.3,
             "#f1b6da"
            ],
            [
             0.4,
             "#fde0ef"
            ],
            [
             0.5,
             "#f7f7f7"
            ],
            [
             0.6,
             "#e6f5d0"
            ],
            [
             0.7,
             "#b8e186"
            ],
            [
             0.8,
             "#7fbc41"
            ],
            [
             0.9,
             "#4d9221"
            ],
            [
             1,
             "#276419"
            ]
           ],
           "sequential": [
            [
             0,
             "#0d0887"
            ],
            [
             0.1111111111111111,
             "#46039f"
            ],
            [
             0.2222222222222222,
             "#7201a8"
            ],
            [
             0.3333333333333333,
             "#9c179e"
            ],
            [
             0.4444444444444444,
             "#bd3786"
            ],
            [
             0.5555555555555556,
             "#d8576b"
            ],
            [
             0.6666666666666666,
             "#ed7953"
            ],
            [
             0.7777777777777778,
             "#fb9f3a"
            ],
            [
             0.8888888888888888,
             "#fdca26"
            ],
            [
             1,
             "#f0f921"
            ]
           ],
           "sequentialminus": [
            [
             0,
             "#0d0887"
            ],
            [
             0.1111111111111111,
             "#46039f"
            ],
            [
             0.2222222222222222,
             "#7201a8"
            ],
            [
             0.3333333333333333,
             "#9c179e"
            ],
            [
             0.4444444444444444,
             "#bd3786"
            ],
            [
             0.5555555555555556,
             "#d8576b"
            ],
            [
             0.6666666666666666,
             "#ed7953"
            ],
            [
             0.7777777777777778,
             "#fb9f3a"
            ],
            [
             0.8888888888888888,
             "#fdca26"
            ],
            [
             1,
             "#f0f921"
            ]
           ]
          },
          "colorway": [
           "#636efa",
           "#EF553B",
           "#00cc96",
           "#ab63fa",
           "#FFA15A",
           "#19d3f3",
           "#FF6692",
           "#B6E880",
           "#FF97FF",
           "#FECB52"
          ],
          "font": {
           "color": "#2a3f5f"
          },
          "geo": {
           "bgcolor": "white",
           "lakecolor": "white",
           "landcolor": "#E5ECF6",
           "showlakes": true,
           "showland": true,
           "subunitcolor": "white"
          },
          "hoverlabel": {
           "align": "left"
          },
          "hovermode": "closest",
          "mapbox": {
           "style": "light"
          },
          "paper_bgcolor": "white",
          "plot_bgcolor": "#E5ECF6",
          "polar": {
           "angularaxis": {
            "gridcolor": "white",
            "linecolor": "white",
            "ticks": ""
           },
           "bgcolor": "#E5ECF6",
           "radialaxis": {
            "gridcolor": "white",
            "linecolor": "white",
            "ticks": ""
           }
          },
          "scene": {
           "xaxis": {
            "backgroundcolor": "#E5ECF6",
            "gridcolor": "white",
            "gridwidth": 2,
            "linecolor": "white",
            "showbackground": true,
            "ticks": "",
            "zerolinecolor": "white"
           },
           "yaxis": {
            "backgroundcolor": "#E5ECF6",
            "gridcolor": "white",
            "gridwidth": 2,
            "linecolor": "white",
            "showbackground": true,
            "ticks": "",
            "zerolinecolor": "white"
           },
           "zaxis": {
            "backgroundcolor": "#E5ECF6",
            "gridcolor": "white",
            "gridwidth": 2,
            "linecolor": "white",
            "showbackground": true,
            "ticks": "",
            "zerolinecolor": "white"
           }
          },
          "shapedefaults": {
           "line": {
            "color": "#2a3f5f"
           }
          },
          "ternary": {
           "aaxis": {
            "gridcolor": "white",
            "linecolor": "white",
            "ticks": ""
           },
           "baxis": {
            "gridcolor": "white",
            "linecolor": "white",
            "ticks": ""
           },
           "bgcolor": "#E5ECF6",
           "caxis": {
            "gridcolor": "white",
            "linecolor": "white",
            "ticks": ""
           }
          },
          "title": {
           "x": 0.05
          },
          "xaxis": {
           "automargin": true,
           "gridcolor": "white",
           "linecolor": "white",
           "ticks": "",
           "title": {
            "standoff": 15
           },
           "zerolinecolor": "white",
           "zerolinewidth": 2
          },
          "yaxis": {
           "automargin": true,
           "gridcolor": "white",
           "linecolor": "white",
           "ticks": "",
           "title": {
            "standoff": 15
           },
           "zerolinecolor": "white",
           "zerolinewidth": 2
          }
         }
        },
        "title": {
         "text": "Pessoas com Doenças Cardiácas"
        },
        "width": 800,
        "xaxis": {
         "anchor": "y",
         "categoryarray": [
          0,
          1
         ],
         "categoryorder": "array",
         "domain": [
          0,
          1
         ],
         "title": {
          "text": "HeartDisease"
         }
        },
        "yaxis": {
         "anchor": "x",
         "domain": [
          0,
          1
         ],
         "title": {
          "text": "count"
         }
        }
       }
      }
     },
     "metadata": {},
     "output_type": "display_data"
    }
   ],
   "source": [
    "fig = px.histogram(df, x = 'HeartDisease',\n",
    "     labels = df.columns,\n",
    "     color= 'HeartDisease',\n",
    "     title = 'Pessoas com Doenças Cardiácas')\n",
    "\n",
    "fig.update_layout(width = 800, height = 500)\n",
    "\n",
    "\n",
    "\n",
    "fig.show()"
   ]
  },
  {
   "cell_type": "markdown",
   "metadata": {},
   "source": [
    "## **Análise dos tipos de atributos.**"
   ]
  },
  {
   "cell_type": "code",
   "execution_count": 206,
   "metadata": {},
   "outputs": [
    {
     "name": "stdout",
     "output_type": "stream",
     "text": [
      "<class 'pandas.core.frame.DataFrame'>\n",
      "RangeIndex: 918 entries, 0 to 917\n",
      "Data columns (total 12 columns):\n",
      " #   Column          Non-Null Count  Dtype  \n",
      "---  ------          --------------  -----  \n",
      " 0   Age             918 non-null    int64  \n",
      " 1   Sex             918 non-null    object \n",
      " 2   ChestPainType   918 non-null    object \n",
      " 3   RestingBP       918 non-null    int64  \n",
      " 4   Cholesterol     918 non-null    int64  \n",
      " 5   FastingBS       918 non-null    int64  \n",
      " 6   RestingECG      918 non-null    object \n",
      " 7   MaxHR           918 non-null    int64  \n",
      " 8   ExerciseAngina  918 non-null    object \n",
      " 9   Oldpeak         918 non-null    float64\n",
      " 10  ST_Slope        918 non-null    object \n",
      " 11  HeartDisease    918 non-null    int64  \n",
      "dtypes: float64(1), int64(6), object(5)\n",
      "memory usage: 86.2+ KB\n"
     ]
    }
   ],
   "source": [
    "df.info()"
   ]
  },
  {
   "cell_type": "markdown",
   "metadata": {},
   "source": [
    "### **Separando dados entre Numéricos e Categóricos**"
   ]
  },
  {
   "cell_type": "code",
   "execution_count": 207,
   "metadata": {},
   "outputs": [],
   "source": [
    "#Selecionando e armazenando as colunas Categóricas em uma lista\n",
    "categoricos = df.select_dtypes(include=\"object\").columns\n",
    "categoricos = list(categoricos)\n",
    "\n",
    "#Selecionando e armazenando as colunas numéricas em uma lista\n",
    "numericos = df.drop(categoricos, axis= 1).columns\n"
   ]
  },
  {
   "cell_type": "code",
   "execution_count": 224,
   "metadata": {},
   "outputs": [
    {
     "data": {
      "text/html": [
       "<div>\n",
       "<style scoped>\n",
       "    .dataframe tbody tr th:only-of-type {\n",
       "        vertical-align: middle;\n",
       "    }\n",
       "\n",
       "    .dataframe tbody tr th {\n",
       "        vertical-align: top;\n",
       "    }\n",
       "\n",
       "    .dataframe thead th {\n",
       "        text-align: right;\n",
       "    }\n",
       "</style>\n",
       "<table border=\"1\" class=\"dataframe\">\n",
       "  <thead>\n",
       "    <tr style=\"text-align: right;\">\n",
       "      <th></th>\n",
       "      <th>count</th>\n",
       "      <th>mean</th>\n",
       "      <th>std</th>\n",
       "      <th>min</th>\n",
       "      <th>25%</th>\n",
       "      <th>50%</th>\n",
       "      <th>75%</th>\n",
       "      <th>max</th>\n",
       "    </tr>\n",
       "  </thead>\n",
       "  <tbody>\n",
       "    <tr>\n",
       "      <th>Age</th>\n",
       "      <td>918.0</td>\n",
       "      <td>53.510893</td>\n",
       "      <td>9.432617</td>\n",
       "      <td>28.0</td>\n",
       "      <td>47.00</td>\n",
       "      <td>54.0</td>\n",
       "      <td>60.0</td>\n",
       "      <td>77.0</td>\n",
       "    </tr>\n",
       "    <tr>\n",
       "      <th>RestingBP</th>\n",
       "      <td>918.0</td>\n",
       "      <td>132.396514</td>\n",
       "      <td>18.514154</td>\n",
       "      <td>0.0</td>\n",
       "      <td>120.00</td>\n",
       "      <td>130.0</td>\n",
       "      <td>140.0</td>\n",
       "      <td>200.0</td>\n",
       "    </tr>\n",
       "    <tr>\n",
       "      <th>Cholesterol</th>\n",
       "      <td>918.0</td>\n",
       "      <td>198.799564</td>\n",
       "      <td>109.384145</td>\n",
       "      <td>0.0</td>\n",
       "      <td>173.25</td>\n",
       "      <td>223.0</td>\n",
       "      <td>267.0</td>\n",
       "      <td>603.0</td>\n",
       "    </tr>\n",
       "    <tr>\n",
       "      <th>FastingBS</th>\n",
       "      <td>918.0</td>\n",
       "      <td>0.233115</td>\n",
       "      <td>0.423046</td>\n",
       "      <td>0.0</td>\n",
       "      <td>0.00</td>\n",
       "      <td>0.0</td>\n",
       "      <td>0.0</td>\n",
       "      <td>1.0</td>\n",
       "    </tr>\n",
       "    <tr>\n",
       "      <th>MaxHR</th>\n",
       "      <td>918.0</td>\n",
       "      <td>136.809368</td>\n",
       "      <td>25.460334</td>\n",
       "      <td>60.0</td>\n",
       "      <td>120.00</td>\n",
       "      <td>138.0</td>\n",
       "      <td>156.0</td>\n",
       "      <td>202.0</td>\n",
       "    </tr>\n",
       "    <tr>\n",
       "      <th>Oldpeak</th>\n",
       "      <td>918.0</td>\n",
       "      <td>0.887364</td>\n",
       "      <td>1.066570</td>\n",
       "      <td>-2.6</td>\n",
       "      <td>0.00</td>\n",
       "      <td>0.6</td>\n",
       "      <td>1.5</td>\n",
       "      <td>6.2</td>\n",
       "    </tr>\n",
       "    <tr>\n",
       "      <th>HeartDisease</th>\n",
       "      <td>918.0</td>\n",
       "      <td>0.553377</td>\n",
       "      <td>0.497414</td>\n",
       "      <td>0.0</td>\n",
       "      <td>0.00</td>\n",
       "      <td>1.0</td>\n",
       "      <td>1.0</td>\n",
       "      <td>1.0</td>\n",
       "    </tr>\n",
       "  </tbody>\n",
       "</table>\n",
       "</div>"
      ],
      "text/plain": [
       "              count        mean         std   min     25%    50%    75%    max\n",
       "Age           918.0   53.510893    9.432617  28.0   47.00   54.0   60.0   77.0\n",
       "RestingBP     918.0  132.396514   18.514154   0.0  120.00  130.0  140.0  200.0\n",
       "Cholesterol   918.0  198.799564  109.384145   0.0  173.25  223.0  267.0  603.0\n",
       "FastingBS     918.0    0.233115    0.423046   0.0    0.00    0.0    0.0    1.0\n",
       "MaxHR         918.0  136.809368   25.460334  60.0  120.00  138.0  156.0  202.0\n",
       "Oldpeak       918.0    0.887364    1.066570  -2.6    0.00    0.6    1.5    6.2\n",
       "HeartDisease  918.0    0.553377    0.497414   0.0    0.00    1.0    1.0    1.0"
      ]
     },
     "execution_count": 224,
     "metadata": {},
     "output_type": "execute_result"
    }
   ],
   "source": [
    "df[numericos].describe().T"
   ]
  },
  {
   "cell_type": "code",
   "execution_count": 225,
   "metadata": {},
   "outputs": [],
   "source": [
    "df_limpo = df.copy()"
   ]
  },
  {
   "cell_type": "markdown",
   "metadata": {},
   "source": [
    "\n",
    "- **Age:** idade do paciente [anos]\n",
    "\n",
    "- **Sex:** sexo do paciente [M: Masculino, F: Feminino]\n",
    "\n",
    "- **ChestPainType:** tipo de dor no peito [TA: Angina Típica, ATA: Angina Atípica, NAP: Dor Não Anginosa, ASY: Assintomática]\n",
    "\n",
    "- **RestingBP:** pressão arterial de repouso [mm Hg]\n",
    "\n",
    "- **Cholesterol:** colesterol sérico [mm/dl]\n",
    "\n",
    "- **FastingBS:** glicemia em jejum [1: se FastingBS > 120 mg/dl, 0: caso contrário]\n",
    "\n",
    "- **RestingECG:** resultados do eletrocardiograma de repouso [Normal: normal, ST: com anormalidade da onda ST-T (inversões da onda T e/ou elevação ou depressão do ST > 0,05 mV), HVE: mostrando provável ou definitiva hipertrofia ventricular esquerda pelos critérios de Estes]\n",
    "\n",
    "- **MaxHR:** frequência cardíaca máxima alcançada [Valor numérico entre 60 e 202]\n",
    "\n",
    "- **ExerciseAngina:** angina induzida por exercício [S: Sim, N: Não]\n",
    "\n",
    "- **Oldpeak:** pico antigo = ST [Valor numérico medido em depressão]\n",
    "\n",
    "- **ST_Slope:** a inclinação do segmento ST do exercício de pico [Up: upsloping, Flat: flat, Down: downsloping]\n",
    "\n",
    "- **HeartDisease:** classe de saída [1: doença cardíaca, 0: normal]\n",
    "\n",
    "==========================================================================================================================\n"
   ]
  },
  {
   "cell_type": "code",
   "execution_count": 227,
   "metadata": {},
   "outputs": [
    {
     "data": {
      "text/html": [
       "<div>\n",
       "<style scoped>\n",
       "    .dataframe tbody tr th:only-of-type {\n",
       "        vertical-align: middle;\n",
       "    }\n",
       "\n",
       "    .dataframe tbody tr th {\n",
       "        vertical-align: top;\n",
       "    }\n",
       "\n",
       "    .dataframe thead th {\n",
       "        text-align: right;\n",
       "    }\n",
       "</style>\n",
       "<table border=\"1\" class=\"dataframe\">\n",
       "  <thead>\n",
       "    <tr style=\"text-align: right;\">\n",
       "      <th></th>\n",
       "      <th>count</th>\n",
       "      <th>mean</th>\n",
       "      <th>std</th>\n",
       "      <th>min</th>\n",
       "      <th>25%</th>\n",
       "      <th>50%</th>\n",
       "      <th>75%</th>\n",
       "      <th>max</th>\n",
       "    </tr>\n",
       "  </thead>\n",
       "  <tbody>\n",
       "    <tr>\n",
       "      <th>Age</th>\n",
       "      <td>917.0</td>\n",
       "      <td>53.509269</td>\n",
       "      <td>9.437636</td>\n",
       "      <td>28.0</td>\n",
       "      <td>47.0</td>\n",
       "      <td>54.0</td>\n",
       "      <td>60.0</td>\n",
       "      <td>77.0</td>\n",
       "    </tr>\n",
       "    <tr>\n",
       "      <th>RestingBP</th>\n",
       "      <td>917.0</td>\n",
       "      <td>132.540894</td>\n",
       "      <td>17.999749</td>\n",
       "      <td>80.0</td>\n",
       "      <td>120.0</td>\n",
       "      <td>130.0</td>\n",
       "      <td>140.0</td>\n",
       "      <td>200.0</td>\n",
       "    </tr>\n",
       "    <tr>\n",
       "      <th>Cholesterol</th>\n",
       "      <td>917.0</td>\n",
       "      <td>199.016358</td>\n",
       "      <td>109.246330</td>\n",
       "      <td>0.0</td>\n",
       "      <td>174.0</td>\n",
       "      <td>223.0</td>\n",
       "      <td>267.0</td>\n",
       "      <td>603.0</td>\n",
       "    </tr>\n",
       "    <tr>\n",
       "      <th>FastingBS</th>\n",
       "      <td>917.0</td>\n",
       "      <td>0.233370</td>\n",
       "      <td>0.423206</td>\n",
       "      <td>0.0</td>\n",
       "      <td>0.0</td>\n",
       "      <td>0.0</td>\n",
       "      <td>0.0</td>\n",
       "      <td>1.0</td>\n",
       "    </tr>\n",
       "    <tr>\n",
       "      <th>MaxHR</th>\n",
       "      <td>917.0</td>\n",
       "      <td>136.789531</td>\n",
       "      <td>25.467129</td>\n",
       "      <td>60.0</td>\n",
       "      <td>120.0</td>\n",
       "      <td>138.0</td>\n",
       "      <td>156.0</td>\n",
       "      <td>202.0</td>\n",
       "    </tr>\n",
       "    <tr>\n",
       "      <th>Oldpeak</th>\n",
       "      <td>917.0</td>\n",
       "      <td>0.886696</td>\n",
       "      <td>1.066960</td>\n",
       "      <td>-2.6</td>\n",
       "      <td>0.0</td>\n",
       "      <td>0.6</td>\n",
       "      <td>1.5</td>\n",
       "      <td>6.2</td>\n",
       "    </tr>\n",
       "    <tr>\n",
       "      <th>HeartDisease</th>\n",
       "      <td>917.0</td>\n",
       "      <td>0.552890</td>\n",
       "      <td>0.497466</td>\n",
       "      <td>0.0</td>\n",
       "      <td>0.0</td>\n",
       "      <td>1.0</td>\n",
       "      <td>1.0</td>\n",
       "      <td>1.0</td>\n",
       "    </tr>\n",
       "  </tbody>\n",
       "</table>\n",
       "</div>"
      ],
      "text/plain": [
       "              count        mean         std   min    25%    50%    75%    max\n",
       "Age           917.0   53.509269    9.437636  28.0   47.0   54.0   60.0   77.0\n",
       "RestingBP     917.0  132.540894   17.999749  80.0  120.0  130.0  140.0  200.0\n",
       "Cholesterol   917.0  199.016358  109.246330   0.0  174.0  223.0  267.0  603.0\n",
       "FastingBS     917.0    0.233370    0.423206   0.0    0.0    0.0    0.0    1.0\n",
       "MaxHR         917.0  136.789531   25.467129  60.0  120.0  138.0  156.0  202.0\n",
       "Oldpeak       917.0    0.886696    1.066960  -2.6    0.0    0.6    1.5    6.2\n",
       "HeartDisease  917.0    0.552890    0.497466   0.0    0.0    1.0    1.0    1.0"
      ]
     },
     "execution_count": 227,
     "metadata": {},
     "output_type": "execute_result"
    }
   ],
   "source": [
    "#Como tenho apenas 1 linha com valor 0, vou exclui-la\n",
    "#Elimando Linhas onde o Valor de RestingBP seja igual a 0\n",
    "filtro = df_limpo.loc[df_limpo['RestingBP']==0]\n",
    "df_limpo.drop(filtro.index, inplace= True)\n",
    "\n",
    "df_limpo.describe().T\n",
    "\n"
   ]
  },
  {
   "cell_type": "code",
   "execution_count": 246,
   "metadata": {},
   "outputs": [
    {
     "name": "stdout",
     "output_type": "stream",
     "text": [
      "Quantidade de registros com valor 0 171\n",
      "Percentual de dados Faltantes 18.65%\n"
     ]
    }
   ],
   "source": [
    "#Campor colesterol tem vários registros sem informação\n",
    "\n",
    "temp = df_limpo.loc[df_limpo['Cholesterol'] == 0].shape[0]\n",
    "percent = temp / df_limpo.shape[0] * 100\n",
    "\n",
    "print(f'Quantidade de registros com valor 0 {temp}')\n",
    "print(f'Percentual de dados Faltantes {round(percent,2)}%')\n"
   ]
  },
  {
   "cell_type": "code",
   "execution_count": 257,
   "metadata": {},
   "outputs": [],
   "source": [
    "#Prenchendo os valores que estavam com valor 0 com o valor da média\n",
    "colesterol_medio = df_limpo.loc[df_limpo['Cholesterol'] != 0]['Cholesterol'].mean()\n",
    "df_limpo['Cholesterol'] = df_limpo['Cholesterol'].fillna(colesterol_medio, inplace = True)"
   ]
  },
  {
   "cell_type": "code",
   "execution_count": 260,
   "metadata": {},
   "outputs": [
    {
     "data": {
      "text/html": [
       "<div>\n",
       "<style scoped>\n",
       "    .dataframe tbody tr th:only-of-type {\n",
       "        vertical-align: middle;\n",
       "    }\n",
       "\n",
       "    .dataframe tbody tr th {\n",
       "        vertical-align: top;\n",
       "    }\n",
       "\n",
       "    .dataframe thead th {\n",
       "        text-align: right;\n",
       "    }\n",
       "</style>\n",
       "<table border=\"1\" class=\"dataframe\">\n",
       "  <thead>\n",
       "    <tr style=\"text-align: right;\">\n",
       "      <th></th>\n",
       "      <th>count</th>\n",
       "      <th>mean</th>\n",
       "      <th>std</th>\n",
       "      <th>min</th>\n",
       "      <th>25%</th>\n",
       "      <th>50%</th>\n",
       "      <th>75%</th>\n",
       "      <th>max</th>\n",
       "    </tr>\n",
       "  </thead>\n",
       "  <tbody>\n",
       "    <tr>\n",
       "      <th>Age</th>\n",
       "      <td>917.0</td>\n",
       "      <td>53.509269</td>\n",
       "      <td>9.437636</td>\n",
       "      <td>28.0</td>\n",
       "      <td>47.0</td>\n",
       "      <td>54.0</td>\n",
       "      <td>60.0</td>\n",
       "      <td>77.0</td>\n",
       "    </tr>\n",
       "    <tr>\n",
       "      <th>RestingBP</th>\n",
       "      <td>917.0</td>\n",
       "      <td>132.540894</td>\n",
       "      <td>17.999749</td>\n",
       "      <td>80.0</td>\n",
       "      <td>120.0</td>\n",
       "      <td>130.0</td>\n",
       "      <td>140.0</td>\n",
       "      <td>200.0</td>\n",
       "    </tr>\n",
       "    <tr>\n",
       "      <th>FastingBS</th>\n",
       "      <td>917.0</td>\n",
       "      <td>0.233370</td>\n",
       "      <td>0.423206</td>\n",
       "      <td>0.0</td>\n",
       "      <td>0.0</td>\n",
       "      <td>0.0</td>\n",
       "      <td>0.0</td>\n",
       "      <td>1.0</td>\n",
       "    </tr>\n",
       "    <tr>\n",
       "      <th>MaxHR</th>\n",
       "      <td>917.0</td>\n",
       "      <td>136.789531</td>\n",
       "      <td>25.467129</td>\n",
       "      <td>60.0</td>\n",
       "      <td>120.0</td>\n",
       "      <td>138.0</td>\n",
       "      <td>156.0</td>\n",
       "      <td>202.0</td>\n",
       "    </tr>\n",
       "    <tr>\n",
       "      <th>Oldpeak</th>\n",
       "      <td>917.0</td>\n",
       "      <td>0.886696</td>\n",
       "      <td>1.066960</td>\n",
       "      <td>-2.6</td>\n",
       "      <td>0.0</td>\n",
       "      <td>0.6</td>\n",
       "      <td>1.5</td>\n",
       "      <td>6.2</td>\n",
       "    </tr>\n",
       "    <tr>\n",
       "      <th>HeartDisease</th>\n",
       "      <td>917.0</td>\n",
       "      <td>0.552890</td>\n",
       "      <td>0.497466</td>\n",
       "      <td>0.0</td>\n",
       "      <td>0.0</td>\n",
       "      <td>1.0</td>\n",
       "      <td>1.0</td>\n",
       "      <td>1.0</td>\n",
       "    </tr>\n",
       "  </tbody>\n",
       "</table>\n",
       "</div>"
      ],
      "text/plain": [
       "              count        mean        std   min    25%    50%    75%    max\n",
       "Age           917.0   53.509269   9.437636  28.0   47.0   54.0   60.0   77.0\n",
       "RestingBP     917.0  132.540894  17.999749  80.0  120.0  130.0  140.0  200.0\n",
       "FastingBS     917.0    0.233370   0.423206   0.0    0.0    0.0    0.0    1.0\n",
       "MaxHR         917.0  136.789531  25.467129  60.0  120.0  138.0  156.0  202.0\n",
       "Oldpeak       917.0    0.886696   1.066960  -2.6    0.0    0.6    1.5    6.2\n",
       "HeartDisease  917.0    0.552890   0.497466   0.0    0.0    1.0    1.0    1.0"
      ]
     },
     "execution_count": 260,
     "metadata": {},
     "output_type": "execute_result"
    }
   ],
   "source": [
    "#Verificando novamente os valores para confirmar a manipulação do Dado\n",
    "df_limpo.describe().T"
   ]
  },
  {
   "cell_type": "code",
   "execution_count": null,
   "metadata": {},
   "outputs": [],
   "source": []
  }
 ],
 "metadata": {
  "interpreter": {
   "hash": "1374542d1f266891544f03655a132db6f26f59231227849e61203db2a1e23101"
  },
  "kernelspec": {
   "display_name": "Python 3.9.7 ('base')",
   "language": "python",
   "name": "python3"
  },
  "language_info": {
   "codemirror_mode": {
    "name": "ipython",
    "version": 3
   },
   "file_extension": ".py",
   "mimetype": "text/x-python",
   "name": "python",
   "nbconvert_exporter": "python",
   "pygments_lexer": "ipython3",
   "version": "3.9.7"
  },
  "orig_nbformat": 4
 },
 "nbformat": 4,
 "nbformat_minor": 2
}
